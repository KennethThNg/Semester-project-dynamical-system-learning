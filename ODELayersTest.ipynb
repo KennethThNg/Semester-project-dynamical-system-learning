{
 "cells": [
  {
   "cell_type": "code",
   "execution_count": 1,
   "metadata": {},
   "outputs": [],
   "source": [
    "import torch\n",
    "import torchvision\n",
    "import numpy as np\n",
    "import matplotlib.pyplot as plt \n",
    "import torch.nn as nn\n",
    "import torch.nn.functional as F\n",
    "import torch.optim as optim\n",
    "from torch.autograd import Variable\n",
    "import random\n",
    "import math\n",
    "from tqdm import tqdm\n"
   ]
  },
  {
   "cell_type": "markdown",
   "metadata": {},
   "source": [
    "# Layer and models"
   ]
  },
  {
   "cell_type": "code",
   "execution_count": 2,
   "metadata": {},
   "outputs": [],
   "source": [
    "class LinearODELayer(nn.Module):\n",
    "    def __init__(self, in_features, out_features, bias=False):\n",
    "        super(LinearODELayer, self).__init__()\n",
    "        self.in_features = in_features\n",
    "        self.out_features = out_features\n",
    "        self.weight = nn.Parameter(torch.Tensor(self.out_features, self.in_features))\n",
    "        if bias:\n",
    "            self.bias = nn.Parameter(torch.Tensor(out_features))\n",
    "        else:\n",
    "            self.register_parameter('bias', None)\n",
    "        self.reset_parameters()\n",
    "    # the forward step\n",
    "    def forward(self, x):\n",
    "        output = x.mm(self.weight.reshape(2,2))\n",
    "        if self.bias is not None:\n",
    "            output += self.bias\n",
    "        return output\n",
    "    # the backward function is not necessary, sincewe have only used\n",
    "    # functions from pytorch (in particular, .reshape and .mm)\n",
    "    \n",
    "    # this function is inherited from the pytorch class Linear\n",
    "    def reset_parameters(self):\n",
    "        nn.init.kaiming_uniform_(self.weight, a=math.sqrt(5))\n",
    "        if self.bias is not None:\n",
    "            fan_in, _ = nn.init._calculate_fan_in_and_fan_out(self.weight)\n",
    "            bound = 1 / math.sqrt(fan_in)\n",
    "            nn.init.uniform_(self.bias, -bound, bound)\n",
    "            \n",
    "#Thsi object can be extended\n",
    "class NonLinearODELayer(nn.Module):\n",
    "    def __init__(self, in_dim, hid_dim, out_dim):\n",
    "        super(NonLinearODELayer, self).__init__()\n",
    "        self.in_dim = in_dim\n",
    "        self.hid_dim = hid_dim\n",
    "        self.out_dim = out_dim\n",
    "        self.weight = nn.Parameter(torch.Tensor(self.in_dim, self.hid_dim, self.out_dim))\n",
    "        \n",
    "    def forward(self, x):\n",
    "        xB = x.matmul(B).permute(0,2,1)\n",
    "        xBx = x.matmul(xB.permute(1,0,2))\n",
    "        out = torch.diagonal(xBx.permute(1,0,2))\n",
    "        return out\n",
    "    \n",
    "    def reset_parameters(self):\n",
    "        init.kaiming_uniform_(self.weight, a=math.srqt(9))\n",
    "        \n",
    "class LinearODEModel(nn.Module):\n",
    "    def __init__(self, in_feature, out_feature, bias=False):\n",
    "        super(LinearODEModel, self).__init__()\n",
    "        self.in_feature = in_feature\n",
    "        self.out_feature = out_feature\n",
    "        self.bias = bias\n",
    "        self.ode = LinearODELayer(self.in_feature, self.out_feature, self.bias)\n",
    "        \n",
    "    def forward(self, x):\n",
    "        out = self.ode(x)\n",
    "        return out\n",
    "    \n",
    "    \n",
    "class NNODEModel(nn.Module):\n",
    "    def __init__(self, in_dim, hid_dim, out_dim):\n",
    "        super(NNODEModel, self).__init__()\n",
    "        self.in_dim = in_dim\n",
    "        self.hid_dim = hid_dim\n",
    "        self.out_dim = out_dim\n",
    "        \n",
    "        self.lin_ode = LinearODELayer(self.in_dim, self.out_dim)\n",
    "        self.nl_ode = NonLinearODELayer(self.in_dim, self.hid_dim, self.out_dim)\n",
    "        \n",
    "    def forward(self, x):\n",
    "        out = self.lin_ode(x) + self.nl_ode(x)\n",
    "        return out"
   ]
  },
  {
   "cell_type": "markdown",
   "metadata": {},
   "source": [
    "# Training Pendulum with Linear ODE Model"
   ]
  },
  {
   "cell_type": "code",
   "execution_count": 108,
   "metadata": {},
   "outputs": [
    {
     "name": "stdout",
     "output_type": "stream",
     "text": [
      "train_x.shape: torch.Size([100, 2])\n",
      "train_y.shape: torch.Size([100, 2])\n"
     ]
    }
   ],
   "source": [
    "kk = 0.01\n",
    "AA = np.asarray([[1,1],[-kk,1]])\n",
    "\n",
    "sol = [[0.99,1]]\n",
    "for i in range(100):\n",
    "    sol.append(np.dot(np.asarray(sol[-1]),AA))\n",
    "    \n",
    "X = np.asarray(sol)[:-1]\n",
    "Y = np.asarray(sol)[1:]\n",
    "train_x = torch.FloatTensor(X)\n",
    "train_y = torch.FloatTensor(Y)\n",
    "\n",
    "print('train_x.shape:', train_x.shape)#train_input\n",
    "print('train_y.shape:', train_y.shape)#train_output"
   ]
  },
  {
   "cell_type": "code",
   "execution_count": 7,
   "metadata": {},
   "outputs": [
    {
     "name": "stdout",
     "output_type": "stream",
     "text": [
      "Real weigths of the matrix:\n",
      "[[ 1.    1.  ]\n",
      " [-0.01  1.  ]]\n",
      "Initial weigths of the matrix:\n",
      "[Parameter containing:\n",
      "tensor([[ 0.4557,  0.6042],\n",
      "        [-0.6894,  0.4489]], requires_grad=True)]\n",
      "Final weigths of the matrix:\n",
      "[Parameter containing:\n",
      "tensor([[ 0.9977,  0.9983],\n",
      "        [-0.0100,  1.0000]], requires_grad=True)]\n"
     ]
    },
    {
     "data": {
      "image/png": "[encoded data removed]",
      "text/plain": [
       "<Figure size 432x288 with 1 Axes>"
      ]
     },
     "metadata": {
      "needs_background": "light"
     },
     "output_type": "display_data"
    }
   ],
   "source": [
    "model = LinearODEModel(2, 2)\n",
    "loss_fn = nn.MSELoss()\n",
    "optimizer = optim.SGD(model.parameters(), lr=0.01)\n",
    "print('Real weigths of the matrix:')\n",
    "print(AA)\n",
    "print('Initial weigths of the matrix:')\n",
    "print(list(model.parameters()))\n",
    "\n",
    "train_loss = []\n",
    "\n",
    "for epoch in range(600):  # number of epochs\n",
    "    # Step 1. Remember that Pytorch accumulates gradients.\n",
    "    # We need to clear them out before each instance\n",
    "    model.zero_grad()\n",
    "\n",
    "    # Step 2. Run our forward pass.\n",
    "    prediction = model(train_x) #minibatches of size 1: to be modified\n",
    "    # Step 3. Compute the loss, gradients, and update the parameters by\n",
    "    #  calling optimizer.step()\n",
    "    loss = loss_fn(prediction, train_y)\n",
    "    train_loss.append(loss)\n",
    "    loss.backward()\n",
    "    optimizer.step()\n",
    "    \n",
    "print('Final weigths of the matrix:')\n",
    "print(list(model.parameters()))\n",
    "plt.plot(train_loss)\n",
    "plt.show()"
   ]
  },
  {
   "cell_type": "code",
   "execution_count": 12,
   "metadata": {},
   "outputs": [
    {
     "data": {
      "image/png": "[encoded data removed]",
      "text/plain": [
       "<Figure size 432x288 with 1 Axes>"
      ]
     },
     "metadata": {
      "needs_background": "light"
     },
     "output_type": "display_data"
    }
   ],
   "source": [
    "plt.plot(train_y[:,0].numpy(), label='Ground truth')\n",
    "plt.plot(prediction[:,0].detach().numpy(), label='Prediction')\n",
    "plt.legend()\n",
    "plt.show()"
   ]
  },
  {
   "cell_type": "markdown",
   "metadata": {},
   "source": [
    "# Training pendulum with bias"
   ]
  },
  {
   "cell_type": "code",
   "execution_count": 109,
   "metadata": {},
   "outputs": [
    {
     "name": "stdout",
     "output_type": "stream",
     "text": [
      "Real weigths of the matrix:\n",
      "[[ 1.    1.  ]\n",
      " [-0.01  1.  ]]\n",
      "Initial weigths of the matrix:\n",
      "[Parameter containing:\n",
      "tensor([[-0.6144,  0.5536],\n",
      "        [ 0.1536, -0.4627]], requires_grad=True), Parameter containing:\n",
      "tensor([-0.5922,  0.0529], requires_grad=True)]\n",
      "Final weigths of the matrix:\n",
      "[Parameter containing:\n",
      "tensor([[ 0.9899,  0.9979],\n",
      "        [-0.0098,  1.0000]], requires_grad=True), Parameter containing:\n",
      "tensor([-0.0072, -0.0008], requires_grad=True)]\n"
     ]
    },
    {
     "data": {
      "image/png": "[encoded data removed]",
      "text/plain": [
       "<Figure size 432x288 with 1 Axes>"
      ]
     },
     "metadata": {
      "needs_background": "light"
     },
     "output_type": "display_data"
    }
   ],
   "source": [
    "#with bias\n",
    "model = LinearODEModel(2, 2, True)\n",
    "loss_fn = nn.MSELoss()\n",
    "optimizer = optim.SGD(model.parameters(), lr=0.01)\n",
    "print('Real weigths of the matrix:')\n",
    "print(AA)\n",
    "print('Initial weigths of the matrix:')\n",
    "print(list(model.parameters()))\n",
    "\n",
    "train_loss = []\n",
    "\n",
    "for epoch in range(600):  # number of epochs\n",
    "    # Step 1. Remember that Pytorch accumulates gradients.\n",
    "    # We need to clear them out before each instance\n",
    "    model.zero_grad()\n",
    "\n",
    "    # Step 2. Run our forward pass.\n",
    "    prediction = model(train_x) #minibatches of size 1: to be modified\n",
    "    # Step 3. Compute the loss, gradients, and update the parameters by\n",
    "    #  calling optimizer.step()\n",
    "    loss = loss_fn(prediction, train_y)\n",
    "    train_loss.append(loss)\n",
    "    loss.backward()\n",
    "    optimizer.step()\n",
    "    \n",
    "print('Final weigths of the matrix:')\n",
    "print(list(model.parameters()))\n",
    "plt.plot(train_loss)\n",
    "plt.show()"
   ]
  },
  {
   "cell_type": "code",
   "execution_count": 110,
   "metadata": {},
   "outputs": [
    {
     "data": {
      "image/png": "[encoded data removed]",
      "text/plain": [
       "<Figure size 432x288 with 1 Axes>"
      ]
     },
     "metadata": {
      "needs_background": "light"
     },
     "output_type": "display_data"
    }
   ],
   "source": [
    "plt.plot(train_y[:,0].numpy(), label='Ground truth')\n",
    "plt.plot(prediction[:,0].detach().numpy(), label='Prediction')\n",
    "plt.legend()\n",
    "plt.show()"
   ]
  },
  {
   "cell_type": "code",
   "execution_count": 128,
   "metadata": {},
   "outputs": [
    {
     "data": {
      "image/png": "[encoded data removed]",
      "text/plain": [
       "<Figure size 432x288 with 1 Axes>"
      ]
     },
     "metadata": {
      "needs_background": "light"
     },
     "output_type": "display_data"
    }
   ],
   "source": [
    "Atest = np.asarray([[0.9899,0.9979],[-0.0098,1.0000]])\n",
    "btest = np.asarray([-0.0072, -0.0008])\n",
    "\n",
    "soltest = [[0.99,1]]\n",
    "\n",
    "for i in range(100):\n",
    "    soltest.append(np.dot(np.asarray(soltest[-1]),Atest) + btest)\n",
    "    \n",
    "Xtest = np.asarray(soltest)\n",
    "plt.plot(Xtest)\n",
    "plt.show()"
   ]
  },
  {
   "cell_type": "markdown",
   "metadata": {},
   "source": [
    "# Training Lorenz attractor with Non Linear ODE model"
   ]
  },
  {
   "cell_type": "code",
   "execution_count": 3,
   "metadata": {},
   "outputs": [],
   "source": [
    "sigma = 3\n",
    "rho = 1\n",
    "beta = 3"
   ]
  },
  {
   "cell_type": "code",
   "execution_count": 98,
   "metadata": {},
   "outputs": [
    {
     "name": "stdout",
     "output_type": "stream",
     "text": [
      "train_x.shape: torch.Size([100, 3])\n",
      "train_y.shape: torch.Size([100, 3])\n"
     ]
    }
   ],
   "source": [
    "A = np.asarray([[1-sigma, sigma, 0], [rho, 0, 0], [0, 0, 1-beta]])\n",
    "B = np.asarray([[0,0,0,0,0,0], [0,0,0,0,-1,0]. [0,0,0,1,0,0]])\n",
    "\n",
    "sol = [[ 1., 0., -1]]\n",
    "x_expand = np.zeros(6)\n",
    "\n",
    "for i in range(100):\n",
    "    x = np.asarray(sol[-1])\n",
    "    Ax = A.dot(x)\n",
    "    f = Ax + xBx\n",
    "    sol.append(f)\n",
    "    \n",
    "X = np.asarray(sol)[:-1]\n",
    "Y = np.asarray(sol)[1:]\n",
    "train_x = torch.FloatTensor(X)\n",
    "train_y = torch.FloatTensor(Y)\n",
    "\n",
    "print('train_x.shape:', train_x.shape)#train_input\n",
    "print('train_y.shape:', train_y.shape)#train_output"
   ]
  },
  {
   "cell_type": "code",
   "execution_count": 95,
   "metadata": {},
   "outputs": [
    {
     "name": "stdout",
     "output_type": "stream",
     "text": [
      "[[[ 0  0  0]\n",
      "  [ 0  0 -1]\n",
      "  [ 0  1  0]]\n",
      "\n",
      " [[ 0  0  0]\n",
      "  [ 0  0  0]\n",
      "  [ 0  0  0]]\n",
      "\n",
      " [[ 0  0  0]\n",
      "  [ 0  0  0]\n",
      "  [ 0  0  0]]]\n"
     ]
    }
   ],
   "source": [
    "print(B)"
   ]
  },
  {
   "cell_type": "code",
   "execution_count": 96,
   "metadata": {},
   "outputs": [
    {
     "data": {
      "text/plain": [
       "array([0., 0., 1.])"
      ]
     },
     "execution_count": 96,
     "metadata": {},
     "output_type": "execute_result"
    }
   ],
   "source": [
    "np.asarray([ 1., 0., 0]).dot(B.dot(np.asarray([ 0, 1., 0])))"
   ]
  },
  {
   "cell_type": "code",
   "execution_count": 104,
   "metadata": {},
   "outputs": [],
   "source": [
    "x = np.asarray([ 0., 1., 0])\n",
    "Ax = A.dot(x)\n",
    "xBx = x.dot(B.dot(x))\n",
    "f = Ax + xBx"
   ]
  },
  {
   "cell_type": "code",
   "execution_count": 105,
   "metadata": {},
   "outputs": [
    {
     "name": "stdout",
     "output_type": "stream",
     "text": [
      "[0. 0. 0.]\n"
     ]
    }
   ],
   "source": [
    "print(xBx)"
   ]
  },
  {
   "cell_type": "code",
   "execution_count": 99,
   "metadata": {},
   "outputs": [
    {
     "data": {
      "text/plain": [
       "array([[ 1.00000000e+000,  0.00000000e+000, -1.00000000e+000],\n",
       "       [-2.00000000e+000,  2.00000000e+000,  2.00000000e+000],\n",
       "       [ 1.00000000e+001,  2.00000000e+000, -8.00000000e+000],\n",
       "       [-1.40000000e+001,  9.00000000e+001,  3.60000000e+001],\n",
       "       [ 2.98000000e+002,  4.90000000e+002, -1.33200000e+003],\n",
       "       [ 8.74000000e+002,  3.97234000e+005,  1.48684000e+005],\n",
       "       [ 1.18995400e+006, -1.29948942e+008,  3.46885148e+008],\n",
       "       [-3.92226734e+008, -4.12777368e+014, -1.54633957e+014],\n",
       "       [-1.23833132e+015, -6.06515720e+022,  1.61902319e+023],\n",
       "       [-1.81954713e+023,  2.00488713e+038,  7.51067412e+037],\n",
       "       [ 6.01466138e+038,  1.36660256e+061, -3.64798663e+061],\n",
       "       [ 4.09980767e+061,  2.19414043e+100,  8.21965162e+099],\n",
       "       [ 6.58242129e+100, -3.36989908e+161,  8.99555376e+161],\n",
       "       [-1.01096972e+162, -5.92125246e+262, -2.21820954e+262],\n",
       "       [-1.77637574e+263,             -inf,              inf],\n",
       "       [             nan,              nan,              nan],\n",
       "       [             nan,              nan,              nan],\n",
       "       [             nan,              nan,              nan],\n",
       "       [             nan,              nan,              nan],\n",
       "       [             nan,              nan,              nan],\n",
       "       [             nan,              nan,              nan],\n",
       "       [             nan,              nan,              nan],\n",
       "       [             nan,              nan,              nan],\n",
       "       [             nan,              nan,              nan],\n",
       "       [             nan,              nan,              nan],\n",
       "       [             nan,              nan,              nan],\n",
       "       [             nan,              nan,              nan],\n",
       "       [             nan,              nan,              nan],\n",
       "       [             nan,              nan,              nan],\n",
       "       [             nan,              nan,              nan],\n",
       "       [             nan,              nan,              nan],\n",
       "       [             nan,              nan,              nan],\n",
       "       [             nan,              nan,              nan],\n",
       "       [             nan,              nan,              nan],\n",
       "       [             nan,              nan,              nan],\n",
       "       [             nan,              nan,              nan],\n",
       "       [             nan,              nan,              nan],\n",
       "       [             nan,              nan,              nan],\n",
       "       [             nan,              nan,              nan],\n",
       "       [             nan,              nan,              nan],\n",
       "       [             nan,              nan,              nan],\n",
       "       [             nan,              nan,              nan],\n",
       "       [             nan,              nan,              nan],\n",
       "       [             nan,              nan,              nan],\n",
       "       [             nan,              nan,              nan],\n",
       "       [             nan,              nan,              nan],\n",
       "       [             nan,              nan,              nan],\n",
       "       [             nan,              nan,              nan],\n",
       "       [             nan,              nan,              nan],\n",
       "       [             nan,              nan,              nan],\n",
       "       [             nan,              nan,              nan],\n",
       "       [             nan,              nan,              nan],\n",
       "       [             nan,              nan,              nan],\n",
       "       [             nan,              nan,              nan],\n",
       "       [             nan,              nan,              nan],\n",
       "       [             nan,              nan,              nan],\n",
       "       [             nan,              nan,              nan],\n",
       "       [             nan,              nan,              nan],\n",
       "       [             nan,              nan,              nan],\n",
       "       [             nan,              nan,              nan],\n",
       "       [             nan,              nan,              nan],\n",
       "       [             nan,              nan,              nan],\n",
       "       [             nan,              nan,              nan],\n",
       "       [             nan,              nan,              nan],\n",
       "       [             nan,              nan,              nan],\n",
       "       [             nan,              nan,              nan],\n",
       "       [             nan,              nan,              nan],\n",
       "       [             nan,              nan,              nan],\n",
       "       [             nan,              nan,              nan],\n",
       "       [             nan,              nan,              nan],\n",
       "       [             nan,              nan,              nan],\n",
       "       [             nan,              nan,              nan],\n",
       "       [             nan,              nan,              nan],\n",
       "       [             nan,              nan,              nan],\n",
       "       [             nan,              nan,              nan],\n",
       "       [             nan,              nan,              nan],\n",
       "       [             nan,              nan,              nan],\n",
       "       [             nan,              nan,              nan],\n",
       "       [             nan,              nan,              nan],\n",
       "       [             nan,              nan,              nan],\n",
       "       [             nan,              nan,              nan],\n",
       "       [             nan,              nan,              nan],\n",
       "       [             nan,              nan,              nan],\n",
       "       [             nan,              nan,              nan],\n",
       "       [             nan,              nan,              nan],\n",
       "       [             nan,              nan,              nan],\n",
       "       [             nan,              nan,              nan],\n",
       "       [             nan,              nan,              nan],\n",
       "       [             nan,              nan,              nan],\n",
       "       [             nan,              nan,              nan],\n",
       "       [             nan,              nan,              nan],\n",
       "       [             nan,              nan,              nan],\n",
       "       [             nan,              nan,              nan],\n",
       "       [             nan,              nan,              nan],\n",
       "       [             nan,              nan,              nan],\n",
       "       [             nan,              nan,              nan],\n",
       "       [             nan,              nan,              nan],\n",
       "       [             nan,              nan,              nan],\n",
       "       [             nan,              nan,              nan],\n",
       "       [             nan,              nan,              nan]])"
      ]
     },
     "execution_count": 99,
     "metadata": {},
     "output_type": "execute_result"
    }
   ],
   "source": [
    "X"
   ]
  },
  {
   "cell_type": "code",
   "execution_count": 80,
   "metadata": {},
   "outputs": [
    {
     "data": {
      "text/plain": [
       "array([1, 2, 3])"
      ]
     },
     "execution_count": 80,
     "metadata": {},
     "output_type": "execute_result"
    }
   ],
   "source": [
    "x = np.array([1,2,3])\n",
    "x"
   ]
  },
  {
   "cell_type": "code",
   "execution_count": 81,
   "metadata": {},
   "outputs": [
    {
     "data": {
      "text/plain": [
       "array([[[ 0,  0,  0],\n",
       "        [ 0,  0,  0],\n",
       "        [ 0,  0,  0]],\n",
       "\n",
       "       [[ 0,  0,  0],\n",
       "        [ 0,  0, -1],\n",
       "        [ 0,  0,  0]],\n",
       "\n",
       "       [[ 0,  1,  0],\n",
       "        [ 0,  0,  0],\n",
       "        [ 0,  0,  0]]])"
      ]
     },
     "execution_count": 81,
     "metadata": {},
     "output_type": "execute_result"
    }
   ],
   "source": [
    "B = np.asarray([np.array([[0,0,0], [0,0,0], [0,0,0]]), np.array([[0,0,0], [0,0,-1], [0,0,0]]), np.array([[0,1,0], [0,0,0], [0,0,0]])])\n",
    "B"
   ]
  },
  {
   "cell_type": "code",
   "execution_count": 30,
   "metadata": {},
   "outputs": [
    {
     "data": {
      "text/plain": [
       "array([[ 0,  0,  0],\n",
       "       [-3,  0,  0],\n",
       "       [ 2,  0,  0]])"
      ]
     },
     "execution_count": 30,
     "metadata": {},
     "output_type": "execute_result"
    }
   ],
   "source": [
    "xB = x.dot(B).T\n",
    "xB"
   ]
  },
  {
   "cell_type": "code",
   "execution_count": 31,
   "metadata": {},
   "outputs": [
    {
     "data": {
      "text/plain": [
       "array([ 0, -3,  2])"
      ]
     },
     "execution_count": 31,
     "metadata": {},
     "output_type": "execute_result"
    }
   ],
   "source": [
    "xBx = xB.dot(x)\n",
    "xBx"
   ]
  },
  {
   "cell_type": "code",
   "execution_count": 9,
   "metadata": {},
   "outputs": [
    {
     "data": {
      "text/plain": [
       "array([1, 2, 3])"
      ]
     },
     "execution_count": 9,
     "metadata": {},
     "output_type": "execute_result"
    }
   ],
   "source": [
    "x"
   ]
  },
  {
   "cell_type": "code",
   "execution_count": 82,
   "metadata": {},
   "outputs": [
    {
     "data": {
      "text/plain": [
       "array([ 6, -6,  0])"
      ]
     },
     "execution_count": 82,
     "metadata": {},
     "output_type": "execute_result"
    }
   ],
   "source": [
    "y = x.dot(B.dot(x))\n",
    "y"
   ]
  },
  {
   "cell_type": "code",
   "execution_count": 73,
   "metadata": {},
   "outputs": [
    {
     "data": {
      "text/plain": [
       "(3,)"
      ]
     },
     "execution_count": 73,
     "metadata": {},
     "output_type": "execute_result"
    }
   ],
   "source": [
    "y.shape"
   ]
  },
  {
   "cell_type": "code",
   "execution_count": 83,
   "metadata": {},
   "outputs": [],
   "source": [
    "y = y.dot(B.dot(y))"
   ]
  },
  {
   "cell_type": "code",
   "execution_count": 84,
   "metadata": {},
   "outputs": [
    {
     "data": {
      "text/plain": [
       "array([0, 0, 0])"
      ]
     },
     "execution_count": 84,
     "metadata": {},
     "output_type": "execute_result"
    }
   ],
   "source": [
    "y"
   ]
  },
  {
   "cell_type": "code",
   "execution_count": null,
   "metadata": {},
   "outputs": [],
   "source": []
  }
 ],
 "metadata": {
  "kernelspec": {
   "display_name": "Python 3",
   "language": "python",
   "name": "python3"
  },
  "language_info": {
   "codemirror_mode": {
    "name": "ipython",
    "version": 3
   },
   "file_extension": ".py",
   "mimetype": "text/x-python",
   "name": "python",
   "nbconvert_exporter": "python",
   "pygments_lexer": "ipython3",
   "version": "3.7.3"
  }
 },
 "nbformat": 4,
 "nbformat_minor": 4
}
