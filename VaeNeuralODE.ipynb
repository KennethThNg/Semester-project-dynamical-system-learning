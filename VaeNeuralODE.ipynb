{
 "cells": [
  {
   "cell_type": "code",
   "execution_count": 1,
   "metadata": {},
   "outputs": [],
   "source": [
    "import torch\n",
    "import torchvision\n",
    "import numpy as np\n",
    "import matplotlib.pyplot as plt \n",
    "import torch.nn as nn\n",
    "import torch.nn.functional as F\n",
    "import torch.optim as optim\n",
    "from torch.autograd import Variable\n",
    "import random\n",
    "import math\n",
    "from tqdm import tqdm"
   ]
  },
  {
   "cell_type": "markdown",
   "metadata": {},
   "source": [
    "# Model"
   ]
  },
  {
   "cell_type": "code",
   "execution_count": 2,
   "metadata": {},
   "outputs": [],
   "source": [
    "def to_np(x):\n",
    "    return x.detach().cpu().numpy()"
   ]
  },
  {
   "cell_type": "code",
   "execution_count": 3,
   "metadata": {},
   "outputs": [],
   "source": [
    "def ode_solve(z0, t0, t1, f):\n",
    "    \"\"\"\n",
    "    Simplest Euler ODE initial value solver\n",
    "    \"\"\"\n",
    "    h_max = 0.05\n",
    "    n_steps = math.ceil((abs(t1 - t0)/h_max).max().item())\n",
    "\n",
    "    h = (t1 - t0)/n_steps\n",
    "    t = t0\n",
    "    z = z0\n",
    "\n",
    "    for i_step in range(n_steps):\n",
    "        z = z + h * f(z, t)\n",
    "        t = t + h\n",
    "    return z"
   ]
  },
  {
   "cell_type": "code",
   "execution_count": 4,
   "metadata": {},
   "outputs": [],
   "source": [
    "class VaeODEF(nn.Module):\n",
    "    def forward_grad(self, z, t, grad_out):\n",
    "        batch_size = z.shape[0] \n",
    "        out = self.forward(z, t)\n",
    "\n",
    "        a = grad_out\n",
    "        adfdz, *adfdp = torch.autograd.grad((out,), (z, self.p) , grad_outputs=(a), allow_unused=True, retain_graph=True)\n",
    "        \n",
    "        if adfdp is not None:\n",
    "            adfdp = torch.cat([p_grad.flatten() for p_grad in adfdp]).unsqueeze(0)\n",
    "            adfdp = adfdp.expand(batch_size, -1) / batch_size\n",
    "\n",
    "        return adfdz, adfdp"
   ]
  },
  {
   "cell_type": "code",
   "execution_count": 5,
   "metadata": {},
   "outputs": [],
   "source": [
    "class Dynamical_system_layer(torch.autograd.Function):\n",
    "    @staticmethod\n",
    "    def forward(ctx, z0, t, flat_parameters, func):\n",
    "        assert isinstance(func, VaeODEF)\n",
    "        batch_size, *z_dim = z0.size()\n",
    "        time_len = t.size(0)\n",
    "        \n",
    "        with torch.no_grad():\n",
    "            z = torch.zeros(time_len, batch_size, *z_dim).to(z0)\n",
    "            z[0] = z0\n",
    "            for it in range(time_len - 1):\n",
    "                z0 = ode_solve(z0, t[it], t[it+1], func)\n",
    "                z[it+1] = z0\n",
    "                \n",
    "        ctx.func = func\n",
    "        ctx.save_for_backward(t, z.clone(), flat_parameters)\n",
    "        return z\n",
    "    \n",
    "    @staticmethod\n",
    "    def backward(ctx, grad_out):\n",
    "        func = ctx.func\n",
    "        t, z, flat_parameters = ctx.saved_tensors\n",
    "        time_len, batch_size, *z_dim = z.size()\n",
    "        n_param = flat_parameters.size(1)\n",
    "            \n",
    "        #grad_out = grad_out.view(time_len, batch_size, z_dim)\n",
    "            \n",
    "            \n",
    "        with torch.no_grad():\n",
    "    \n",
    "            adzdp = torch.zeros(time_len, batch_size, *z_dim, n_param).to(grad_out)\n",
    "            u = adzdp[0]\n",
    "            for it in range(time_len - 1):\n",
    "                \n",
    "                zi = z[it]\n",
    "                ti = t[it]\n",
    "                \n",
    "                ai = grad_out[it]\n",
    "                \n",
    "                #zi = zi.view(batch_size, z_dim)\n",
    "                #ai = ai.view(batch_size, z_dim)\n",
    "                with torch.set_grad_enabled(True):\n",
    "                    zi = zi.detach().requires_grad_(True)\n",
    "                    adfdz, adfdp = func.forward_grad(zi, ti, ai)\n",
    "                    \n",
    "                    adfdp = adfdp.to(zi) if adfdp is not None else torch.zeros(batch_size, n_param)\n",
    "                    \n",
    "                def dual_dynamic(u, t):\n",
    "                    return adfdz.matmul(u) + adfdp.unsqueeze(0)\n",
    "                \n",
    "                u = ode_solve(u, ti, t[it+1], dual_dynamic)\n",
    "                \n",
    "                adzdp[it+1] = u\n",
    "                \n",
    "        return adzdp, None, None, None"
   ]
  },
  {
   "cell_type": "code",
   "execution_count": 62,
   "metadata": {},
   "outputs": [
    {
     "data": {
      "text/plain": [
       "torch.Size([1, 2, 4])"
      ]
     },
     "execution_count": 62,
     "metadata": {},
     "output_type": "execute_result"
    }
   ],
   "source": [
    "dzdp = torch.randn(1,2,4)\n",
    "dzdp.shape"
   ]
  },
  {
   "cell_type": "code",
   "execution_count": 63,
   "metadata": {},
   "outputs": [
    {
     "data": {
      "text/plain": [
       "torch.Size([1, 1, 4])"
      ]
     },
     "execution_count": 63,
     "metadata": {},
     "output_type": "execute_result"
    }
   ],
   "source": [
    "agrad = a.matmul(dzdp)\n",
    "agrad.shape"
   ]
  },
  {
   "cell_type": "code",
   "execution_count": 15,
   "metadata": {},
   "outputs": [
    {
     "data": {
      "text/plain": [
       "torch.Size([10, 10, 4])"
      ]
     },
     "execution_count": 15,
     "metadata": {},
     "output_type": "execute_result"
    }
   ],
   "source": [
    "u = torch.randn(10, 2, 4)\n",
    "u = a.matmul(u)\n",
    "u.shape"
   ]
  },
  {
   "cell_type": "code",
   "execution_count": 5,
   "metadata": {},
   "outputs": [],
   "source": [
    "gr1 = torch.randn(10, 2, 2)\n",
    "gr2 = torch.randn(10, 2, 4)\n",
    "a = torch.randn(20)"
   ]
  },
  {
   "cell_type": "code",
   "execution_count": 6,
   "metadata": {},
   "outputs": [
    {
     "data": {
      "text/plain": [
       "torch.Size([20])"
      ]
     },
     "execution_count": 6,
     "metadata": {},
     "output_type": "execute_result"
    }
   ],
   "source": [
    "a.shape"
   ]
  },
  {
   "cell_type": "code",
   "execution_count": 7,
   "metadata": {},
   "outputs": [
    {
     "data": {
      "text/plain": [
       "torch.Size([10, 2])"
      ]
     },
     "execution_count": 7,
     "metadata": {},
     "output_type": "execute_result"
    }
   ],
   "source": [
    "a=a.view(10, 2)\n",
    "a.shape"
   ]
  },
  {
   "cell_type": "code",
   "execution_count": 16,
   "metadata": {},
   "outputs": [],
   "source": [
    "v = torch.Tensor(10, 2, 4)"
   ]
  },
  {
   "cell_type": "code",
   "execution_count": 11,
   "metadata": {},
   "outputs": [
    {
     "data": {
      "text/plain": [
       "torch.Size([10, 10, 2])"
      ]
     },
     "execution_count": 11,
     "metadata": {},
     "output_type": "execute_result"
    }
   ],
   "source": [
    "ag1 = a.matmul(gr1)\n",
    "ag1.shape"
   ]
  },
  {
   "cell_type": "code",
   "execution_count": 18,
   "metadata": {},
   "outputs": [
    {
     "data": {
      "text/plain": [
       "torch.Size([10, 10, 4])"
      ]
     },
     "execution_count": 18,
     "metadata": {},
     "output_type": "execute_result"
    }
   ],
   "source": [
    "agr1 = ag1.matmul(v)\n",
    "agr1.shape"
   ]
  },
  {
   "cell_type": "code",
   "execution_count": 20,
   "metadata": {},
   "outputs": [
    {
     "data": {
      "text/plain": [
       "torch.Size([10, 10, 4])"
      ]
     },
     "execution_count": 20,
     "metadata": {},
     "output_type": "execute_result"
    }
   ],
   "source": [
    "ag2 = a.matmul(gr2)\n",
    "ag2.shape"
   ]
  },
  {
   "cell_type": "code",
   "execution_count": 6,
   "metadata": {},
   "outputs": [],
   "source": [
    "class VaeNeuralODE(nn.Module):\n",
    "    def __init__(self, func):\n",
    "        super(VaeNeuralODE, self).__init__()\n",
    "        assert isinstance(func, VaeODEF)\n",
    "        self.func = func\n",
    "        self.param = self.func.p\n",
    "        \n",
    "    def forward(self, z0, t, return_whole_sequence=False):\n",
    "        t = t.to(z0)\n",
    "        z = Dynamical_system_layer.apply(z0, t, self.param, self.func)\n",
    "        if return_whole_sequence:\n",
    "            return z\n",
    "        else:\n",
    "            return z[-1]"
   ]
  },
  {
   "cell_type": "code",
   "execution_count": 7,
   "metadata": {},
   "outputs": [],
   "source": [
    "class LinearODEF(VaeODEF):\n",
    "    def __init__(self, p):\n",
    "        super(LinearODEF, self).__init__()\n",
    "        self.p = p.detach().requires_grad_(True)\n",
    "        self.mat_dim = int(self.p.shape[1]**0.5)\n",
    "        \n",
    "    def forward(self, x, t):\n",
    "        A = self.p.reshape(self.mat_dim, self.mat_dim)\n",
    "        out = x.matmul(A)\n",
    "        return out"
   ]
  },
  {
   "cell_type": "code",
   "execution_count": 25,
   "metadata": {},
   "outputs": [],
   "source": [
    "p = torch.Tensor([[0., 1., -1., 0]])\n",
    "p.reshape(int(p.shape[1]**0.5), int(p.shape[1]**0.5))\n",
    "A = p.reshape(int(p.shape[1]**0.5), int(p.shape[1]**0.5))"
   ]
  },
  {
   "cell_type": "code",
   "execution_count": 56,
   "metadata": {},
   "outputs": [
    {
     "data": {
      "text/plain": [
       "VaeNeuralODE(\n",
       "  (func): LinearODEF()\n",
       ")"
      ]
     },
     "execution_count": 56,
     "metadata": {},
     "output_type": "execute_result"
    }
   ],
   "source": [
    "pend = LinearODEF(p)\n",
    "ode_true = VaeNeuralODE(pend)\n",
    "ode_true"
   ]
  },
  {
   "cell_type": "code",
   "execution_count": 57,
   "metadata": {},
   "outputs": [
    {
     "data": {
      "text/plain": [
       "tensor([[ 0.,  1., -1.,  0.]], requires_grad=True)"
      ]
     },
     "execution_count": 57,
     "metadata": {},
     "output_type": "execute_result"
    }
   ],
   "source": [
    "pend.p"
   ]
  },
  {
   "cell_type": "code",
   "execution_count": 44,
   "metadata": {},
   "outputs": [
    {
     "data": {
      "text/plain": [
       "(Parameter containing:\n",
       " tensor([[-0.4621, -0.1349],\n",
       "         [ 0.6370, -0.5632]], requires_grad=True), Parameter containing:\n",
       " tensor([-0.6759,  0.6243], requires_grad=True))"
      ]
     },
     "execution_count": 44,
     "metadata": {},
     "output_type": "execute_result"
    }
   ],
   "source": [
    "tuple(nn.Linear(2,2).parameters())"
   ]
  },
  {
   "cell_type": "code",
   "execution_count": 43,
   "metadata": {},
   "outputs": [
    {
     "data": {
      "text/plain": [
       "()"
      ]
     },
     "execution_count": 43,
     "metadata": {},
     "output_type": "execute_result"
    }
   ],
   "source": [
    "tuple(nn.ReLU().parameters())"
   ]
  },
  {
   "cell_type": "code",
   "execution_count": 27,
   "metadata": {},
   "outputs": [],
   "source": [
    "z0 = torch.Tensor([[0.,1.]])\n",
    "t_max = 6.29*5\n",
    "n_points = 100\n",
    "\n",
    "index_np = np.arange(0, n_points, 1, dtype=np.int)\n",
    "index_np = np.hstack([index_np[:, None]])\n",
    "times_np = np.linspace(0, t_max, num=n_points)\n",
    "times_np = np.hstack([times_np[:, None]])\n",
    "\n",
    "times = torch.from_numpy(times_np[:, :, None]).to(z0)\n",
    "\n",
    "z = ode_true(z0, times, return_whole_sequence=True)"
   ]
  },
  {
   "cell_type": "code",
   "execution_count": 38,
   "metadata": {},
   "outputs": [
    {
     "data": {
      "text/plain": [
       "torch.Size([1, 2])"
      ]
     },
     "execution_count": 38,
     "metadata": {},
     "output_type": "execute_result"
    }
   ],
   "source": [
    "a = torch.randn(1,2)\n",
    "a.shape"
   ]
  },
  {
   "cell_type": "code",
   "execution_count": 46,
   "metadata": {},
   "outputs": [
    {
     "data": {
      "text/plain": [
       "tensor([[ 0.,  1., -1.,  0.]], requires_grad=True)"
      ]
     },
     "execution_count": 46,
     "metadata": {},
     "output_type": "execute_result"
    }
   ],
   "source": [
    "pend.p.requires_grad_(True)"
   ]
  },
  {
   "cell_type": "code",
   "execution_count": 47,
   "metadata": {},
   "outputs": [],
   "source": [
    "z = z.detach().requires_grad_(True)\n",
    "grad1, grad2 = pend.forward_grad(z[10], times[10], a)"
   ]
  },
  {
   "cell_type": "code",
   "execution_count": 48,
   "metadata": {},
   "outputs": [
    {
     "name": "stdout",
     "output_type": "stream",
     "text": [
      "grad 1: torch.Size([1, 2])\n",
      "grad 2: torch.Size([1, 4])\n"
     ]
    }
   ],
   "source": [
    "print('grad 1:', grad1.shape)\n",
    "print('grad 2:', grad2.shape)"
   ]
  },
  {
   "cell_type": "code",
   "execution_count": 393,
   "metadata": {},
   "outputs": [
    {
     "data": {
      "text/plain": [
       "torch.Size([1, 2, 4])"
      ]
     },
     "execution_count": 393,
     "metadata": {},
     "output_type": "execute_result"
    }
   ],
   "source": [
    "h = torch.randn(1,2,4)\n",
    "h.shape"
   ]
  },
  {
   "cell_type": "code",
   "execution_count": 50,
   "metadata": {},
   "outputs": [
    {
     "data": {
      "text/plain": [
       "torch.Size([1, 1, 4])"
      ]
     },
     "execution_count": 50,
     "metadata": {},
     "output_type": "execute_result"
    }
   ],
   "source": [
    "gradtr = grad1.matmul(h)\n",
    "gradtr.shape"
   ]
  },
  {
   "cell_type": "code",
   "execution_count": 51,
   "metadata": {},
   "outputs": [
    {
     "data": {
      "text/plain": [
       "torch.Size([1, 1, 4])"
      ]
     },
     "execution_count": 51,
     "metadata": {},
     "output_type": "execute_result"
    }
   ],
   "source": [
    "gradtr2 = grad2.unsqueeze(0)\n",
    "gradtr2.shape"
   ]
  },
  {
   "cell_type": "code",
   "execution_count": 59,
   "metadata": {},
   "outputs": [
    {
     "data": {
      "text/plain": [
       "torch.Size([1, 1, 4])"
      ]
     },
     "execution_count": 59,
     "metadata": {},
     "output_type": "execute_result"
    }
   ],
   "source": [
    "g = gradtr + gradtr2\n",
    "g.shape"
   ]
  },
  {
   "cell_type": "code",
   "execution_count": 28,
   "metadata": {},
   "outputs": [
    {
     "data": {
      "image/png": "[encoded data removed]",
      "text/plain": [
       "<Figure size 432x288 with 1 Axes>"
      ]
     },
     "metadata": {
      "needs_background": "light"
     },
     "output_type": "display_data"
    }
   ],
   "source": [
    "plt.plot(z[:,0,1].numpy())\n",
    "plt.show()"
   ]
  },
  {
   "cell_type": "code",
   "execution_count": 8,
   "metadata": {},
   "outputs": [],
   "source": [
    "class EncoderFC(nn.Module):\n",
    "    def __init__(self, input_dim, hidden_dim, param_dim):\n",
    "        super(EncoderFC, self).__init__()\n",
    "        self.input_dim = input_dim\n",
    "        self.hidden_dim = hidden_dim\n",
    "        self.param_dim = param_dim\n",
    "        \n",
    "        self.lin1 = nn.Linear(self.input_dim, self.hidden_dim)\n",
    "        self.selu = nn.SELU()\n",
    "        self.lin2 = nn.Linear(self.hidden_dim, self.param_dim)\n",
    "        \n",
    "    def forward(self, x):\n",
    "        x = x.view(-1)\n",
    "        out = self.lin1(x)\n",
    "        out = self.selu(out)\n",
    "        out = self.lin2(out)\n",
    "        out = self.selu(out)\n",
    "        out = out.view(1,len(out))\n",
    "        return out\n",
    "        "
   ]
  },
  {
   "cell_type": "code",
   "execution_count": 9,
   "metadata": {},
   "outputs": [],
   "source": [
    "class DecoderVaeODE(nn.Module):\n",
    "    def __init__(self, hidden_dim, input_dim):\n",
    "        super(DecoderVaeODE, self).__init__()\n",
    "        self.hidden_dim = hidden_dim\n",
    "        self.input_dim = input_dim\n",
    "        \n",
    "        self.lin1 = nn.Linear(self.input_dim, self.hidden_dim)\n",
    "        self.selu = nn.SELU()\n",
    "        self.lin2 = nn.Linear(self.hidden_dim, self.input_dim)\n",
    "        \n",
    "    def forward(self, z0, t, p):\n",
    "        func = LinearODEF(p)\n",
    "        self.ode = VaeNeuralODE(func)\n",
    "        z = self.ode(z0, t, return_whole_sequence=True)\n",
    "        y = z.squeeze(1)\n",
    "        y = y[:,0]\n",
    "        out = self.lin1(y)\n",
    "        out = self.selu(out)\n",
    "        out = self.lin2(out)\n",
    "        out = self.selu(out)\n",
    "        out = out.view(len(out), 1)\n",
    "        return out"
   ]
  },
  {
   "cell_type": "code",
   "execution_count": 10,
   "metadata": {},
   "outputs": [],
   "source": [
    "class VaeODENeuralNet(nn.Module):\n",
    "    def __init__(self, input_dim, hidden_dim, param_dim):\n",
    "        super(VaeODENeuralNet, self).__init__()\n",
    "        self.input_dim = input_dim\n",
    "        self.param_dim = param_dim\n",
    "        self.hidden_dim = hidden_dim\n",
    "        \n",
    "        self.param_encoder = EncoderFC(self.input_dim, self.hidden_dim, self.param_dim)\n",
    "        self.ode_decoder = DecoderVaeODE(self.hidden_dim, self.input_dim)\n",
    "        \n",
    "    def forward(self, x, t):\n",
    "        x = x.view(1,len(x))\n",
    "        p = self.param_encoder(x)\n",
    "        z0 = torch.Tensor([[x[:,0], x[:,1]]])\n",
    "        z = self.ode_decoder(z0, t, p)\n",
    "        return z, p"
   ]
  },
  {
   "cell_type": "code",
   "execution_count": 13,
   "metadata": {},
   "outputs": [],
   "source": [
    "class SimpleVaeODENeuralNet(nn.Module):\n",
    "    def __init__(self, input_dim, hidden_dim, param_dim):\n",
    "        super(SimpleVaeODENeuralNet, self).__init__()\n",
    "        self.input_dim = input_dim\n",
    "        self.param_dim = param_dim\n",
    "        self.hidden_dim = hidden_dim\n",
    "        \n",
    "        self.param_encoder = EncoderFC(self.input_dim, self.hidden_dim, self.param_dim)\n",
    "        \n",
    "    def forward(self, x, t):\n",
    "        x = x.view(1,len(x))\n",
    "        p = self.param_encoder(x)\n",
    "        z0 = torch.Tensor([[x[:,0], x[:,1]]])\n",
    "        func = LinearODEF(p)\n",
    "        self.ode = VaeNeuralODE(func)\n",
    "        z = self.ode(z0, t, return_whole_sequence=True)\n",
    "        y = z.squeeze(1)\n",
    "        out = y[:,0]\n",
    "        out = out.view(len(out), 1)\n",
    "        return out, p"
   ]
  },
  {
   "cell_type": "code",
   "execution_count": 38,
   "metadata": {},
   "outputs": [
    {
     "data": {
      "text/plain": [
       "torch.Size([200, 1, 2])"
      ]
     },
     "execution_count": 38,
     "metadata": {},
     "output_type": "execute_result"
    }
   ],
   "source": [
    "obs.shape"
   ]
  },
  {
   "cell_type": "code",
   "execution_count": 175,
   "metadata": {},
   "outputs": [],
   "source": [
    "ode_train = VaeODENeuralNet(200, 10, 4)"
   ]
  },
  {
   "cell_type": "code",
   "execution_count": 139,
   "metadata": {},
   "outputs": [
    {
     "data": {
      "text/plain": [
       "VaeODENeuralNet(\n",
       "  (param_encoder): EncoderFC(\n",
       "    (lin1): Linear(in_features=200, out_features=10, bias=True)\n",
       "    (relu): ReLU()\n",
       "    (lin2): Linear(in_features=10, out_features=4, bias=True)\n",
       "  )\n",
       "  (ode_decoder): DecoderVaeODE(\n",
       "    (lin1): Linear(in_features=200, out_features=10, bias=True)\n",
       "    (relu): ReLU()\n",
       "    (lin2): Linear(in_features=10, out_features=200, bias=True)\n",
       "  )\n",
       ")"
      ]
     },
     "execution_count": 139,
     "metadata": {},
     "output_type": "execute_result"
    }
   ],
   "source": [
    "ode_train"
   ]
  },
  {
   "cell_type": "code",
   "execution_count": 43,
   "metadata": {},
   "outputs": [
    {
     "data": {
      "text/plain": [
       "torch.Size([200, 1, 2])"
      ]
     },
     "execution_count": 43,
     "metadata": {},
     "output_type": "execute_result"
    }
   ],
   "source": [
    "obs.shape"
   ]
  },
  {
   "cell_type": "code",
   "execution_count": 180,
   "metadata": {},
   "outputs": [
    {
     "data": {
      "text/plain": [
       "torch.Size([200, 2])"
      ]
     },
     "execution_count": 180,
     "metadata": {},
     "output_type": "execute_result"
    }
   ],
   "source": [
    "x = obs.squeeze(1)\n",
    "x.shape"
   ]
  },
  {
   "cell_type": "code",
   "execution_count": 181,
   "metadata": {},
   "outputs": [
    {
     "data": {
      "text/plain": [
       "torch.Size([200])"
      ]
     },
     "execution_count": 181,
     "metadata": {},
     "output_type": "execute_result"
    }
   ],
   "source": [
    "x = x[:,0]\n",
    "x.shape"
   ]
  },
  {
   "cell_type": "code",
   "execution_count": 173,
   "metadata": {},
   "outputs": [
    {
     "data": {
      "text/plain": [
       "torch.Size([1, 2])"
      ]
     },
     "execution_count": 173,
     "metadata": {},
     "output_type": "execute_result"
    }
   ],
   "source": [
    "torch.Tensor([[x[:,0],x[:,1]]]).shape"
   ]
  },
  {
   "cell_type": "code",
   "execution_count": 162,
   "metadata": {},
   "outputs": [
    {
     "data": {
      "text/plain": [
       "torch.Size([1, 2])"
      ]
     },
     "execution_count": 162,
     "metadata": {},
     "output_type": "execute_result"
    }
   ],
   "source": [
    "z0.shape"
   ]
  },
  {
   "cell_type": "code",
   "execution_count": 118,
   "metadata": {},
   "outputs": [
    {
     "data": {
      "text/plain": [
       "torch.Size([1, 200])"
      ]
     },
     "execution_count": 118,
     "metadata": {},
     "output_type": "execute_result"
    }
   ],
   "source": [
    "y = x.view(-1)\n",
    "y.view(1,200).shape"
   ]
  },
  {
   "cell_type": "code",
   "execution_count": 125,
   "metadata": {},
   "outputs": [
    {
     "data": {
      "text/plain": [
       "torch.Size([1, 4])"
      ]
     },
     "execution_count": 125,
     "metadata": {},
     "output_type": "execute_result"
    }
   ],
   "source": [
    "encoder_param = EncoderFC(200, 10, 4)\n",
    "param = encoder_param(x)\n",
    "param = param.view(1,4)\n",
    "param.shape"
   ]
  },
  {
   "cell_type": "code",
   "execution_count": 127,
   "metadata": {},
   "outputs": [
    {
     "data": {
      "text/plain": [
       "2"
      ]
     },
     "execution_count": 127,
     "metadata": {},
     "output_type": "execute_result"
    }
   ],
   "source": [
    "int(param.shape[1]**0.5)"
   ]
  },
  {
   "cell_type": "code",
   "execution_count": 133,
   "metadata": {},
   "outputs": [
    {
     "data": {
      "text/plain": [
       "2"
      ]
     },
     "execution_count": 133,
     "metadata": {},
     "output_type": "execute_result"
    }
   ],
   "source": [
    "int(param.detach().requires_grad_(True).shape[1]**0.5)"
   ]
  },
  {
   "cell_type": "code",
   "execution_count": 120,
   "metadata": {},
   "outputs": [
    {
     "data": {
      "text/plain": [
       "torch.Size([1, 200])"
      ]
     },
     "execution_count": 120,
     "metadata": {},
     "output_type": "execute_result"
    }
   ],
   "source": [
    "decoder_ode = DecoderVaeODE(10, 200)\n",
    "out = decoder_ode(z0, times, param)\n",
    "out = out.view(1,len(out))\n",
    "out.shape"
   ]
  },
  {
   "cell_type": "code",
   "execution_count": 145,
   "metadata": {},
   "outputs": [
    {
     "data": {
      "text/plain": [
       "torch.Size([1, 2])"
      ]
     },
     "execution_count": 145,
     "metadata": {},
     "output_type": "execute_result"
    }
   ],
   "source": [
    "z0.size()"
   ]
  },
  {
   "cell_type": "code",
   "execution_count": 183,
   "metadata": {},
   "outputs": [
    {
     "data": {
      "text/plain": [
       "torch.Size([1, 200])"
      ]
     },
     "execution_count": 183,
     "metadata": {},
     "output_type": "execute_result"
    }
   ],
   "source": [
    "out = ode_train(x, times)\n",
    "out.shape"
   ]
  },
  {
   "cell_type": "code",
   "execution_count": 200,
   "metadata": {},
   "outputs": [
    {
     "data": {
      "text/plain": [
       "torch.Size([200, 2])"
      ]
     },
     "execution_count": 200,
     "metadata": {},
     "output_type": "execute_result"
    }
   ],
   "source": [
    "obs = obs.squeeze(1)\n",
    "obs.shape"
   ]
  },
  {
   "cell_type": "code",
   "execution_count": 201,
   "metadata": {},
   "outputs": [],
   "source": [
    "time_len = 200\n",
    "input_dim = obs.shape[1]\n",
    "ode_train = NeuralLinearODE(time_len, input_dim)"
   ]
  },
  {
   "cell_type": "code",
   "execution_count": 202,
   "metadata": {},
   "outputs": [
    {
     "data": {
      "text/plain": [
       "NeuralLinearODE(\n",
       "  (encoder): Param_FC_layer(\n",
       "    (lin): Linear(in_features=200, out_features=4, bias=True)\n",
       "  )\n",
       ")"
      ]
     },
     "execution_count": 202,
     "metadata": {},
     "output_type": "execute_result"
    }
   ],
   "source": [
    "ode_train"
   ]
  },
  {
   "cell_type": "code",
   "execution_count": 203,
   "metadata": {},
   "outputs": [
    {
     "data": {
      "text/plain": [
       "tensor([[ 0.8915,  0.1539],\n",
       "        [-0.3961, -0.6322]])"
      ]
     },
     "execution_count": 203,
     "metadata": {},
     "output_type": "execute_result"
    }
   ],
   "source": [
    "ode_train.A"
   ]
  },
  {
   "cell_type": "code",
   "execution_count": 168,
   "metadata": {},
   "outputs": [
    {
     "data": {
      "image/png": "[encoded data removed]",
      "text/plain": [
       "<Figure size 432x288 with 1 Axes>"
      ]
     },
     "metadata": {
      "needs_background": "light"
     },
     "output_type": "display_data"
    }
   ],
   "source": [
    "obs = obs.squeeze(1)\n",
    "plt.plot(obs[:,0].detach().numpy())\n",
    "plt.show()"
   ]
  },
  {
   "cell_type": "code",
   "execution_count": 186,
   "metadata": {},
   "outputs": [
    {
     "name": "stdout",
     "output_type": "stream",
     "text": [
      "tensor([[-0.9399,  0.2392],\n",
      "        [ 0.6336, -0.6704]], requires_grad=True)\n"
     ]
    }
   ],
   "source": [
    "out = ode_train(obs, times)"
   ]
  },
  {
   "cell_type": "code",
   "execution_count": 148,
   "metadata": {},
   "outputs": [],
   "source": [
    "out = out.squeeze(1)"
   ]
  },
  {
   "cell_type": "code",
   "execution_count": 149,
   "metadata": {},
   "outputs": [
    {
     "data": {
      "text/plain": [
       "torch.Size([200, 2])"
      ]
     },
     "execution_count": 149,
     "metadata": {},
     "output_type": "execute_result"
    }
   ],
   "source": [
    "out.shape"
   ]
  },
  {
   "cell_type": "code",
   "execution_count": 15,
   "metadata": {},
   "outputs": [],
   "source": [
    "def batch_sampling(obs, times, t_max, batch_size = 100, delta=50):\n",
    "    obs_ = torch.zeros((batch_size, delta, obs.shape[1], obs.shape[2]))\n",
    "    ts_ = torch.zeros((batch_size, delta, times.shape[1], times.shape[2]))\n",
    "    \n",
    "    for b in range(batch_size):\n",
    "        t0 = np.random.uniform(0, float(t_max))\n",
    "        t1 = float(t0) + delta\n",
    "        idx = np.arange(t0,t1)\n",
    "        if len(idx) == delta:\n",
    "            obs_[b,:,:] = obs[idx]\n",
    "            ts_[b,:,:] = times[idx]\n",
    "    \n",
    "    return obs_, ts_"
   ]
  },
  {
   "cell_type": "code",
   "execution_count": 321,
   "metadata": {},
   "outputs": [
    {
     "name": "stdout",
     "output_type": "stream",
     "text": [
      "Real matrix:\n",
      "tensor([[ 0.,  1.],\n",
      "        [-1.,  0.]], grad_fn=<ViewBackward>)\n"
     ]
    }
   ],
   "source": [
    "z0 = Variable(torch.Tensor([[0.,1.]]))\n",
    "p = torch.Tensor([[0., 1., -1., 0]])\n",
    "save_result = True\n",
    "\n",
    "t_max = 6.29*5\n",
    "n_points = 200\n",
    "\n",
    "index_np = np.arange(0, n_points, 1, dtype=np.int)\n",
    "index_np = np.hstack([index_np[:, None]])\n",
    "times_np = np.linspace(0, t_max, num=n_points)\n",
    "times_np = np.hstack([times_np[:, None]])\n",
    "\n",
    "times = torch.from_numpy(times_np[:, :, None]).to(z0)\n",
    "ode_true = VaeNeuralODE(LinearODEF(p))\n",
    "print('Real matrix:')\n",
    "print(ode_true.param.view(2,2))\n",
    "obs = ode_true(z0, times, return_whole_sequence=True).detach()\n",
    "obs = obs + torch.randn_like(obs) * 0.01"
   ]
  },
  {
   "cell_type": "code",
   "execution_count": 361,
   "metadata": {},
   "outputs": [
    {
     "data": {
      "text/plain": [
       "torch.Size([200, 1, 1])"
      ]
     },
     "execution_count": 361,
     "metadata": {},
     "output_type": "execute_result"
    }
   ],
   "source": [
    "times.shape"
   ]
  },
  {
   "cell_type": "code",
   "execution_count": 363,
   "metadata": {},
   "outputs": [
    {
     "data": {
      "text/plain": [
       "tensor([[0.3161]])"
      ]
     },
     "execution_count": 363,
     "metadata": {},
     "output_type": "execute_result"
    }
   ],
   "source": [
    "times[1+1]"
   ]
  },
  {
   "cell_type": "code",
   "execution_count": 324,
   "metadata": {},
   "outputs": [
    {
     "data": {
      "text/plain": [
       "torch.Size([200, 1, 2])"
      ]
     },
     "execution_count": 324,
     "metadata": {},
     "output_type": "execute_result"
    }
   ],
   "source": [
    "obs.shape"
   ]
  },
  {
   "cell_type": "code",
   "execution_count": 233,
   "metadata": {},
   "outputs": [
    {
     "data": {
      "text/plain": [
       "torch.Size([200, 2])"
      ]
     },
     "execution_count": 233,
     "metadata": {},
     "output_type": "execute_result"
    }
   ],
   "source": [
    "x = obs.squeeze(1)\n",
    "x.shape"
   ]
  },
  {
   "cell_type": "code",
   "execution_count": 14,
   "metadata": {},
   "outputs": [
    {
     "data": {
      "text/plain": [
       "torch.Size([200, 1, 2])"
      ]
     },
     "execution_count": 14,
     "metadata": {},
     "output_type": "execute_result"
    }
   ],
   "source": [
    "obs.shape"
   ]
  },
  {
   "cell_type": "code",
   "execution_count": 17,
   "metadata": {},
   "outputs": [
    {
     "data": {
      "text/plain": [
       "torch.Size([1, 2])"
      ]
     },
     "execution_count": 17,
     "metadata": {},
     "output_type": "execute_result"
    }
   ],
   "source": [
    "z0.shape"
   ]
  },
  {
   "cell_type": "code",
   "execution_count": 18,
   "metadata": {},
   "outputs": [
    {
     "data": {
      "text/plain": [
       "torch.Size([2, 2])"
      ]
     },
     "execution_count": 18,
     "metadata": {},
     "output_type": "execute_result"
    }
   ],
   "source": [
    "A.shape"
   ]
  },
  {
   "cell_type": "code",
   "execution_count": 19,
   "metadata": {},
   "outputs": [],
   "source": [
    "obs_, ts_ = batch_sampling(obs, times, t_max)"
   ]
  },
  {
   "cell_type": "code",
   "execution_count": 80,
   "metadata": {},
   "outputs": [],
   "source": [
    "obs = obs.detach().requires_grad_(True)"
   ]
  },
  {
   "cell_type": "markdown",
   "metadata": {},
   "source": [
    "# Testing some line"
   ]
  },
  {
   "cell_type": "code",
   "execution_count": 184,
   "metadata": {},
   "outputs": [
    {
     "data": {
      "text/plain": [
       "torch.Size([1, 4])"
      ]
     },
     "execution_count": 184,
     "metadata": {},
     "output_type": "execute_result"
    }
   ],
   "source": [
    "p = torch.Tensor([[0., 1., -1., 0]])\n",
    "p.shape"
   ]
  },
  {
   "cell_type": "code",
   "execution_count": 223,
   "metadata": {},
   "outputs": [
    {
     "data": {
      "text/plain": [
       "tensor([[ 0.5872, -0.0268]], grad_fn=<MmBackward>)"
      ]
     },
     "execution_count": 223,
     "metadata": {},
     "output_type": "execute_result"
    }
   ],
   "source": [
    "w = nn.Linear(2,2).weight\n",
    "z0.matmul(w)"
   ]
  },
  {
   "cell_type": "code",
   "execution_count": 257,
   "metadata": {},
   "outputs": [
    {
     "data": {
      "text/plain": [
       "torch.Size([200, 1, 2])"
      ]
     },
     "execution_count": 257,
     "metadata": {},
     "output_type": "execute_result"
    }
   ],
   "source": [
    "obs.shape"
   ]
  },
  {
   "cell_type": "code",
   "execution_count": 256,
   "metadata": {},
   "outputs": [
    {
     "data": {
      "text/plain": [
       "torch.Size([50, 1])"
      ]
     },
     "execution_count": 256,
     "metadata": {},
     "output_type": "execute_result"
    }
   ],
   "source": [
    "x = obs[0:50,:,0]\n",
    "x.shape"
   ]
  },
  {
   "cell_type": "code",
   "execution_count": 263,
   "metadata": {},
   "outputs": [
    {
     "data": {
      "text/plain": [
       "torch.Size([50])"
      ]
     },
     "execution_count": 263,
     "metadata": {},
     "output_type": "execute_result"
    }
   ],
   "source": [
    "x = x.squeeze(1)\n",
    "x.shape"
   ]
  },
  {
   "cell_type": "code",
   "execution_count": 277,
   "metadata": {},
   "outputs": [],
   "source": [
    "ode_train = VaeODENeuralNet(50, 10, 4)\n",
    "z_, p = ode_train(x, t)\n",
    "z_ = z_.squeeze(1)\n",
    "loss = loss_fn(z_, x.detach())"
   ]
  },
  {
   "cell_type": "code",
   "execution_count": 278,
   "metadata": {},
   "outputs": [
    {
     "data": {
      "text/plain": [
       "tensor(0.6638, grad_fn=<MseLossBackward>)"
      ]
     },
     "execution_count": 278,
     "metadata": {},
     "output_type": "execute_result"
    }
   ],
   "source": [
    "loss"
   ]
  },
  {
   "cell_type": "code",
   "execution_count": 255,
   "metadata": {},
   "outputs": [
    {
     "data": {
      "text/plain": [
       "VaeODENeuralNet(\n",
       "  (param_encoder): EncoderFC(\n",
       "    (lin1): Linear(in_features=50, out_features=10, bias=True)\n",
       "    (relu): ReLU()\n",
       "    (lin2): Linear(in_features=10, out_features=4, bias=True)\n",
       "  )\n",
       "  (ode_decoder): DecoderVaeODE(\n",
       "    (lin1): Linear(in_features=50, out_features=10, bias=True)\n",
       "    (relu): ReLU()\n",
       "    (lin2): Linear(in_features=10, out_features=50, bias=True)\n",
       "    (ode): VaeNeuralODE(\n",
       "      (func): LinearODEF()\n",
       "    )\n",
       "  )\n",
       ")"
      ]
     },
     "execution_count": 255,
     "metadata": {},
     "output_type": "execute_result"
    }
   ],
   "source": [
    "ode_train"
   ]
  },
  {
   "cell_type": "code",
   "execution_count": 325,
   "metadata": {},
   "outputs": [
    {
     "data": {
      "text/plain": [
       "torch.Size([200, 1])"
      ]
     },
     "execution_count": 325,
     "metadata": {},
     "output_type": "execute_result"
    }
   ],
   "source": [
    "x = obs[:,:,0]\n",
    "x.shape"
   ]
  },
  {
   "cell_type": "code",
   "execution_count": 328,
   "metadata": {},
   "outputs": [
    {
     "data": {
      "text/plain": [
       "torch.Size([200, 1])"
      ]
     },
     "execution_count": 328,
     "metadata": {},
     "output_type": "execute_result"
    }
   ],
   "source": [
    "y = x.view(x.shape, 1)\n",
    "y.shape"
   ]
  },
  {
   "cell_type": "markdown",
   "metadata": {},
   "source": [
    "# Training the model"
   ]
  },
  {
   "cell_type": "code",
   "execution_count": 16,
   "metadata": {},
   "outputs": [
    {
     "name": "stderr",
     "output_type": "stream",
     "text": [
      "  0%|          | 0/100 [00:00<?, ?it/s]"
     ]
    },
    {
     "name": "stdout",
     "output_type": "stream",
     "text": [
      "Real A:\n",
      "tensor([[ 0.,  1.],\n",
      "        [-1.,  0.]], grad_fn=<ViewBackward>)\n",
      "Beginning training...\n",
      "predicted A:\n",
      "tensor([[ 0.3376,  0.6633],\n",
      "        [-0.1252,  0.3294]], grad_fn=<AsStridedBackward>)\n",
      "epoch: 1\n",
      "step: 100\n",
      "train loss: 12.461271421313286\n"
     ]
    },
    {
     "data": {
      "image/png": "[encoded data removed]",
      "text/plain": [
       "<Figure size 432x288 with 1 Axes>"
      ]
     },
     "metadata": {
      "needs_background": "light"
     },
     "output_type": "display_data"
    },
    {
     "name": "stderr",
     "output_type": "stream",
     "text": [
      "  2%|▏         | 2/100 [00:06<05:25,  3.32s/it]"
     ]
    },
    {
     "name": "stdout",
     "output_type": "stream",
     "text": [
      "predicted A:\n",
      "tensor([[ 0.1645, -0.5962],\n",
      "        [ 0.1045, -0.3284]], grad_fn=<AsStridedBackward>)\n",
      "epoch: 2\n",
      "step: 200\n",
      "train loss: 7.188488038343191\n"
     ]
    },
    {
     "name": "stderr",
     "output_type": "stream",
     "text": [
      "  3%|▎         | 3/100 [00:09<05:19,  3.30s/it]"
     ]
    },
    {
     "name": "stdout",
     "output_type": "stream",
     "text": [
      "predicted A:\n",
      "tensor([[ 0.1062, -0.6419],\n",
      "        [ 0.0999, -0.2908]], grad_fn=<AsStridedBackward>)\n",
      "epoch: 3\n",
      "step: 300\n",
      "train loss: 8.929486429412782\n"
     ]
    },
    {
     "name": "stderr",
     "output_type": "stream",
     "text": [
      "  4%|▍         | 4/100 [00:13<05:17,  3.31s/it]"
     ]
    },
    {
     "name": "stdout",
     "output_type": "stream",
     "text": [
      "predicted A:\n",
      "tensor([[0.0742, 0.2598],\n",
      "        [0.0222, 0.4220]], grad_fn=<AsStridedBackward>)\n",
      "epoch: 4\n",
      "step: 400\n",
      "train loss: 8.78048455035408\n"
     ]
    },
    {
     "name": "stderr",
     "output_type": "stream",
     "text": [
      "  5%|▌         | 5/100 [00:16<05:06,  3.22s/it]"
     ]
    },
    {
     "name": "stdout",
     "output_type": "stream",
     "text": [
      "predicted A:\n",
      "tensor([[-0.0623,  0.0319],\n",
      "        [ 0.0726,  0.3843]], grad_fn=<AsStridedBackward>)\n",
      "epoch: 5\n",
      "step: 500\n",
      "train loss: 7.307932365468713\n"
     ]
    },
    {
     "name": "stderr",
     "output_type": "stream",
     "text": [
      "  6%|▌         | 6/100 [00:19<04:56,  3.16s/it]"
     ]
    },
    {
     "name": "stdout",
     "output_type": "stream",
     "text": [
      "predicted A:\n",
      "tensor([[ 0.0617, -0.6671],\n",
      "        [ 0.1072, -0.2403]], grad_fn=<AsStridedBackward>)\n",
      "epoch: 6\n",
      "step: 600\n",
      "train loss: 4.113493997340715\n"
     ]
    },
    {
     "name": "stderr",
     "output_type": "stream",
     "text": [
      "  7%|▋         | 7/100 [00:22<04:48,  3.10s/it]"
     ]
    },
    {
     "name": "stdout",
     "output_type": "stream",
     "text": [
      "predicted A:\n",
      "tensor([[ 0.4129,  0.6864],\n",
      "        [-0.1437,  0.2592]], grad_fn=<AsStridedBackward>)\n",
      "epoch: 7\n",
      "step: 700\n",
      "train loss: 10.978431725089603\n"
     ]
    },
    {
     "name": "stderr",
     "output_type": "stream",
     "text": [
      "  8%|▊         | 8/100 [00:24<04:39,  3.04s/it]"
     ]
    },
    {
     "name": "stdout",
     "output_type": "stream",
     "text": [
      "predicted A:\n",
      "tensor([[-0.1974, -0.3875],\n",
      "        [ 0.0897,  0.2459]], grad_fn=<AsStridedBackward>)\n",
      "epoch: 8\n",
      "step: 800\n",
      "train loss: 12.938361424441982\n"
     ]
    },
    {
     "name": "stderr",
     "output_type": "stream",
     "text": [
      "  9%|▉         | 9/100 [00:28<04:39,  3.08s/it]"
     ]
    },
    {
     "name": "stdout",
     "output_type": "stream",
     "text": [
      "predicted A:\n",
      "tensor([[ 0.4850,  0.5424],\n",
      "        [-0.0954,  0.0154]], grad_fn=<AsStridedBackward>)\n",
      "epoch: 9\n",
      "step: 900\n",
      "train loss: 14.645612869443854\n"
     ]
    },
    {
     "name": "stderr",
     "output_type": "stream",
     "text": [
      " 10%|█         | 10/100 [00:31<04:46,  3.18s/it]"
     ]
    },
    {
     "name": "stdout",
     "output_type": "stream",
     "text": [
      "predicted A:\n",
      "tensor([[-0.1978, -0.6088],\n",
      "        [ 0.1160,  0.0965]], grad_fn=<AsStridedBackward>)\n",
      "epoch: 10\n",
      "step: 1000\n",
      "train loss: 9.310584405996227\n",
      "predicted A:\n",
      "tensor([[-0.2037, -0.5615],\n",
      "        [ 0.1057,  0.1434]], grad_fn=<AsStridedBackward>)\n",
      "epoch: 11\n",
      "step: 1100\n",
      "train loss: 13.847800586620348\n"
     ]
    },
    {
     "data": {
      "image/png": "[encoded data removed]",
      "text/plain": [
       "<Figure size 432x288 with 1 Axes>"
      ]
     },
     "metadata": {
      "needs_background": "light"
     },
     "output_type": "display_data"
    },
    {
     "name": "stderr",
     "output_type": "stream",
     "text": [
      " 12%|█▏        | 12/100 [00:38<04:46,  3.26s/it]"
     ]
    },
    {
     "name": "stdout",
     "output_type": "stream",
     "text": [
      "predicted A:\n",
      "tensor([[-0.2037, -0.5615],\n",
      "        [ 0.1057,  0.1434]], grad_fn=<AsStridedBackward>)\n",
      "epoch: 12\n",
      "step: 1200\n",
      "train loss: 6.9427072123090365\n"
     ]
    },
    {
     "name": "stderr",
     "output_type": "stream",
     "text": [
      " 13%|█▎        | 13/100 [00:41<04:34,  3.16s/it]"
     ]
    },
    {
     "name": "stdout",
     "output_type": "stream",
     "text": [
      "predicted A:\n",
      "tensor([[0.1667, 0.0456],\n",
      "        [0.0354, 0.0690]], grad_fn=<AsStridedBackward>)\n",
      "epoch: 13\n",
      "step: 1300\n",
      "train loss: 6.770920089200537\n"
     ]
    },
    {
     "name": "stderr",
     "output_type": "stream",
     "text": [
      " 14%|█▍        | 14/100 [00:44<04:26,  3.09s/it]"
     ]
    },
    {
     "name": "stdout",
     "output_type": "stream",
     "text": [
      "predicted A:\n",
      "tensor([[ 0.4841,  0.6566],\n",
      "        [-0.1078,  0.1536]], grad_fn=<AsStridedBackward>)\n",
      "epoch: 14\n",
      "step: 1400\n",
      "train loss: 10.146751214775596\n"
     ]
    },
    {
     "name": "stderr",
     "output_type": "stream",
     "text": [
      " 15%|█▌        | 15/100 [00:47<04:28,  3.16s/it]"
     ]
    },
    {
     "name": "stdout",
     "output_type": "stream",
     "text": [
      "predicted A:\n",
      "tensor([[0.0340, 0.1898],\n",
      "        [0.0443, 0.4235]], grad_fn=<AsStridedBackward>)\n",
      "epoch: 15\n",
      "step: 1500\n",
      "train loss: 11.351566164987416\n"
     ]
    },
    {
     "name": "stderr",
     "output_type": "stream",
     "text": [
      " 16%|█▌        | 16/100 [00:50<04:24,  3.15s/it]"
     ]
    },
    {
     "name": "stdout",
     "output_type": "stream",
     "text": [
      "predicted A:\n",
      "tensor([[ 0.0214, -0.6764],\n",
      "        [ 0.1104, -0.1758]], grad_fn=<AsStridedBackward>)\n",
      "epoch: 16\n",
      "step: 1600\n",
      "train loss: 12.88461711078184\n"
     ]
    },
    {
     "name": "stderr",
     "output_type": "stream",
     "text": [
      " 17%|█▋        | 17/100 [00:53<04:14,  3.07s/it]"
     ]
    },
    {
     "name": "stdout",
     "output_type": "stream",
     "text": [
      "predicted A:\n",
      "tensor([[0.1667, 0.0456],\n",
      "        [0.0354, 0.0690]], grad_fn=<AsStridedBackward>)\n",
      "epoch: 17\n",
      "step: 1700\n",
      "train loss: 7.55742139300399\n"
     ]
    },
    {
     "name": "stderr",
     "output_type": "stream",
     "text": [
      " 18%|█▊        | 18/100 [00:56<04:05,  3.00s/it]"
     ]
    },
    {
     "name": "stdout",
     "output_type": "stream",
     "text": [
      "predicted A:\n",
      "tensor([[ 0.4631,  0.2928],\n",
      "        [-0.0549, -0.2309]], grad_fn=<AsStridedBackward>)\n",
      "epoch: 18\n",
      "step: 1800\n",
      "train loss: 13.274829880662828\n"
     ]
    },
    {
     "name": "stderr",
     "output_type": "stream",
     "text": [
      " 19%|█▉        | 19/100 [00:59<04:04,  3.02s/it]"
     ]
    },
    {
     "name": "stdout",
     "output_type": "stream",
     "text": [
      "predicted A:\n",
      "tensor([[-0.1440, -0.6492],\n",
      "        [ 0.1045,  0.0447]], grad_fn=<AsStridedBackward>)\n",
      "epoch: 19\n",
      "step: 1900\n",
      "train loss: 12.057665552658518\n"
     ]
    },
    {
     "name": "stderr",
     "output_type": "stream",
     "text": [
      " 20%|██        | 20/100 [01:02<04:05,  3.07s/it]"
     ]
    },
    {
     "name": "stdout",
     "output_type": "stream",
     "text": [
      "predicted A:\n",
      "tensor([[ 0.4841,  0.6566],\n",
      "        [-0.1078,  0.1536]], grad_fn=<AsStridedBackward>)\n",
      "epoch: 20\n",
      "step: 2000\n",
      "train loss: 10.761941661496587\n",
      "predicted A:\n",
      "tensor([[-0.2037, -0.5615],\n",
      "        [ 0.1057,  0.1434]], grad_fn=<AsStridedBackward>)\n",
      "epoch: 21\n",
      "step: 2100\n",
      "train loss: 9.149644227525192\n"
     ]
    },
    {
     "data": {
      "image/png": "[encoded data removed]",
      "text/plain": [
       "<Figure size 432x288 with 1 Axes>"
      ]
     },
     "metadata": {
      "needs_background": "light"
     },
     "output_type": "display_data"
    },
    {
     "name": "stderr",
     "output_type": "stream",
     "text": [
      " 22%|██▏       | 22/100 [01:09<04:04,  3.14s/it]"
     ]
    },
    {
     "name": "stdout",
     "output_type": "stream",
     "text": [
      "predicted A:\n",
      "tensor([[0.0742, 0.2598],\n",
      "        [0.0222, 0.4220]], grad_fn=<AsStridedBackward>)\n",
      "epoch: 22\n",
      "step: 2200\n",
      "train loss: 7.156098853068556\n"
     ]
    },
    {
     "name": "stderr",
     "output_type": "stream",
     "text": [
      " 23%|██▎       | 23/100 [01:12<03:58,  3.10s/it]"
     ]
    },
    {
     "name": "stdout",
     "output_type": "stream",
     "text": [
      "predicted A:\n",
      "tensor([[ 0.1645, -0.5962],\n",
      "        [ 0.1045, -0.3284]], grad_fn=<AsStridedBackward>)\n",
      "epoch: 23\n",
      "step: 2300\n",
      "train loss: 11.334189128384164\n"
     ]
    },
    {
     "name": "stderr",
     "output_type": "stream",
     "text": [
      " 24%|██▍       | 24/100 [01:14<03:51,  3.05s/it]"
     ]
    },
    {
     "name": "stdout",
     "output_type": "stream",
     "text": [
      "predicted A:\n",
      "tensor([[ 0.4900,  0.6031],\n",
      "        [-0.1022,  0.0864]], grad_fn=<AsStridedBackward>)\n",
      "epoch: 24\n",
      "step: 2400\n",
      "train loss: 7.463827182168814\n"
     ]
    },
    {
     "name": "stderr",
     "output_type": "stream",
     "text": [
      " 25%|██▌       | 25/100 [01:17<03:43,  2.98s/it]"
     ]
    },
    {
     "name": "stdout",
     "output_type": "stream",
     "text": [
      "predicted A:\n",
      "tensor([[ 0.2923,  0.6289],\n",
      "        [-0.1154,  0.3569]], grad_fn=<AsStridedBackward>)\n",
      "epoch: 25\n",
      "step: 2500\n",
      "train loss: 12.815827698601435\n"
     ]
    },
    {
     "name": "stderr",
     "output_type": "stream",
     "text": [
      " 26%|██▌       | 26/100 [01:20<03:36,  2.92s/it]"
     ]
    },
    {
     "name": "stdout",
     "output_type": "stream",
     "text": [
      "predicted A:\n",
      "tensor([[-0.1577, -0.2528],\n",
      "        [ 0.0928,  0.2980]], grad_fn=<AsStridedBackward>)\n",
      "epoch: 26\n",
      "step: 2600\n",
      "train loss: 9.19026425988568\n"
     ]
    },
    {
     "name": "stderr",
     "output_type": "stream",
     "text": [
      " 27%|██▋       | 27/100 [01:23<03:32,  2.91s/it]"
     ]
    },
    {
     "name": "stdout",
     "output_type": "stream",
     "text": [
      "predicted A:\n",
      "tensor([[ 0.3804,  0.6830],\n",
      "        [-0.1366,  0.2952]], grad_fn=<AsStridedBackward>)\n",
      "epoch: 27\n",
      "step: 2700\n",
      "train loss: 8.840801840773333\n"
     ]
    },
    {
     "name": "stderr",
     "output_type": "stream",
     "text": [
      " 28%|██▊       | 28/100 [01:26<03:28,  2.90s/it]"
     ]
    },
    {
     "name": "stdout",
     "output_type": "stream",
     "text": [
      "predicted A:\n",
      "tensor([[ 0.4572,  0.6740],\n",
      "        [-0.1215,  0.2106]], grad_fn=<AsStridedBackward>)\n",
      "epoch: 28\n",
      "step: 2800\n",
      "train loss: 5.9962853277300905\n"
     ]
    },
    {
     "name": "stderr",
     "output_type": "stream",
     "text": [
      " 29%|██▉       | 29/100 [01:29<03:33,  3.01s/it]"
     ]
    },
    {
     "name": "stdout",
     "output_type": "stream",
     "text": [
      "predicted A:\n",
      "tensor([[-0.2070, -0.4872],\n",
      "        [ 0.0950,  0.1888]], grad_fn=<AsStridedBackward>)\n",
      "epoch: 29\n",
      "step: 2900\n",
      "train loss: 10.790977912033178\n"
     ]
    },
    {
     "name": "stderr",
     "output_type": "stream",
     "text": [
      " 30%|███       | 30/100 [01:33<03:42,  3.17s/it]"
     ]
    },
    {
     "name": "stdout",
     "output_type": "stream",
     "text": [
      "predicted A:\n",
      "tensor([[ 0.4662,  0.4626],\n",
      "        [-0.0884, -0.0877]], grad_fn=<AsStridedBackward>)\n",
      "epoch: 30\n",
      "step: 3000\n",
      "train loss: 14.75228160815323\n",
      "predicted A:\n",
      "tensor([[ 0.4129,  0.6864],\n",
      "        [-0.1437,  0.2592]], grad_fn=<AsStridedBackward>)\n",
      "epoch: 31\n",
      "step: 3100\n",
      "train loss: 11.65405299605895\n"
     ]
    },
    {
     "data": {
      "image/png": "[encoded data removed]",
      "text/plain": [
       "<Figure size 432x288 with 1 Axes>"
      ]
     },
     "metadata": {
      "needs_background": "light"
     },
     "output_type": "display_data"
    },
    {
     "name": "stderr",
     "output_type": "stream",
     "text": [
      " 32%|███▏      | 32/100 [01:41<03:59,  3.52s/it]"
     ]
    },
    {
     "name": "stdout",
     "output_type": "stream",
     "text": [
      "predicted A:\n",
      "tensor([[ 0.1062, -0.6419],\n",
      "        [ 0.0999, -0.2908]], grad_fn=<AsStridedBackward>)\n",
      "epoch: 32\n",
      "step: 3200\n",
      "train loss: 10.880234908098178\n"
     ]
    },
    {
     "name": "stderr",
     "output_type": "stream",
     "text": [
      " 33%|███▎      | 33/100 [01:44<04:00,  3.58s/it]"
     ]
    },
    {
     "name": "stdout",
     "output_type": "stream",
     "text": [
      "predicted A:\n",
      "tensor([[ 0.0617, -0.6671],\n",
      "        [ 0.1072, -0.2403]], grad_fn=<AsStridedBackward>)\n",
      "epoch: 33\n",
      "step: 3300\n",
      "train loss: 11.953168732633532\n"
     ]
    },
    {
     "name": "stderr",
     "output_type": "stream",
     "text": [
      " 34%|███▍      | 34/100 [01:48<04:01,  3.66s/it]"
     ]
    },
    {
     "name": "stdout",
     "output_type": "stream",
     "text": [
      "predicted A:\n",
      "tensor([[-0.1974, -0.3875],\n",
      "        [ 0.0897,  0.2459]], grad_fn=<AsStridedBackward>)\n",
      "epoch: 34\n",
      "step: 3400\n",
      "train loss: 14.693486182517908\n"
     ]
    },
    {
     "name": "stderr",
     "output_type": "stream",
     "text": [
      " 35%|███▌      | 35/100 [01:52<03:57,  3.66s/it]"
     ]
    },
    {
     "name": "stdout",
     "output_type": "stream",
     "text": [
      "predicted A:\n",
      "tensor([[ 0.0617, -0.6671],\n",
      "        [ 0.1072, -0.2403]], grad_fn=<AsStridedBackward>)\n",
      "epoch: 35\n",
      "step: 3500\n",
      "train loss: 7.7168657651407235\n"
     ]
    },
    {
     "name": "stderr",
     "output_type": "stream",
     "text": [
      " 36%|███▌      | 36/100 [01:55<03:50,  3.60s/it]"
     ]
    },
    {
     "name": "stdout",
     "output_type": "stream",
     "text": [
      "predicted A:\n",
      "tensor([[ 0.4572,  0.6740],\n",
      "        [-0.1215,  0.2106]], grad_fn=<AsStridedBackward>)\n",
      "epoch: 36\n",
      "step: 3600\n",
      "train loss: 11.77685281621502\n"
     ]
    },
    {
     "name": "stderr",
     "output_type": "stream",
     "text": [
      " 37%|███▋      | 37/100 [01:59<03:41,  3.52s/it]"
     ]
    },
    {
     "name": "stdout",
     "output_type": "stream",
     "text": [
      "predicted A:\n",
      "tensor([[ 0.3376,  0.6633],\n",
      "        [-0.1252,  0.3294]], grad_fn=<AsStridedBackward>)\n",
      "epoch: 37\n",
      "step: 3700\n",
      "train loss: 13.411175310908465\n"
     ]
    },
    {
     "name": "stderr",
     "output_type": "stream",
     "text": [
      " 38%|███▊      | 38/100 [02:02<03:36,  3.49s/it]"
     ]
    },
    {
     "name": "stdout",
     "output_type": "stream",
     "text": [
      "predicted A:\n",
      "tensor([[0.0068, 0.1078],\n",
      "        [0.0652, 0.4121]], grad_fn=<AsStridedBackward>)\n",
      "epoch: 38\n",
      "step: 3800\n",
      "train loss: 10.635894905927763\n"
     ]
    },
    {
     "name": "stderr",
     "output_type": "stream",
     "text": [
      " 39%|███▉      | 39/100 [02:06<03:41,  3.64s/it]"
     ]
    },
    {
     "name": "stdout",
     "output_type": "stream",
     "text": [
      "predicted A:\n",
      "tensor([[ 0.4639,  0.3816],\n",
      "        [-0.0649, -0.1764]], grad_fn=<AsStridedBackward>)\n",
      "epoch: 39\n",
      "step: 3900\n",
      "train loss: 14.049409387820988\n"
     ]
    },
    {
     "name": "stderr",
     "output_type": "stream",
     "text": [
      " 40%|████      | 40/100 [02:09<03:29,  3.49s/it]"
     ]
    },
    {
     "name": "stdout",
     "output_type": "stream",
     "text": [
      "predicted A:\n",
      "tensor([[ 0.0617, -0.6671],\n",
      "        [ 0.1072, -0.2403]], grad_fn=<AsStridedBackward>)\n",
      "epoch: 40\n",
      "step: 4000\n",
      "train loss: 8.044388713819922\n",
      "predicted A:\n",
      "tensor([[ 0.3376,  0.6633],\n",
      "        [-0.1252,  0.3294]], grad_fn=<AsStridedBackward>)\n",
      "epoch: 41\n",
      "step: 4100\n",
      "train loss: 12.520225087427924\n"
     ]
    },
    {
     "data": {
      "image/png": "[encoded data removed]",
      "text/plain": [
       "<Figure size 432x288 with 1 Axes>"
      ]
     },
     "metadata": {
      "needs_background": "light"
     },
     "output_type": "display_data"
    },
    {
     "name": "stderr",
     "output_type": "stream",
     "text": [
      " 42%|████▏     | 42/100 [02:15<03:06,  3.21s/it]"
     ]
    },
    {
     "name": "stdout",
     "output_type": "stream",
     "text": [
      "predicted A:\n",
      "tensor([[ 0.4900,  0.6031],\n",
      "        [-0.1022,  0.0864]], grad_fn=<AsStridedBackward>)\n",
      "epoch: 42\n",
      "step: 4200\n",
      "train loss: 10.54912712076926\n"
     ]
    },
    {
     "name": "stderr",
     "output_type": "stream",
     "text": [
      " 43%|████▎     | 43/100 [02:18<02:58,  3.12s/it]"
     ]
    },
    {
     "name": "stdout",
     "output_type": "stream",
     "text": [
      "predicted A:\n",
      "tensor([[-0.0295, -0.6853],\n",
      "        [ 0.1119, -0.1070]], grad_fn=<AsStridedBackward>)\n",
      "epoch: 43\n",
      "step: 4300\n",
      "train loss: 10.355853815863492\n"
     ]
    },
    {
     "name": "stderr",
     "output_type": "stream",
     "text": [
      " 44%|████▍     | 44/100 [02:21<02:52,  3.07s/it]"
     ]
    },
    {
     "name": "stdout",
     "output_type": "stream",
     "text": [
      "predicted A:\n",
      "tensor([[-0.0623,  0.0319],\n",
      "        [ 0.0726,  0.3843]], grad_fn=<AsStridedBackward>)\n",
      "epoch: 44\n",
      "step: 4400\n",
      "train loss: 9.317532077630261\n"
     ]
    },
    {
     "name": "stderr",
     "output_type": "stream",
     "text": [
      " 45%|████▌     | 45/100 [02:24<02:51,  3.12s/it]"
     ]
    },
    {
     "name": "stdout",
     "output_type": "stream",
     "text": [
      "predicted A:\n",
      "tensor([[ 0.1645, -0.5962],\n",
      "        [ 0.1045, -0.3284]], grad_fn=<AsStridedBackward>)\n",
      "epoch: 45\n",
      "step: 4500\n",
      "train loss: 7.069996595533688\n"
     ]
    },
    {
     "name": "stderr",
     "output_type": "stream",
     "text": [
      " 46%|████▌     | 46/100 [02:27<02:44,  3.04s/it]"
     ]
    },
    {
     "name": "stdout",
     "output_type": "stream",
     "text": [
      "predicted A:\n",
      "tensor([[ 0.3376,  0.6633],\n",
      "        [-0.1252,  0.3294]], grad_fn=<AsStridedBackward>)\n",
      "epoch: 46\n",
      "step: 4600\n",
      "train loss: 9.16609147489222\n"
     ]
    },
    {
     "name": "stderr",
     "output_type": "stream",
     "text": [
      " 47%|████▋     | 47/100 [02:30<02:39,  3.00s/it]"
     ]
    },
    {
     "name": "stdout",
     "output_type": "stream",
     "text": [
      "predicted A:\n",
      "tensor([[0.1667, 0.0456],\n",
      "        [0.0354, 0.0690]], grad_fn=<AsStridedBackward>)\n",
      "epoch: 47\n",
      "step: 4700\n",
      "train loss: 12.966738206475988\n"
     ]
    },
    {
     "name": "stderr",
     "output_type": "stream",
     "text": [
      " 48%|████▊     | 48/100 [02:33<02:35,  3.00s/it]"
     ]
    },
    {
     "name": "stdout",
     "output_type": "stream",
     "text": [
      "predicted A:\n",
      "tensor([[0.0068, 0.1078],\n",
      "        [0.0652, 0.4121]], grad_fn=<AsStridedBackward>)\n",
      "epoch: 48\n",
      "step: 4800\n",
      "train loss: 10.988600176397263\n"
     ]
    },
    {
     "name": "stderr",
     "output_type": "stream",
     "text": [
      " 49%|████▉     | 49/100 [02:36<02:40,  3.15s/it]"
     ]
    },
    {
     "name": "stdout",
     "output_type": "stream",
     "text": [
      "predicted A:\n",
      "tensor([[0.1667, 0.0456],\n",
      "        [0.0354, 0.0690]], grad_fn=<AsStridedBackward>)\n",
      "epoch: 49\n",
      "step: 4900\n",
      "train loss: 13.538587513385448\n"
     ]
    },
    {
     "name": "stderr",
     "output_type": "stream",
     "text": [
      " 50%|█████     | 50/100 [02:40<02:47,  3.36s/it]"
     ]
    },
    {
     "name": "stdout",
     "output_type": "stream",
     "text": [
      "predicted A:\n",
      "tensor([[ 0.3376,  0.6633],\n",
      "        [-0.1252,  0.3294]], grad_fn=<AsStridedBackward>)\n",
      "epoch: 50\n",
      "step: 5000\n",
      "train loss: 12.347674398450238\n",
      "predicted A:\n",
      "tensor([[-0.0913, -0.6753],\n",
      "        [ 0.1103, -0.0254]], grad_fn=<AsStridedBackward>)\n",
      "epoch: 51\n",
      "step: 5100\n",
      "train loss: 8.185465762305538\n"
     ]
    },
    {
     "data": {
      "image/png": "[encoded data removed]",
      "text/plain": [
       "<Figure size 432x288 with 1 Axes>"
      ]
     },
     "metadata": {
      "needs_background": "light"
     },
     "output_type": "display_data"
    },
    {
     "name": "stderr",
     "output_type": "stream",
     "text": [
      " 52%|█████▏    | 52/100 [02:47<02:45,  3.45s/it]"
     ]
    },
    {
     "name": "stdout",
     "output_type": "stream",
     "text": [
      "predicted A:\n",
      "tensor([[0.0068, 0.1078],\n",
      "        [0.0652, 0.4121]], grad_fn=<AsStridedBackward>)\n",
      "epoch: 52\n",
      "step: 5200\n",
      "train loss: 9.203937696310762\n"
     ]
    },
    {
     "name": "stderr",
     "output_type": "stream",
     "text": [
      " 53%|█████▎    | 53/100 [02:51<02:51,  3.64s/it]"
     ]
    },
    {
     "name": "stdout",
     "output_type": "stream",
     "text": [
      "predicted A:\n",
      "tensor([[-0.0913, -0.6753],\n",
      "        [ 0.1103, -0.0254]], grad_fn=<AsStridedBackward>)\n",
      "epoch: 53\n",
      "step: 5300\n",
      "train loss: 17.14167258488032\n"
     ]
    },
    {
     "name": "stderr",
     "output_type": "stream",
     "text": [
      " 54%|█████▍    | 54/100 [02:55<02:45,  3.59s/it]"
     ]
    },
    {
     "name": "stdout",
     "output_type": "stream",
     "text": [
      "predicted A:\n",
      "tensor([[0.0742, 0.2598],\n",
      "        [0.0222, 0.4220]], grad_fn=<AsStridedBackward>)\n",
      "epoch: 54\n",
      "step: 5400\n",
      "train loss: 11.245191172693858\n"
     ]
    },
    {
     "name": "stderr",
     "output_type": "stream",
     "text": [
      " 55%|█████▌    | 55/100 [02:58<02:37,  3.49s/it]"
     ]
    },
    {
     "name": "stdout",
     "output_type": "stream",
     "text": [
      "predicted A:\n",
      "tensor([[ 0.0214, -0.6764],\n",
      "        [ 0.1104, -0.1758]], grad_fn=<AsStridedBackward>)\n",
      "epoch: 55\n",
      "step: 5500\n",
      "train loss: 7.532715609827983\n"
     ]
    },
    {
     "name": "stderr",
     "output_type": "stream",
     "text": [
      " 56%|█████▌    | 56/100 [03:01<02:28,  3.38s/it]"
     ]
    },
    {
     "name": "stdout",
     "output_type": "stream",
     "text": [
      "predicted A:\n",
      "tensor([[ 0.4572,  0.6740],\n",
      "        [-0.1215,  0.2106]], grad_fn=<AsStridedBackward>)\n",
      "epoch: 56\n",
      "step: 5600\n",
      "train loss: 9.408029628904256\n"
     ]
    },
    {
     "name": "stderr",
     "output_type": "stream",
     "text": [
      " 57%|█████▋    | 57/100 [03:04<02:20,  3.26s/it]"
     ]
    },
    {
     "name": "stdout",
     "output_type": "stream",
     "text": [
      "predicted A:\n",
      "tensor([[-0.1440, -0.6492],\n",
      "        [ 0.1045,  0.0447]], grad_fn=<AsStridedBackward>)\n",
      "epoch: 57\n",
      "step: 5700\n",
      "train loss: 11.347809813748913\n"
     ]
    },
    {
     "name": "stderr",
     "output_type": "stream",
     "text": [
      " 58%|█████▊    | 58/100 [03:07<02:12,  3.16s/it]"
     ]
    },
    {
     "name": "stdout",
     "output_type": "stream",
     "text": [
      "predicted A:\n",
      "tensor([[-0.0623,  0.0319],\n",
      "        [ 0.0726,  0.3843]], grad_fn=<AsStridedBackward>)\n",
      "epoch: 58\n",
      "step: 5800\n",
      "train loss: 15.44332636318933\n"
     ]
    },
    {
     "name": "stderr",
     "output_type": "stream",
     "text": [
      " 59%|█████▉    | 59/100 [03:10<02:06,  3.08s/it]"
     ]
    },
    {
     "name": "stdout",
     "output_type": "stream",
     "text": [
      "predicted A:\n",
      "tensor([[ 0.4841,  0.6566],\n",
      "        [-0.1078,  0.1536]], grad_fn=<AsStridedBackward>)\n",
      "epoch: 59\n",
      "step: 5900\n",
      "train loss: 8.277886217328144\n"
     ]
    },
    {
     "name": "stderr",
     "output_type": "stream",
     "text": [
      " 60%|██████    | 60/100 [03:13<02:01,  3.04s/it]"
     ]
    },
    {
     "name": "stdout",
     "output_type": "stream",
     "text": [
      "predicted A:\n",
      "tensor([[0.1667, 0.0456],\n",
      "        [0.0354, 0.0690]], grad_fn=<AsStridedBackward>)\n",
      "epoch: 60\n",
      "step: 6000\n",
      "train loss: 10.596627557928286\n",
      "predicted A:\n",
      "tensor([[-0.0913, -0.6753],\n",
      "        [ 0.1103, -0.0254]], grad_fn=<AsStridedBackward>)\n",
      "epoch: 61\n",
      "step: 6100\n",
      "train loss: 13.8396444066828\n"
     ]
    },
    {
     "data": {
      "image/png": "[encoded data removed]",
      "text/plain": [
       "<Figure size 432x288 with 1 Axes>"
      ]
     },
     "metadata": {
      "needs_background": "light"
     },
     "output_type": "display_data"
    },
    {
     "name": "stderr",
     "output_type": "stream",
     "text": [
      " 62%|██████▏   | 62/100 [03:19<01:53,  2.99s/it]"
     ]
    },
    {
     "name": "stdout",
     "output_type": "stream",
     "text": [
      "predicted A:\n",
      "tensor([[-0.0913, -0.6753],\n",
      "        [ 0.1103, -0.0254]], grad_fn=<AsStridedBackward>)\n",
      "epoch: 62\n",
      "step: 6200\n",
      "train loss: 7.489473848089045\n"
     ]
    },
    {
     "name": "stderr",
     "output_type": "stream",
     "text": [
      " 63%|██████▎   | 63/100 [03:22<01:50,  2.98s/it]"
     ]
    },
    {
     "name": "stdout",
     "output_type": "stream",
     "text": [
      "predicted A:\n",
      "tensor([[-0.1978, -0.6088],\n",
      "        [ 0.1160,  0.0965]], grad_fn=<AsStridedBackward>)\n",
      "epoch: 63\n",
      "step: 6300\n",
      "train loss: 12.686624160096493\n"
     ]
    },
    {
     "name": "stderr",
     "output_type": "stream",
     "text": [
      " 64%|██████▍   | 64/100 [03:26<01:54,  3.19s/it]"
     ]
    },
    {
     "name": "stdout",
     "output_type": "stream",
     "text": [
      "predicted A:\n",
      "tensor([[ 0.4900,  0.6031],\n",
      "        [-0.1022,  0.0864]], grad_fn=<AsStridedBackward>)\n",
      "epoch: 64\n",
      "step: 6400\n",
      "train loss: 12.367738736775372\n"
     ]
    },
    {
     "name": "stderr",
     "output_type": "stream",
     "text": [
      " 65%|██████▌   | 65/100 [03:29<01:49,  3.14s/it]"
     ]
    },
    {
     "name": "stdout",
     "output_type": "stream",
     "text": [
      "predicted A:\n",
      "tensor([[ 0.4900,  0.6031],\n",
      "        [-0.1022,  0.0864]], grad_fn=<AsStridedBackward>)\n",
      "epoch: 65\n",
      "step: 6500\n",
      "train loss: 10.12104359401372\n"
     ]
    },
    {
     "name": "stderr",
     "output_type": "stream",
     "text": [
      " 66%|██████▌   | 66/100 [03:32<01:46,  3.14s/it]"
     ]
    },
    {
     "name": "stdout",
     "output_type": "stream",
     "text": [
      "predicted A:\n",
      "tensor([[ 0.4572,  0.6740],\n",
      "        [-0.1215,  0.2106]], grad_fn=<AsStridedBackward>)\n",
      "epoch: 66\n",
      "step: 6600\n",
      "train loss: 12.227738775922171\n"
     ]
    },
    {
     "name": "stderr",
     "output_type": "stream",
     "text": [
      " 67%|██████▋   | 67/100 [03:35<01:42,  3.12s/it]"
     ]
    },
    {
     "name": "stdout",
     "output_type": "stream",
     "text": [
      "predicted A:\n",
      "tensor([[-0.1021, -0.0924],\n",
      "        [ 0.0963,  0.3552]], grad_fn=<AsStridedBackward>)\n",
      "epoch: 67\n",
      "step: 6700\n",
      "train loss: 13.208469459793104\n"
     ]
    },
    {
     "name": "stderr",
     "output_type": "stream",
     "text": [
      " 68%|██████▊   | 68/100 [03:38<01:37,  3.06s/it]"
     ]
    },
    {
     "name": "stdout",
     "output_type": "stream",
     "text": [
      "predicted A:\n",
      "tensor([[ 0.4639,  0.3816],\n",
      "        [-0.0649, -0.1764]], grad_fn=<AsStridedBackward>)\n",
      "epoch: 68\n",
      "step: 6800\n",
      "train loss: 12.375954147670479\n"
     ]
    },
    {
     "name": "stderr",
     "output_type": "stream",
     "text": [
      " 69%|██████▉   | 69/100 [03:41<01:35,  3.09s/it]"
     ]
    },
    {
     "name": "stdout",
     "output_type": "stream",
     "text": [
      "predicted A:\n",
      "tensor([[-0.1978, -0.6088],\n",
      "        [ 0.1160,  0.0965]], grad_fn=<AsStridedBackward>)\n",
      "epoch: 69\n",
      "step: 6900\n",
      "train loss: 11.507977426613309\n"
     ]
    },
    {
     "name": "stderr",
     "output_type": "stream",
     "text": [
      " 70%|███████   | 70/100 [03:44<01:31,  3.06s/it]"
     ]
    },
    {
     "name": "stdout",
     "output_type": "stream",
     "text": [
      "predicted A:\n",
      "tensor([[ 0.1973,  0.5181],\n",
      "        [-0.0802,  0.3887]], grad_fn=<AsStridedBackward>)\n",
      "epoch: 70\n",
      "step: 7000\n",
      "train loss: 6.505582435732731\n",
      "predicted A:\n",
      "tensor([[ 0.4129,  0.6864],\n",
      "        [-0.1437,  0.2592]], grad_fn=<AsStridedBackward>)\n",
      "epoch: 71\n",
      "step: 7100\n",
      "train loss: 17.649462772446928\n"
     ]
    },
    {
     "data": {
      "image/png": "[encoded data removed]",
      "text/plain": [
       "<Figure size 432x288 with 1 Axes>"
      ]
     },
     "metadata": {
      "needs_background": "light"
     },
     "output_type": "display_data"
    },
    {
     "name": "stderr",
     "output_type": "stream",
     "text": [
      " 72%|███████▏  | 72/100 [03:51<01:31,  3.28s/it]"
     ]
    },
    {
     "name": "stdout",
     "output_type": "stream",
     "text": [
      "predicted A:\n",
      "tensor([[ 0.3376,  0.6633],\n",
      "        [-0.1252,  0.3294]], grad_fn=<AsStridedBackward>)\n",
      "epoch: 72\n",
      "step: 7200\n",
      "train loss: 9.700778247247518\n"
     ]
    },
    {
     "name": "stderr",
     "output_type": "stream",
     "text": [
      " 73%|███████▎  | 73/100 [03:54<01:28,  3.30s/it]"
     ]
    },
    {
     "name": "stdout",
     "output_type": "stream",
     "text": [
      "predicted A:\n",
      "tensor([[ 0.2923,  0.6289],\n",
      "        [-0.1154,  0.3569]], grad_fn=<AsStridedBackward>)\n",
      "epoch: 73\n",
      "step: 7300\n",
      "train loss: 6.690326217426165\n"
     ]
    },
    {
     "name": "stderr",
     "output_type": "stream",
     "text": [
      " 74%|███████▍  | 74/100 [03:57<01:21,  3.14s/it]"
     ]
    },
    {
     "name": "stdout",
     "output_type": "stream",
     "text": [
      "predicted A:\n",
      "tensor([[ 0.4900,  0.6031],\n",
      "        [-0.1022,  0.0864]], grad_fn=<AsStridedBackward>)\n",
      "epoch: 74\n",
      "step: 7400\n",
      "train loss: 7.952200629151\n"
     ]
    },
    {
     "name": "stderr",
     "output_type": "stream",
     "text": [
      " 75%|███████▌  | 75/100 [04:00<01:16,  3.08s/it]"
     ]
    },
    {
     "name": "stdout",
     "output_type": "stream",
     "text": [
      "predicted A:\n",
      "tensor([[ 0.4639,  0.3816],\n",
      "        [-0.0649, -0.1764]], grad_fn=<AsStridedBackward>)\n",
      "epoch: 75\n",
      "step: 7500\n",
      "train loss: 11.489064822572827\n"
     ]
    },
    {
     "name": "stderr",
     "output_type": "stream",
     "text": [
      " 76%|███████▌  | 76/100 [04:03<01:12,  3.03s/it]"
     ]
    },
    {
     "name": "stdout",
     "output_type": "stream",
     "text": [
      "predicted A:\n",
      "tensor([[ 0.1062, -0.6419],\n",
      "        [ 0.0999, -0.2908]], grad_fn=<AsStridedBackward>)\n",
      "epoch: 76\n",
      "step: 7600\n",
      "train loss: 11.769823401669447\n"
     ]
    },
    {
     "name": "stderr",
     "output_type": "stream",
     "text": [
      " 77%|███████▋  | 77/100 [04:06<01:11,  3.11s/it]"
     ]
    },
    {
     "name": "stdout",
     "output_type": "stream",
     "text": [
      "predicted A:\n",
      "tensor([[-0.0913, -0.6753],\n",
      "        [ 0.1103, -0.0254]], grad_fn=<AsStridedBackward>)\n",
      "epoch: 77\n",
      "step: 7700\n",
      "train loss: 10.686753664309776\n"
     ]
    },
    {
     "name": "stderr",
     "output_type": "stream",
     "text": [
      " 78%|███████▊  | 78/100 [04:09<01:08,  3.12s/it]"
     ]
    },
    {
     "name": "stdout",
     "output_type": "stream",
     "text": [
      "predicted A:\n",
      "tensor([[ 0.1645, -0.5962],\n",
      "        [ 0.1045, -0.3284]], grad_fn=<AsStridedBackward>)\n",
      "epoch: 78\n",
      "step: 7800\n",
      "train loss: 18.70071377311046\n"
     ]
    },
    {
     "name": "stderr",
     "output_type": "stream",
     "text": [
      " 79%|███████▉  | 79/100 [04:12<01:05,  3.11s/it]"
     ]
    },
    {
     "name": "stdout",
     "output_type": "stream",
     "text": [
      "predicted A:\n",
      "tensor([[ 0.1973,  0.5181],\n",
      "        [-0.0802,  0.3887]], grad_fn=<AsStridedBackward>)\n",
      "epoch: 79\n",
      "step: 7900\n",
      "train loss: 6.972447512343913\n"
     ]
    },
    {
     "name": "stderr",
     "output_type": "stream",
     "text": [
      " 80%|████████  | 80/100 [04:16<01:06,  3.33s/it]"
     ]
    },
    {
     "name": "stdout",
     "output_type": "stream",
     "text": [
      "predicted A:\n",
      "tensor([[-0.0295, -0.6853],\n",
      "        [ 0.1119, -0.1070]], grad_fn=<AsStridedBackward>)\n",
      "epoch: 80\n",
      "step: 8000\n",
      "train loss: 7.737155235387836\n",
      "predicted A:\n",
      "tensor([[0.1667, 0.0456],\n",
      "        [0.0354, 0.0690]], grad_fn=<AsStridedBackward>)\n",
      "epoch: 81\n",
      "step: 8100\n",
      "train loss: 14.272647290593168\n"
     ]
    },
    {
     "data": {
      "image/png": "[encoded data removed]",
      "text/plain": [
       "<Figure size 432x288 with 1 Axes>"
      ]
     },
     "metadata": {
      "needs_background": "light"
     },
     "output_type": "display_data"
    },
    {
     "name": "stderr",
     "output_type": "stream",
     "text": [
      " 82%|████████▏ | 82/100 [04:24<01:04,  3.60s/it]"
     ]
    },
    {
     "name": "stdout",
     "output_type": "stream",
     "text": [
      "predicted A:\n",
      "tensor([[-0.1978, -0.6088],\n",
      "        [ 0.1160,  0.0965]], grad_fn=<AsStridedBackward>)\n",
      "epoch: 82\n",
      "step: 8200\n",
      "train loss: 10.006002508691607\n"
     ]
    },
    {
     "name": "stderr",
     "output_type": "stream",
     "text": [
      " 83%|████████▎ | 83/100 [04:27<01:00,  3.54s/it]"
     ]
    },
    {
     "name": "stdout",
     "output_type": "stream",
     "text": [
      "predicted A:\n",
      "tensor([[-0.0295, -0.6853],\n",
      "        [ 0.1119, -0.1070]], grad_fn=<AsStridedBackward>)\n",
      "epoch: 83\n",
      "step: 8300\n",
      "train loss: 11.44795750700525\n"
     ]
    },
    {
     "name": "stderr",
     "output_type": "stream",
     "text": [
      " 84%|████████▍ | 84/100 [04:31<00:57,  3.59s/it]"
     ]
    },
    {
     "name": "stdout",
     "output_type": "stream",
     "text": [
      "predicted A:\n",
      "tensor([[ 0.4841,  0.6566],\n",
      "        [-0.1078,  0.1536]], grad_fn=<AsStridedBackward>)\n",
      "epoch: 84\n",
      "step: 8400\n",
      "train loss: 10.481370120557456\n"
     ]
    },
    {
     "name": "stderr",
     "output_type": "stream",
     "text": [
      " 85%|████████▌ | 85/100 [04:35<00:53,  3.57s/it]"
     ]
    },
    {
     "name": "stdout",
     "output_type": "stream",
     "text": [
      "predicted A:\n",
      "tensor([[ 0.4129,  0.6864],\n",
      "        [-0.1437,  0.2592]], grad_fn=<AsStridedBackward>)\n",
      "epoch: 85\n",
      "step: 8500\n",
      "train loss: 8.880562817149483\n"
     ]
    },
    {
     "name": "stderr",
     "output_type": "stream",
     "text": [
      " 86%|████████▌ | 86/100 [04:38<00:49,  3.57s/it]"
     ]
    },
    {
     "name": "stdout",
     "output_type": "stream",
     "text": [
      "predicted A:\n",
      "tensor([[ 0.4639,  0.3816],\n",
      "        [-0.0649, -0.1764]], grad_fn=<AsStridedBackward>)\n",
      "epoch: 86\n",
      "step: 8600\n",
      "train loss: 9.168468473306229\n"
     ]
    },
    {
     "name": "stderr",
     "output_type": "stream",
     "text": [
      " 87%|████████▋ | 87/100 [04:41<00:44,  3.42s/it]"
     ]
    },
    {
     "name": "stdout",
     "output_type": "stream",
     "text": [
      "predicted A:\n",
      "tensor([[0.1667, 0.0456],\n",
      "        [0.0354, 0.0690]], grad_fn=<AsStridedBackward>)\n",
      "epoch: 87\n",
      "step: 8700\n",
      "train loss: 12.530740107277543\n"
     ]
    },
    {
     "name": "stderr",
     "output_type": "stream",
     "text": [
      " 88%|████████▊ | 88/100 [04:44<00:40,  3.40s/it]"
     ]
    },
    {
     "name": "stdout",
     "output_type": "stream",
     "text": [
      "predicted A:\n",
      "tensor([[-0.1021, -0.0924],\n",
      "        [ 0.0963,  0.3552]], grad_fn=<AsStridedBackward>)\n",
      "epoch: 88\n",
      "step: 8800\n",
      "train loss: 12.827374842417036\n"
     ]
    },
    {
     "name": "stderr",
     "output_type": "stream",
     "text": [
      " 89%|████████▉ | 89/100 [04:48<00:36,  3.32s/it]"
     ]
    },
    {
     "name": "stdout",
     "output_type": "stream",
     "text": [
      "predicted A:\n",
      "tensor([[-0.1577, -0.2528],\n",
      "        [ 0.0928,  0.2980]], grad_fn=<AsStridedBackward>)\n",
      "epoch: 89\n",
      "step: 8900\n",
      "train loss: 10.236286307242034\n"
     ]
    },
    {
     "name": "stderr",
     "output_type": "stream",
     "text": [
      " 90%|█████████ | 90/100 [04:51<00:33,  3.33s/it]"
     ]
    },
    {
     "name": "stdout",
     "output_type": "stream",
     "text": [
      "predicted A:\n",
      "tensor([[ 0.4129,  0.6864],\n",
      "        [-0.1437,  0.2592]], grad_fn=<AsStridedBackward>)\n",
      "epoch: 90\n",
      "step: 9000\n",
      "train loss: 10.369364151605632\n",
      "predicted A:\n",
      "tensor([[ 0.1973,  0.5181],\n",
      "        [-0.0802,  0.3887]], grad_fn=<AsStridedBackward>)\n",
      "epoch: 91\n",
      "step: 9100\n",
      "train loss: 8.56593891927847\n"
     ]
    },
    {
     "data": {
      "image/png": "[encoded data removed]",
      "text/plain": [
       "<Figure size 432x288 with 1 Axes>"
      ]
     },
     "metadata": {
      "needs_background": "light"
     },
     "output_type": "display_data"
    },
    {
     "name": "stderr",
     "output_type": "stream",
     "text": [
      " 92%|█████████▏| 92/100 [04:57<00:26,  3.26s/it]"
     ]
    },
    {
     "name": "stdout",
     "output_type": "stream",
     "text": [
      "predicted A:\n",
      "tensor([[-0.0623,  0.0319],\n",
      "        [ 0.0726,  0.3843]], grad_fn=<AsStridedBackward>)\n",
      "epoch: 92\n",
      "step: 9200\n",
      "train loss: 6.124302423293317\n"
     ]
    },
    {
     "name": "stderr",
     "output_type": "stream",
     "text": [
      " 93%|█████████▎| 93/100 [05:01<00:22,  3.24s/it]"
     ]
    },
    {
     "name": "stdout",
     "output_type": "stream",
     "text": [
      "predicted A:\n",
      "tensor([[ 0.2923,  0.6289],\n",
      "        [-0.1154,  0.3569]], grad_fn=<AsStridedBackward>)\n",
      "epoch: 93\n",
      "step: 9300\n",
      "train loss: 8.37516374028022\n"
     ]
    },
    {
     "name": "stderr",
     "output_type": "stream",
     "text": [
      " 94%|█████████▍| 94/100 [05:04<00:19,  3.18s/it]"
     ]
    },
    {
     "name": "stdout",
     "output_type": "stream",
     "text": [
      "predicted A:\n",
      "tensor([[ 0.4129,  0.6864],\n",
      "        [-0.1437,  0.2592]], grad_fn=<AsStridedBackward>)\n",
      "epoch: 94\n",
      "step: 9400\n",
      "train loss: 10.666058804456025\n"
     ]
    },
    {
     "name": "stderr",
     "output_type": "stream",
     "text": [
      " 95%|█████████▌| 95/100 [05:07<00:16,  3.23s/it]"
     ]
    },
    {
     "name": "stdout",
     "output_type": "stream",
     "text": [
      "predicted A:\n",
      "tensor([[-0.0913, -0.6753],\n",
      "        [ 0.1103, -0.0254]], grad_fn=<AsStridedBackward>)\n",
      "epoch: 95\n",
      "step: 9500\n",
      "train loss: 11.169046185273565\n"
     ]
    },
    {
     "name": "stderr",
     "output_type": "stream",
     "text": [
      " 96%|█████████▌| 96/100 [05:10<00:12,  3.19s/it]"
     ]
    },
    {
     "name": "stdout",
     "output_type": "stream",
     "text": [
      "predicted A:\n",
      "tensor([[ 0.4639,  0.3816],\n",
      "        [-0.0649, -0.1764]], grad_fn=<AsStridedBackward>)\n",
      "epoch: 96\n",
      "step: 9600\n",
      "train loss: 9.801140024879164\n"
     ]
    },
    {
     "name": "stderr",
     "output_type": "stream",
     "text": [
      " 97%|█████████▋| 97/100 [05:13<00:09,  3.19s/it]"
     ]
    },
    {
     "name": "stdout",
     "output_type": "stream",
     "text": [
      "predicted A:\n",
      "tensor([[ 0.1093,  0.3572],\n",
      "        [-0.0097,  0.4208]], grad_fn=<AsStridedBackward>)\n",
      "epoch: 97\n",
      "step: 9700\n",
      "train loss: 11.072838660027768\n"
     ]
    },
    {
     "name": "stderr",
     "output_type": "stream",
     "text": [
      " 98%|█████████▊| 98/100 [05:16<00:06,  3.17s/it]"
     ]
    },
    {
     "name": "stdout",
     "output_type": "stream",
     "text": [
      "predicted A:\n",
      "tensor([[ 0.2427,  0.5761],\n",
      "        [-0.1100,  0.3724]], grad_fn=<AsStridedBackward>)\n",
      "epoch: 98\n",
      "step: 9800\n",
      "train loss: 5.481478016932271\n"
     ]
    },
    {
     "name": "stderr",
     "output_type": "stream",
     "text": [
      " 99%|█████████▉| 99/100 [05:20<00:03,  3.17s/it]"
     ]
    },
    {
     "name": "stdout",
     "output_type": "stream",
     "text": [
      "predicted A:\n",
      "tensor([[ 0.1093,  0.3572],\n",
      "        [-0.0097,  0.4208]], grad_fn=<AsStridedBackward>)\n",
      "epoch: 99\n",
      "step: 9900\n",
      "train loss: 10.10237849693854\n"
     ]
    },
    {
     "name": "stderr",
     "output_type": "stream",
     "text": [
      "100%|██████████| 100/100 [05:23<00:00,  3.23s/it]"
     ]
    },
    {
     "name": "stdout",
     "output_type": "stream",
     "text": [
      "predicted A:\n",
      "tensor([[ 0.3804,  0.6830],\n",
      "        [-0.1366,  0.2952]], grad_fn=<AsStridedBackward>)\n",
      "epoch: 100\n",
      "step: 10000\n",
      "train loss: 7.856505407188471\n",
      "...training complete\n"
     ]
    },
    {
     "name": "stderr",
     "output_type": "stream",
     "text": [
      "\n"
     ]
    },
    {
     "data": {
      "image/png": "[encoded data removed]",
      "text/plain": [
       "<Figure size 432x288 with 1 Axes>"
      ]
     },
     "metadata": {
      "needs_background": "light"
     },
     "output_type": "display_data"
    }
   ],
   "source": [
    "p = torch.Tensor([[0., 1., -1., 0]])\n",
    "z0 = torch.Tensor([[0., 1.]])\n",
    "hid_dim = 10\n",
    "\n",
    "t_max = 6.29*5\n",
    "n_points = 200\n",
    "\n",
    "index_np = np.arange(0, n_points, 1, dtype=np.int)\n",
    "index_np = np.hstack([index_np[:, None]])\n",
    "times_np = np.linspace(0, t_max, num=n_points)\n",
    "times_np = np.hstack([times_np[:, None]])\n",
    "delta = 50\n",
    "\n",
    "times = torch.from_numpy(times_np[:, :, None]).to(z0)\n",
    "ode_true = VaeNeuralODE(LinearODEF(p))\n",
    "obs = ode_true(z0, times, return_whole_sequence=True).detach()\n",
    "obs = obs + torch.randn_like(obs) * 0.01\n",
    "obs = obs.detach().requires_grad_(True)\n",
    "print('Real A:')\n",
    "print(ode_true.param.view(2,2))\n",
    "\n",
    "ode_train = SimpleVaeODENeuralNet(delta, hid_dim, p.shape[1])\n",
    "optimizer = optim.Adam(ode_train.parameters(), lr=0.01)\n",
    "loss_fn = nn.MSELoss()\n",
    "train_loss_store = []\n",
    "train_loss = 0\n",
    "current_step = 0\n",
    "\n",
    "#Training \n",
    "print('Beginning training...')\n",
    "for epoch in tqdm(range(100)):\n",
    "    obs_, ts_ = batch_sampling(obs, times, t_max)\n",
    "    for i, (x, t) in enumerate(zip(obs_, ts_)): #x.shape = [50, 1, 2]\n",
    "        current_step += 1\n",
    "        x = x.squeeze(1)\n",
    "        x = x[:,0]\n",
    "        z_, p = ode_train(x, t)\n",
    "        z_ = z_.squeeze(1)\n",
    "        loss = loss_fn(z_, x.detach())\n",
    "        loss.requires_grad_(True)\n",
    "        optimizer.zero_grad()\n",
    "        loss.backward()\n",
    "        optimizer.step()\n",
    "        \n",
    "        train_loss += loss.item()\n",
    "    train_loss /= (i+1)\n",
    "    print('predicted A:')\n",
    "    print(p.reshape(2,2))\n",
    "    train_loss_store.append(float(train_loss))\n",
    "    print('epoch:', epoch+1)\n",
    "    print('step:', current_step)\n",
    "    print('train loss:', train_loss)\n",
    "    if epoch%10 == 0:\n",
    "        plt.plot(x.detach().numpy(), label='Ground Truth')\n",
    "        plt.plot(z_.detach().numpy(), label='Predicted');\n",
    "        plt.legend()\n",
    "        plt.show()\n",
    "print('...training complete')        \n",
    "plt.plot(train_loss_store)\n",
    "plt.show()"
   ]
  },
  {
   "cell_type": "code",
   "execution_count": 430,
   "metadata": {},
   "outputs": [
    {
     "name": "stderr",
     "output_type": "stream",
     "text": [
      "  0%|          | 0/100 [00:00<?, ?it/s]"
     ]
    },
    {
     "name": "stdout",
     "output_type": "stream",
     "text": [
      "Real A:\n",
      "tensor([[ 0.,  1.],\n",
      "        [-1.,  0.]], grad_fn=<ViewBackward>)\n",
      "Beginning training...\n",
      "predicted A:\n",
      "tensor([[-0.1480,  0.3376],\n",
      "        [-0.3986, -0.4269]], grad_fn=<AsStridedBackward>)\n",
      "epoch: 1\n",
      "step: 100\n",
      "train loss: 0.3738450813293457\n"
     ]
    },
    {
     "data": {
      "image/png": "[encoded data removed]",
      "text/plain": [
       "<Figure size 432x288 with 1 Axes>"
      ]
     },
     "metadata": {
      "needs_background": "light"
     },
     "output_type": "display_data"
    },
    {
     "name": "stderr",
     "output_type": "stream",
     "text": [
      "  2%|▏         | 2/100 [00:05<04:54,  3.01s/it]"
     ]
    },
    {
     "name": "stdout",
     "output_type": "stream",
     "text": [
      "predicted A:\n",
      "tensor([[ 0.1412, -0.2231],\n",
      "        [-0.5413, -0.1626]], grad_fn=<AsStridedBackward>)\n",
      "epoch: 2\n",
      "step: 200\n",
      "train loss: 0.14321962814331055\n"
     ]
    },
    {
     "name": "stderr",
     "output_type": "stream",
     "text": [
      "  3%|▎         | 3/100 [00:08<04:52,  3.01s/it]"
     ]
    },
    {
     "name": "stdout",
     "output_type": "stream",
     "text": [
      "predicted A:\n",
      "tensor([[-0.0074, -0.7814],\n",
      "        [-0.2992, -0.2001]], grad_fn=<AsStridedBackward>)\n",
      "epoch: 3\n",
      "step: 300\n",
      "train loss: 0.13762089379369466\n"
     ]
    },
    {
     "name": "stderr",
     "output_type": "stream",
     "text": [
      "  4%|▍         | 4/100 [00:11<04:45,  2.97s/it]"
     ]
    },
    {
     "name": "stdout",
     "output_type": "stream",
     "text": [
      "predicted A:\n",
      "tensor([[ 0.0134, -0.7775],\n",
      "        [-0.3324, -0.1893]], grad_fn=<AsStridedBackward>)\n",
      "epoch: 4\n",
      "step: 400\n",
      "train loss: 0.1624246442646026\n"
     ]
    },
    {
     "name": "stderr",
     "output_type": "stream",
     "text": [
      "  5%|▌         | 5/100 [00:14<04:39,  2.94s/it]"
     ]
    },
    {
     "name": "stdout",
     "output_type": "stream",
     "text": [
      "predicted A:\n",
      "tensor([[-0.3374,  0.0138],\n",
      "        [-0.1415, -0.4147]], grad_fn=<AsStridedBackward>)\n",
      "epoch: 5\n",
      "step: 500\n",
      "train loss: 0.1404510465571212\n"
     ]
    },
    {
     "name": "stderr",
     "output_type": "stream",
     "text": [
      "  6%|▌         | 6/100 [00:17<04:36,  2.94s/it]"
     ]
    },
    {
     "name": "stdout",
     "output_type": "stream",
     "text": [
      "predicted A:\n",
      "tensor([[ 0.0265, -0.7605],\n",
      "        [-0.3593, -0.1764]], grad_fn=<AsStridedBackward>)\n",
      "epoch: 6\n",
      "step: 600\n",
      "train loss: 0.13390606126201296\n"
     ]
    },
    {
     "name": "stderr",
     "output_type": "stream",
     "text": [
      "  7%|▋         | 7/100 [00:20<04:30,  2.91s/it]"
     ]
    },
    {
     "name": "stdout",
     "output_type": "stream",
     "text": [
      "predicted A:\n",
      "tensor([[ 0.0439, -0.7020],\n",
      "        [-0.4048, -0.1535]], grad_fn=<AsStridedBackward>)\n",
      "epoch: 7\n",
      "step: 700\n",
      "train loss: 0.116080718638507\n"
     ]
    },
    {
     "name": "stderr",
     "output_type": "stream",
     "text": [
      "  8%|▊         | 8/100 [00:24<04:55,  3.21s/it]"
     ]
    },
    {
     "name": "stdout",
     "output_type": "stream",
     "text": [
      "predicted A:\n",
      "tensor([[ 0.1359, -0.1110],\n",
      "        [-0.5551, -0.1750]], grad_fn=<AsStridedBackward>)\n",
      "epoch: 8\n",
      "step: 800\n",
      "train loss: 0.17941036419535186\n"
     ]
    },
    {
     "name": "stderr",
     "output_type": "stream",
     "text": [
      "  9%|▉         | 9/100 [00:27<04:51,  3.21s/it]"
     ]
    },
    {
     "name": "stdout",
     "output_type": "stream",
     "text": [
      "predicted A:\n",
      "tensor([[-0.2338,  0.2650],\n",
      "        [-0.3022, -0.4390]], grad_fn=<AsStridedBackward>)\n",
      "epoch: 9\n",
      "step: 900\n",
      "train loss: 0.15677611652478224\n"
     ]
    },
    {
     "name": "stderr",
     "output_type": "stream",
     "text": [
      " 10%|█         | 10/100 [00:30<04:39,  3.11s/it]"
     ]
    },
    {
     "name": "stdout",
     "output_type": "stream",
     "text": [
      "predicted A:\n",
      "tensor([[-0.3368, -0.1237],\n",
      "        [-0.1171, -0.4008]], grad_fn=<AsStridedBackward>)\n",
      "epoch: 10\n",
      "step: 1000\n",
      "train loss: 0.2087842742196932\n",
      "predicted A:\n",
      "tensor([[-0.1146,  0.3663],\n",
      "        [-0.4387, -0.4129]], grad_fn=<AsStridedBackward>)\n",
      "epoch: 11\n",
      "step: 1100\n",
      "train loss: 0.17173605479926962\n"
     ]
    },
    {
     "data": {
      "image/png": "[encoded data removed]",
      "text/plain": [
       "<Figure size 432x288 with 1 Axes>"
      ]
     },
     "metadata": {
      "needs_background": "light"
     },
     "output_type": "display_data"
    },
    {
     "name": "stderr",
     "output_type": "stream",
     "text": [
      " 12%|█▏        | 12/100 [00:36<04:22,  2.98s/it]"
     ]
    },
    {
     "name": "stdout",
     "output_type": "stream",
     "text": [
      "predicted A:\n",
      "tensor([[-0.1998,  0.3171],\n",
      "        [-0.3507, -0.4365]], grad_fn=<AsStridedBackward>)\n",
      "epoch: 12\n",
      "step: 1200\n",
      "train loss: 0.1673235922397741\n"
     ]
    },
    {
     "name": "stderr",
     "output_type": "stream",
     "text": [
      " 13%|█▎        | 13/100 [00:39<04:16,  2.95s/it]"
     ]
    },
    {
     "name": "stdout",
     "output_type": "stream",
     "text": [
      "predicted A:\n",
      "tensor([[ 0.0559, -0.6578],\n",
      "        [-0.4231, -0.1460]], grad_fn=<AsStridedBackward>)\n",
      "epoch: 13\n",
      "step: 1300\n",
      "train loss: 0.11919240298103326\n"
     ]
    },
    {
     "name": "stderr",
     "output_type": "stream",
     "text": [
      " 14%|█▍        | 14/100 [00:41<04:10,  2.92s/it]"
     ]
    },
    {
     "name": "stdout",
     "output_type": "stream",
     "text": [
      "predicted A:\n",
      "tensor([[ 0.0659, -0.6018],\n",
      "        [-0.4393, -0.1376]], grad_fn=<AsStridedBackward>)\n",
      "epoch: 14\n",
      "step: 1400\n",
      "train loss: 0.12934876443523724\n"
     ]
    },
    {
     "name": "stderr",
     "output_type": "stream",
     "text": [
      " 15%|█▌        | 15/100 [00:44<04:06,  2.91s/it]"
     ]
    },
    {
     "name": "stdout",
     "output_type": "stream",
     "text": [
      "predicted A:\n",
      "tensor([[ 0.0134, -0.7775],\n",
      "        [-0.3324, -0.1893]], grad_fn=<AsStridedBackward>)\n",
      "epoch: 15\n",
      "step: 1500\n",
      "train loss: 0.12794372878975083\n"
     ]
    },
    {
     "name": "stderr",
     "output_type": "stream",
     "text": [
      " 16%|█▌        | 16/100 [00:47<04:02,  2.89s/it]"
     ]
    },
    {
     "name": "stdout",
     "output_type": "stream",
     "text": [
      "predicted A:\n",
      "tensor([[ 0.1140, -0.4232],\n",
      "        [-0.4933, -0.1344]], grad_fn=<AsStridedBackward>)\n",
      "epoch: 16\n",
      "step: 1600\n",
      "train loss: 0.10707969298092712\n"
     ]
    },
    {
     "name": "stderr",
     "output_type": "stream",
     "text": [
      " 17%|█▋        | 17/100 [00:50<03:56,  2.85s/it]"
     ]
    },
    {
     "name": "stdout",
     "output_type": "stream",
     "text": [
      "predicted A:\n",
      "tensor([[ 0.1412, -0.2231],\n",
      "        [-0.5413, -0.1626]], grad_fn=<AsStridedBackward>)\n",
      "epoch: 17\n",
      "step: 1700\n",
      "train loss: 0.0928546058698995\n"
     ]
    },
    {
     "name": "stderr",
     "output_type": "stream",
     "text": [
      " 18%|█▊        | 18/100 [00:53<03:58,  2.90s/it]"
     ]
    },
    {
     "name": "stdout",
     "output_type": "stream",
     "text": [
      "predicted A:\n",
      "tensor([[ 0.0907, -0.5266],\n",
      "        [-0.4726, -0.1435]], grad_fn=<AsStridedBackward>)\n",
      "epoch: 18\n",
      "step: 1800\n",
      "train loss: 0.12555003307525578\n"
     ]
    },
    {
     "name": "stderr",
     "output_type": "stream",
     "text": [
      " 19%|█▉        | 19/100 [00:56<03:57,  2.93s/it]"
     ]
    },
    {
     "name": "stdout",
     "output_type": "stream",
     "text": [
      "predicted A:\n",
      "tensor([[ 0.0098,  0.3006],\n",
      "        [-0.5248, -0.3224]], grad_fn=<AsStridedBackward>)\n",
      "epoch: 19\n",
      "step: 1900\n",
      "train loss: 0.10973961758909269\n"
     ]
    },
    {
     "name": "stderr",
     "output_type": "stream",
     "text": [
      " 20%|██        | 20/100 [00:59<04:06,  3.09s/it]"
     ]
    },
    {
     "name": "stdout",
     "output_type": "stream",
     "text": [
      "predicted A:\n",
      "tensor([[ 0.1412, -0.2231],\n",
      "        [-0.5413, -0.1626]], grad_fn=<AsStridedBackward>)\n",
      "epoch: 20\n",
      "step: 2000\n",
      "train loss: 0.12102502099732099\n",
      "predicted A:\n",
      "tensor([[ 0.0265, -0.7605],\n",
      "        [-0.3593, -0.1764]], grad_fn=<AsStridedBackward>)\n",
      "epoch: 21\n",
      "step: 2100\n",
      "train loss: 0.07502898107208593\n"
     ]
    },
    {
     "data": {
      "image/png": "[encoded data removed]",
      "text/plain": [
       "<Figure size 432x288 with 1 Axes>"
      ]
     },
     "metadata": {
      "needs_background": "light"
     },
     "output_type": "display_data"
    },
    {
     "name": "stderr",
     "output_type": "stream",
     "text": [
      " 22%|██▏       | 22/100 [01:06<04:06,  3.16s/it]"
     ]
    },
    {
     "name": "stdout",
     "output_type": "stream",
     "text": [
      "predicted A:\n",
      "tensor([[-0.0074, -0.7814],\n",
      "        [-0.2992, -0.2001]], grad_fn=<AsStridedBackward>)\n",
      "epoch: 22\n",
      "step: 2200\n",
      "train loss: 0.07653580550792816\n"
     ]
    },
    {
     "name": "stderr",
     "output_type": "stream",
     "text": [
      " 23%|██▎       | 23/100 [01:11<04:56,  3.85s/it]"
     ]
    },
    {
     "name": "stdout",
     "output_type": "stream",
     "text": [
      "predicted A:\n",
      "tensor([[ 0.1412, -0.2231],\n",
      "        [-0.5413, -0.1626]], grad_fn=<AsStridedBackward>)\n",
      "epoch: 23\n",
      "step: 2300\n",
      "train loss: 0.10071867890802577\n"
     ]
    },
    {
     "name": "stderr",
     "output_type": "stream",
     "text": [
      " 24%|██▍       | 24/100 [01:15<04:56,  3.90s/it]"
     ]
    },
    {
     "name": "stdout",
     "output_type": "stream",
     "text": [
      "predicted A:\n",
      "tensor([[ 0.0659, -0.6018],\n",
      "        [-0.4393, -0.1376]], grad_fn=<AsStridedBackward>)\n",
      "epoch: 24\n",
      "step: 2400\n",
      "train loss: 0.10936375983526533\n"
     ]
    },
    {
     "name": "stderr",
     "output_type": "stream",
     "text": [
      " 25%|██▌       | 25/100 [01:18<04:32,  3.64s/it]"
     ]
    },
    {
     "name": "stdout",
     "output_type": "stream",
     "text": [
      "predicted A:\n",
      "tensor([[-0.0400, -0.7725],\n",
      "        [-0.2759, -0.2212]], grad_fn=<AsStridedBackward>)\n",
      "epoch: 25\n",
      "step: 2500\n",
      "train loss: 0.06602445226362921\n"
     ]
    },
    {
     "name": "stderr",
     "output_type": "stream",
     "text": [
      " 26%|██▌       | 26/100 [01:22<04:28,  3.63s/it]"
     ]
    },
    {
     "name": "stdout",
     "output_type": "stream",
     "text": [
      "predicted A:\n",
      "tensor([[ 0.0325, -0.7431],\n",
      "        [-0.3860, -0.1649]], grad_fn=<AsStridedBackward>)\n",
      "epoch: 26\n",
      "step: 2600\n",
      "train loss: 0.09486635372556887\n"
     ]
    },
    {
     "name": "stderr",
     "output_type": "stream",
     "text": [
      " 27%|██▋       | 27/100 [01:25<04:21,  3.58s/it]"
     ]
    },
    {
     "name": "stdout",
     "output_type": "stream",
     "text": [
      "predicted A:\n",
      "tensor([[-0.0400, -0.7725],\n",
      "        [-0.2759, -0.2212]], grad_fn=<AsStridedBackward>)\n",
      "epoch: 27\n",
      "step: 2700\n",
      "train loss: 0.05116254228805678\n"
     ]
    },
    {
     "name": "stderr",
     "output_type": "stream",
     "text": [
      " 28%|██▊       | 28/100 [01:29<04:09,  3.46s/it]"
     ]
    },
    {
     "name": "stdout",
     "output_type": "stream",
     "text": [
      "predicted A:\n",
      "tensor([[-0.0074, -0.7814],\n",
      "        [-0.2992, -0.2001]], grad_fn=<AsStridedBackward>)\n",
      "epoch: 28\n",
      "step: 2800\n",
      "train loss: 0.05272573723086953\n"
     ]
    },
    {
     "name": "stderr",
     "output_type": "stream",
     "text": [
      " 29%|██▉       | 29/100 [01:32<03:56,  3.33s/it]"
     ]
    },
    {
     "name": "stdout",
     "output_type": "stream",
     "text": [
      "predicted A:\n",
      "tensor([[-0.2338,  0.2650],\n",
      "        [-0.3022, -0.4390]], grad_fn=<AsStridedBackward>)\n",
      "epoch: 29\n",
      "step: 2900\n",
      "train loss: 0.07354626959903184\n"
     ]
    },
    {
     "name": "stderr",
     "output_type": "stream",
     "text": [
      " 30%|███       | 30/100 [01:35<03:44,  3.21s/it]"
     ]
    },
    {
     "name": "stdout",
     "output_type": "stream",
     "text": [
      "predicted A:\n",
      "tensor([[ 0.1359, -0.1110],\n",
      "        [-0.5551, -0.1750]], grad_fn=<AsStridedBackward>)\n",
      "epoch: 30\n",
      "step: 3000\n",
      "train loss: 0.09584990132523384\n",
      "predicted A:\n",
      "tensor([[ 0.0439, -0.7020],\n",
      "        [-0.4048, -0.1535]], grad_fn=<AsStridedBackward>)\n",
      "epoch: 31\n",
      "step: 3100\n",
      "train loss: 0.09233057474255726\n"
     ]
    },
    {
     "data": {
      "image/png": "[encoded data removed]",
      "text/plain": [
       "<Figure size 432x288 with 1 Axes>"
      ]
     },
     "metadata": {
      "needs_background": "light"
     },
     "output_type": "display_data"
    },
    {
     "name": "stderr",
     "output_type": "stream",
     "text": [
      " 32%|███▏      | 32/100 [01:40<03:27,  3.04s/it]"
     ]
    },
    {
     "name": "stdout",
     "output_type": "stream",
     "text": [
      "predicted A:\n",
      "tensor([[-0.0400, -0.7725],\n",
      "        [-0.2759, -0.2212]], grad_fn=<AsStridedBackward>)\n",
      "epoch: 32\n",
      "step: 3200\n",
      "train loss: 0.1093804305837028\n"
     ]
    },
    {
     "name": "stderr",
     "output_type": "stream",
     "text": [
      " 33%|███▎      | 33/100 [01:43<03:17,  2.95s/it]"
     ]
    },
    {
     "name": "stdout",
     "output_type": "stream",
     "text": [
      "predicted A:\n",
      "tensor([[-0.1146,  0.3663],\n",
      "        [-0.4387, -0.4129]], grad_fn=<AsStridedBackward>)\n",
      "epoch: 33\n",
      "step: 3300\n",
      "train loss: 0.08277480504284472\n"
     ]
    },
    {
     "name": "stderr",
     "output_type": "stream",
     "text": [
      " 34%|███▍      | 34/100 [01:46<03:15,  2.96s/it]"
     ]
    },
    {
     "name": "stdout",
     "output_type": "stream",
     "text": [
      "predicted A:\n",
      "tensor([[-0.2889,  0.2083],\n",
      "        [-0.2440, -0.4346]], grad_fn=<AsStridedBackward>)\n",
      "epoch: 34\n",
      "step: 3400\n",
      "train loss: 0.047514320425902944\n"
     ]
    },
    {
     "name": "stderr",
     "output_type": "stream",
     "text": [
      " 35%|███▌      | 35/100 [01:50<03:21,  3.10s/it]"
     ]
    },
    {
     "name": "stdout",
     "output_type": "stream",
     "text": [
      "predicted A:\n",
      "tensor([[ 0.0439, -0.7020],\n",
      "        [-0.4048, -0.1535]], grad_fn=<AsStridedBackward>)\n",
      "epoch: 35\n",
      "step: 3500\n",
      "train loss: 0.05092133209416857\n"
     ]
    },
    {
     "name": "stderr",
     "output_type": "stream",
     "text": [
      " 36%|███▌      | 36/100 [01:53<03:25,  3.21s/it]"
     ]
    },
    {
     "name": "stdout",
     "output_type": "stream",
     "text": [
      "predicted A:\n",
      "tensor([[ 0.1136,  0.0062],\n",
      "        [-0.5554, -0.1984]], grad_fn=<AsStridedBackward>)\n",
      "epoch: 36\n",
      "step: 3600\n",
      "train loss: 0.03423371393469444\n"
     ]
    },
    {
     "name": "stderr",
     "output_type": "stream",
     "text": [
      " 37%|███▋      | 37/100 [01:56<03:22,  3.21s/it]"
     ]
    },
    {
     "name": "stdout",
     "output_type": "stream",
     "text": [
      "predicted A:\n",
      "tensor([[ 0.1412, -0.2231],\n",
      "        [-0.5413, -0.1626]], grad_fn=<AsStridedBackward>)\n",
      "epoch: 37\n",
      "step: 3700\n",
      "train loss: 0.03213555342580688\n"
     ]
    },
    {
     "name": "stderr",
     "output_type": "stream",
     "text": [
      " 38%|███▊      | 38/100 [01:59<03:18,  3.20s/it]"
     ]
    },
    {
     "name": "stdout",
     "output_type": "stream",
     "text": [
      "predicted A:\n",
      "tensor([[ 0.0659, -0.6018],\n",
      "        [-0.4393, -0.1376]], grad_fn=<AsStridedBackward>)\n",
      "epoch: 38\n",
      "step: 3800\n",
      "train loss: 0.053066662289208505\n"
     ]
    },
    {
     "name": "stderr",
     "output_type": "stream",
     "text": [
      " 39%|███▉      | 39/100 [02:03<03:15,  3.21s/it]"
     ]
    },
    {
     "name": "stdout",
     "output_type": "stream",
     "text": [
      "predicted A:\n",
      "tensor([[ 0.0786,  0.1440],\n",
      "        [-0.5632, -0.2453]], grad_fn=<AsStridedBackward>)\n",
      "epoch: 39\n",
      "step: 3900\n",
      "train loss: 0.07843191132424406\n"
     ]
    },
    {
     "name": "stderr",
     "output_type": "stream",
     "text": [
      " 40%|████      | 40/100 [02:06<03:11,  3.19s/it]"
     ]
    },
    {
     "name": "stdout",
     "output_type": "stream",
     "text": [
      "predicted A:\n",
      "tensor([[-0.0074, -0.7814],\n",
      "        [-0.2992, -0.2001]], grad_fn=<AsStridedBackward>)\n",
      "epoch: 40\n",
      "step: 4000\n",
      "train loss: 0.046499498174759554\n",
      "predicted A:\n",
      "tensor([[-0.3191,  0.0812],\n",
      "        [-0.1860, -0.4310]], grad_fn=<AsStridedBackward>)\n",
      "epoch: 41\n",
      "step: 4100\n",
      "train loss: 0.029958652795620738\n"
     ]
    },
    {
     "data": {
      "image/png": "[encoded data removed]",
      "text/plain": [
       "<Figure size 432x288 with 1 Axes>"
      ]
     },
     "metadata": {
      "needs_background": "light"
     },
     "output_type": "display_data"
    },
    {
     "name": "stderr",
     "output_type": "stream",
     "text": [
      " 42%|████▏     | 42/100 [02:12<02:57,  3.06s/it]"
     ]
    },
    {
     "name": "stdout",
     "output_type": "stream",
     "text": [
      "predicted A:\n",
      "tensor([[-0.0074, -0.7814],\n",
      "        [-0.2992, -0.2001]], grad_fn=<AsStridedBackward>)\n",
      "epoch: 42\n",
      "step: 4200\n",
      "train loss: 0.06341805112662122\n"
     ]
    },
    {
     "name": "stderr",
     "output_type": "stream",
     "text": [
      " 43%|████▎     | 43/100 [02:14<02:48,  2.95s/it]"
     ]
    },
    {
     "name": "stdout",
     "output_type": "stream",
     "text": [
      "predicted A:\n",
      "tensor([[-0.3191,  0.0812],\n",
      "        [-0.1860, -0.4310]], grad_fn=<AsStridedBackward>)\n",
      "epoch: 43\n",
      "step: 4300\n",
      "train loss: 0.050463874110870284\n"
     ]
    },
    {
     "name": "stderr",
     "output_type": "stream",
     "text": [
      " 44%|████▍     | 44/100 [02:17<02:44,  2.93s/it]"
     ]
    },
    {
     "name": "stdout",
     "output_type": "stream",
     "text": [
      "predicted A:\n",
      "tensor([[ 0.0325, -0.7431],\n",
      "        [-0.3860, -0.1649]], grad_fn=<AsStridedBackward>)\n",
      "epoch: 44\n",
      "step: 4400\n",
      "train loss: 0.08248249386422256\n"
     ]
    },
    {
     "name": "stderr",
     "output_type": "stream",
     "text": [
      " 45%|████▌     | 45/100 [02:20<02:38,  2.88s/it]"
     ]
    },
    {
     "name": "stdout",
     "output_type": "stream",
     "text": [
      "predicted A:\n",
      "tensor([[ 0.0524,  0.2076],\n",
      "        [-0.5535, -0.2710]], grad_fn=<AsStridedBackward>)\n",
      "epoch: 45\n",
      "step: 4500\n",
      "train loss: 0.09423712347550169\n"
     ]
    },
    {
     "name": "stderr",
     "output_type": "stream",
     "text": [
      " 46%|████▌     | 46/100 [02:23<02:44,  3.05s/it]"
     ]
    },
    {
     "name": "stdout",
     "output_type": "stream",
     "text": [
      "predicted A:\n",
      "tensor([[ 0.1140, -0.4232],\n",
      "        [-0.4933, -0.1344]], grad_fn=<AsStridedBackward>)\n",
      "epoch: 46\n",
      "step: 4600\n",
      "train loss: 0.07578348883519972\n"
     ]
    },
    {
     "name": "stderr",
     "output_type": "stream",
     "text": [
      " 47%|████▋     | 47/100 [02:27<02:49,  3.20s/it]"
     ]
    },
    {
     "name": "stdout",
     "output_type": "stream",
     "text": [
      "predicted A:\n",
      "tensor([[ 0.0325, -0.7431],\n",
      "        [-0.3860, -0.1649]], grad_fn=<AsStridedBackward>)\n",
      "epoch: 47\n",
      "step: 4700\n",
      "train loss: 0.03856804584763936\n"
     ]
    },
    {
     "name": "stderr",
     "output_type": "stream",
     "text": [
      " 48%|████▊     | 48/100 [02:30<02:44,  3.17s/it]"
     ]
    },
    {
     "name": "stdout",
     "output_type": "stream",
     "text": [
      "predicted A:\n",
      "tensor([[-0.3374,  0.0138],\n",
      "        [-0.1415, -0.4147]], grad_fn=<AsStridedBackward>)\n",
      "epoch: 48\n",
      "step: 4800\n",
      "train loss: 0.055280128614013636\n"
     ]
    },
    {
     "name": "stderr",
     "output_type": "stream",
     "text": [
      " 49%|████▉     | 49/100 [02:33<02:42,  3.18s/it]"
     ]
    },
    {
     "name": "stdout",
     "output_type": "stream",
     "text": [
      "predicted A:\n",
      "tensor([[ 0.1140, -0.4232],\n",
      "        [-0.4933, -0.1344]], grad_fn=<AsStridedBackward>)\n",
      "epoch: 49\n",
      "step: 4900\n",
      "train loss: 0.09082740929563497\n"
     ]
    },
    {
     "name": "stderr",
     "output_type": "stream",
     "text": [
      " 50%|█████     | 50/100 [02:37<02:40,  3.21s/it]"
     ]
    },
    {
     "name": "stdout",
     "output_type": "stream",
     "text": [
      "predicted A:\n",
      "tensor([[ 0.0389,  0.2558],\n",
      "        [-0.5430, -0.2937]], grad_fn=<AsStridedBackward>)\n",
      "epoch: 50\n",
      "step: 5000\n",
      "train loss: 0.08787702111179278\n",
      "predicted A:\n",
      "tensor([[-0.2889,  0.2083],\n",
      "        [-0.2440, -0.4346]], grad_fn=<AsStridedBackward>)\n",
      "epoch: 51\n",
      "step: 5100\n",
      "train loss: 0.044242953736672766\n"
     ]
    },
    {
     "data": {
      "image/png": "[encoded data removed]",
      "text/plain": [
       "<Figure size 432x288 with 1 Axes>"
      ]
     },
     "metadata": {
      "needs_background": "light"
     },
     "output_type": "display_data"
    },
    {
     "name": "stderr",
     "output_type": "stream",
     "text": [
      " 52%|█████▏    | 52/100 [02:43<02:28,  3.10s/it]"
     ]
    },
    {
     "name": "stdout",
     "output_type": "stream",
     "text": [
      "predicted A:\n",
      "tensor([[-0.0074, -0.7814],\n",
      "        [-0.2992, -0.2001]], grad_fn=<AsStridedBackward>)\n",
      "epoch: 52\n",
      "step: 5200\n",
      "train loss: 0.05741597866494546\n"
     ]
    },
    {
     "name": "stderr",
     "output_type": "stream",
     "text": [
      " 53%|█████▎    | 53/100 [02:45<02:21,  3.02s/it]"
     ]
    },
    {
     "name": "stdout",
     "output_type": "stream",
     "text": [
      "predicted A:\n",
      "tensor([[-0.1480,  0.3376],\n",
      "        [-0.3986, -0.4269]], grad_fn=<AsStridedBackward>)\n",
      "epoch: 53\n",
      "step: 5300\n",
      "train loss: 0.07482883323713618\n"
     ]
    },
    {
     "name": "stderr",
     "output_type": "stream",
     "text": [
      " 54%|█████▍    | 54/100 [02:48<02:17,  2.99s/it]"
     ]
    },
    {
     "name": "stdout",
     "output_type": "stream",
     "text": [
      "predicted A:\n",
      "tensor([[-0.2930,  0.1419],\n",
      "        [-0.2172, -0.4308]], grad_fn=<AsStridedBackward>)\n",
      "epoch: 54\n",
      "step: 5400\n",
      "train loss: 0.0668116041669886\n"
     ]
    },
    {
     "name": "stderr",
     "output_type": "stream",
     "text": [
      " 55%|█████▌    | 55/100 [02:51<02:12,  2.95s/it]"
     ]
    },
    {
     "name": "stdout",
     "output_type": "stream",
     "text": [
      "predicted A:\n",
      "tensor([[-0.0503, -0.2598],\n",
      "        [-0.3228, -0.2453]], grad_fn=<AsStridedBackward>)\n",
      "epoch: 55\n",
      "step: 5500\n",
      "train loss: 0.033290538978508005\n"
     ]
    },
    {
     "name": "stderr",
     "output_type": "stream",
     "text": [
      " 56%|█████▌    | 56/100 [02:54<02:08,  2.92s/it]"
     ]
    },
    {
     "name": "stdout",
     "output_type": "stream",
     "text": [
      "predicted A:\n",
      "tensor([[ 0.0134, -0.7775],\n",
      "        [-0.3324, -0.1893]], grad_fn=<AsStridedBackward>)\n",
      "epoch: 56\n",
      "step: 5600\n",
      "train loss: 0.030392154092967756\n"
     ]
    },
    {
     "name": "stderr",
     "output_type": "stream",
     "text": [
      " 57%|█████▋    | 57/100 [02:57<02:06,  2.93s/it]"
     ]
    },
    {
     "name": "stdout",
     "output_type": "stream",
     "text": [
      "predicted A:\n",
      "tensor([[ 0.0907, -0.5266],\n",
      "        [-0.4726, -0.1435]], grad_fn=<AsStridedBackward>)\n",
      "epoch: 57\n",
      "step: 5700\n",
      "train loss: 0.0243446587698634\n"
     ]
    },
    {
     "name": "stderr",
     "output_type": "stream",
     "text": [
      " 58%|█████▊    | 58/100 [03:00<02:03,  2.95s/it]"
     ]
    },
    {
     "name": "stdout",
     "output_type": "stream",
     "text": [
      "predicted A:\n",
      "tensor([[ 0.0134, -0.7775],\n",
      "        [-0.3324, -0.1893]], grad_fn=<AsStridedBackward>)\n",
      "epoch: 58\n",
      "step: 5800\n",
      "train loss: 0.040114077014729486\n"
     ]
    },
    {
     "name": "stderr",
     "output_type": "stream",
     "text": [
      " 59%|█████▉    | 59/100 [03:03<02:01,  2.96s/it]"
     ]
    },
    {
     "name": "stdout",
     "output_type": "stream",
     "text": [
      "predicted A:\n",
      "tensor([[ 0.0098,  0.3006],\n",
      "        [-0.5248, -0.3224]], grad_fn=<AsStridedBackward>)\n",
      "epoch: 59\n",
      "step: 5900\n",
      "train loss: 0.03294725076327447\n"
     ]
    },
    {
     "name": "stderr",
     "output_type": "stream",
     "text": [
      " 60%|██████    | 60/100 [03:06<01:57,  2.93s/it]"
     ]
    },
    {
     "name": "stdout",
     "output_type": "stream",
     "text": [
      "predicted A:\n",
      "tensor([[ 0.0439, -0.7020],\n",
      "        [-0.4048, -0.1535]], grad_fn=<AsStridedBackward>)\n",
      "epoch: 60\n",
      "step: 6000\n",
      "train loss: 0.041849809218015\n",
      "predicted A:\n",
      "tensor([[-0.3368, -0.1237],\n",
      "        [-0.1171, -0.4008]], grad_fn=<AsStridedBackward>)\n",
      "epoch: 61\n",
      "step: 6100\n",
      "train loss: 0.08496252752825434\n"
     ]
    },
    {
     "data": {
      "image/png": "[encoded data removed]",
      "text/plain": [
       "<Figure size 432x288 with 1 Axes>"
      ]
     },
     "metadata": {
      "needs_background": "light"
     },
     "output_type": "display_data"
    },
    {
     "name": "stderr",
     "output_type": "stream",
     "text": [
      " 62%|██████▏   | 62/100 [03:12<01:51,  2.94s/it]"
     ]
    },
    {
     "name": "stdout",
     "output_type": "stream",
     "text": [
      "predicted A:\n",
      "tensor([[ 0.0559, -0.6578],\n",
      "        [-0.4231, -0.1460]], grad_fn=<AsStridedBackward>)\n",
      "epoch: 62\n",
      "step: 6200\n",
      "train loss: 0.11132192250834627\n"
     ]
    },
    {
     "name": "stderr",
     "output_type": "stream",
     "text": [
      " 63%|██████▎   | 63/100 [03:15<01:48,  2.93s/it]"
     ]
    },
    {
     "name": "stdout",
     "output_type": "stream",
     "text": [
      "predicted A:\n",
      "tensor([[ 0.0659, -0.6018],\n",
      "        [-0.4393, -0.1376]], grad_fn=<AsStridedBackward>)\n",
      "epoch: 63\n",
      "step: 6300\n",
      "train loss: 0.051626198224260456\n"
     ]
    },
    {
     "name": "stderr",
     "output_type": "stream",
     "text": [
      " 64%|██████▍   | 64/100 [03:18<01:44,  2.90s/it]"
     ]
    },
    {
     "name": "stdout",
     "output_type": "stream",
     "text": [
      "predicted A:\n",
      "tensor([[ 0.0134, -0.7775],\n",
      "        [-0.3324, -0.1893]], grad_fn=<AsStridedBackward>)\n",
      "epoch: 64\n",
      "step: 6400\n",
      "train loss: 0.032103154242481134\n"
     ]
    },
    {
     "name": "stderr",
     "output_type": "stream",
     "text": [
      " 65%|██████▌   | 65/100 [03:20<01:40,  2.88s/it]"
     ]
    },
    {
     "name": "stdout",
     "output_type": "stream",
     "text": [
      "predicted A:\n",
      "tensor([[-0.0400, -0.7725],\n",
      "        [-0.2759, -0.2212]], grad_fn=<AsStridedBackward>)\n",
      "epoch: 65\n",
      "step: 6500\n",
      "train loss: 0.051362573370733064\n"
     ]
    },
    {
     "name": "stderr",
     "output_type": "stream",
     "text": [
      " 66%|██████▌   | 66/100 [03:23<01:38,  2.89s/it]"
     ]
    },
    {
     "name": "stdout",
     "output_type": "stream",
     "text": [
      "predicted A:\n",
      "tensor([[-0.1146,  0.3663],\n",
      "        [-0.4387, -0.4129]], grad_fn=<AsStridedBackward>)\n",
      "epoch: 66\n",
      "step: 6600\n",
      "train loss: 0.025986989182107383\n"
     ]
    },
    {
     "name": "stderr",
     "output_type": "stream",
     "text": [
      " 67%|██████▋   | 67/100 [03:26<01:34,  2.86s/it]"
     ]
    },
    {
     "name": "stdout",
     "output_type": "stream",
     "text": [
      "predicted A:\n",
      "tensor([[ 0.0559, -0.6578],\n",
      "        [-0.4231, -0.1460]], grad_fn=<AsStridedBackward>)\n",
      "epoch: 67\n",
      "step: 6700\n",
      "train loss: 0.044996905241065324\n"
     ]
    },
    {
     "name": "stderr",
     "output_type": "stream",
     "text": [
      " 68%|██████▊   | 68/100 [03:29<01:32,  2.90s/it]"
     ]
    },
    {
     "name": "stdout",
     "output_type": "stream",
     "text": [
      "predicted A:\n",
      "tensor([[ 0.1136,  0.0062],\n",
      "        [-0.5554, -0.1984]], grad_fn=<AsStridedBackward>)\n",
      "epoch: 68\n",
      "step: 6800\n",
      "train loss: 0.05963764122322106\n"
     ]
    },
    {
     "name": "stderr",
     "output_type": "stream",
     "text": [
      " 69%|██████▉   | 69/100 [03:32<01:32,  2.98s/it]"
     ]
    },
    {
     "name": "stdout",
     "output_type": "stream",
     "text": [
      "predicted A:\n",
      "tensor([[ 0.1341, -0.3219],\n",
      "        [-0.5219, -0.1570]], grad_fn=<AsStridedBackward>)\n",
      "epoch: 69\n",
      "step: 6900\n",
      "train loss: 0.04680532797394393\n"
     ]
    },
    {
     "name": "stderr",
     "output_type": "stream",
     "text": [
      " 70%|███████   | 70/100 [03:35<01:31,  3.06s/it]"
     ]
    },
    {
     "name": "stdout",
     "output_type": "stream",
     "text": [
      "predicted A:\n",
      "tensor([[ 0.1341, -0.3219],\n",
      "        [-0.5219, -0.1570]], grad_fn=<AsStridedBackward>)\n",
      "epoch: 70\n",
      "step: 7000\n",
      "train loss: 0.08845427348261384\n",
      "predicted A:\n",
      "tensor([[ 0.0265, -0.7605],\n",
      "        [-0.3593, -0.1764]], grad_fn=<AsStridedBackward>)\n",
      "epoch: 71\n",
      "step: 7100\n",
      "train loss: 0.06483869582949967\n"
     ]
    },
    {
     "data": {
      "image/png": "[encoded data removed]",
      "text/plain": [
       "<Figure size 432x288 with 1 Axes>"
      ]
     },
     "metadata": {
      "needs_background": "light"
     },
     "output_type": "display_data"
    },
    {
     "name": "stderr",
     "output_type": "stream",
     "text": [
      " 72%|███████▏  | 72/100 [03:42<01:25,  3.04s/it]"
     ]
    },
    {
     "name": "stdout",
     "output_type": "stream",
     "text": [
      "predicted A:\n",
      "tensor([[ 0.1359, -0.1110],\n",
      "        [-0.5551, -0.1750]], grad_fn=<AsStridedBackward>)\n",
      "epoch: 72\n",
      "step: 7200\n",
      "train loss: 0.055872635857907575\n"
     ]
    },
    {
     "name": "stderr",
     "output_type": "stream",
     "text": [
      " 73%|███████▎  | 73/100 [03:44<01:20,  2.98s/it]"
     ]
    },
    {
     "name": "stdout",
     "output_type": "stream",
     "text": [
      "predicted A:\n",
      "tensor([[-0.0074, -0.7814],\n",
      "        [-0.2992, -0.2001]], grad_fn=<AsStridedBackward>)\n",
      "epoch: 73\n",
      "step: 7300\n",
      "train loss: 0.03908419120882412\n"
     ]
    },
    {
     "name": "stderr",
     "output_type": "stream",
     "text": [
      " 74%|███████▍  | 74/100 [03:47<01:16,  2.96s/it]"
     ]
    },
    {
     "name": "stdout",
     "output_type": "stream",
     "text": [
      "predicted A:\n",
      "tensor([[-0.0503, -0.2598],\n",
      "        [-0.3228, -0.2453]], grad_fn=<AsStridedBackward>)\n",
      "epoch: 74\n",
      "step: 7400\n",
      "train loss: 0.036285244881949646\n"
     ]
    },
    {
     "name": "stderr",
     "output_type": "stream",
     "text": [
      " 75%|███████▌  | 75/100 [03:50<01:14,  2.96s/it]"
     ]
    },
    {
     "name": "stdout",
     "output_type": "stream",
     "text": [
      "predicted A:\n",
      "tensor([[-0.0074, -0.7814],\n",
      "        [-0.2992, -0.2001]], grad_fn=<AsStridedBackward>)\n",
      "epoch: 75\n",
      "step: 7500\n",
      "train loss: 0.08098905708313761\n"
     ]
    },
    {
     "name": "stderr",
     "output_type": "stream",
     "text": [
      " 76%|███████▌  | 76/100 [03:53<01:10,  2.93s/it]"
     ]
    },
    {
     "name": "stdout",
     "output_type": "stream",
     "text": [
      "predicted A:\n",
      "tensor([[-0.1998,  0.3171],\n",
      "        [-0.3507, -0.4365]], grad_fn=<AsStridedBackward>)\n",
      "epoch: 76\n",
      "step: 7600\n",
      "train loss: 0.04599697898609087\n"
     ]
    },
    {
     "name": "stderr",
     "output_type": "stream",
     "text": [
      " 77%|███████▋  | 77/100 [03:56<01:07,  2.92s/it]"
     ]
    },
    {
     "name": "stdout",
     "output_type": "stream",
     "text": [
      "predicted A:\n",
      "tensor([[-0.0503, -0.2598],\n",
      "        [-0.3228, -0.2453]], grad_fn=<AsStridedBackward>)\n",
      "epoch: 77\n",
      "step: 7700\n",
      "train loss: 0.06581845254045925\n"
     ]
    },
    {
     "name": "stderr",
     "output_type": "stream",
     "text": [
      " 78%|███████▊  | 78/100 [03:59<01:03,  2.90s/it]"
     ]
    },
    {
     "name": "stdout",
     "output_type": "stream",
     "text": [
      "predicted A:\n",
      "tensor([[-0.0503, -0.2598],\n",
      "        [-0.3228, -0.2453]], grad_fn=<AsStridedBackward>)\n",
      "epoch: 78\n",
      "step: 7800\n",
      "train loss: 0.062130156443767716\n"
     ]
    },
    {
     "name": "stderr",
     "output_type": "stream",
     "text": [
      " 79%|███████▉  | 79/100 [04:02<01:01,  2.91s/it]"
     ]
    },
    {
     "name": "stdout",
     "output_type": "stream",
     "text": [
      "predicted A:\n",
      "tensor([[-0.2889,  0.2083],\n",
      "        [-0.2440, -0.4346]], grad_fn=<AsStridedBackward>)\n",
      "epoch: 79\n",
      "step: 7900\n",
      "train loss: 0.026098406906289392\n"
     ]
    },
    {
     "name": "stderr",
     "output_type": "stream",
     "text": [
      " 80%|████████  | 80/100 [04:05<00:58,  2.94s/it]"
     ]
    },
    {
     "name": "stdout",
     "output_type": "stream",
     "text": [
      "predicted A:\n",
      "tensor([[-0.0503, -0.2598],\n",
      "        [-0.3228, -0.2453]], grad_fn=<AsStridedBackward>)\n",
      "epoch: 80\n",
      "step: 8000\n",
      "train loss: 0.053952016774309365\n",
      "predicted A:\n",
      "tensor([[ 0.0325, -0.7431],\n",
      "        [-0.3860, -0.1649]], grad_fn=<AsStridedBackward>)\n",
      "epoch: 81\n",
      "step: 8100\n",
      "train loss: 0.038342220769494076\n"
     ]
    },
    {
     "data": {
      "image/png": "[encoded data removed]",
      "text/plain": [
       "<Figure size 432x288 with 1 Axes>"
      ]
     },
     "metadata": {
      "needs_background": "light"
     },
     "output_type": "display_data"
    },
    {
     "name": "stderr",
     "output_type": "stream",
     "text": [
      " 82%|████████▏ | 82/100 [04:11<00:53,  2.96s/it]"
     ]
    },
    {
     "name": "stdout",
     "output_type": "stream",
     "text": [
      "predicted A:\n",
      "tensor([[ 0.1341, -0.3219],\n",
      "        [-0.5219, -0.1570]], grad_fn=<AsStridedBackward>)\n",
      "epoch: 82\n",
      "step: 8200\n",
      "train loss: 0.02652825696454614\n"
     ]
    },
    {
     "name": "stderr",
     "output_type": "stream",
     "text": [
      " 83%|████████▎ | 83/100 [04:14<00:50,  2.95s/it]"
     ]
    },
    {
     "name": "stdout",
     "output_type": "stream",
     "text": [
      "predicted A:\n",
      "tensor([[ 0.0134, -0.7775],\n",
      "        [-0.3324, -0.1893]], grad_fn=<AsStridedBackward>)\n",
      "epoch: 83\n",
      "step: 8300\n",
      "train loss: 0.04927591026779872\n"
     ]
    },
    {
     "name": "stderr",
     "output_type": "stream",
     "text": [
      " 84%|████████▍ | 84/100 [04:17<00:47,  2.96s/it]"
     ]
    },
    {
     "name": "stdout",
     "output_type": "stream",
     "text": [
      "predicted A:\n",
      "tensor([[-0.3277, -0.2631],\n",
      "        [-0.1128, -0.3950]], grad_fn=<AsStridedBackward>)\n",
      "epoch: 84\n",
      "step: 8400\n",
      "train loss: 0.0379987462914568\n"
     ]
    },
    {
     "name": "stderr",
     "output_type": "stream",
     "text": [
      " 85%|████████▌ | 85/100 [04:20<00:43,  2.92s/it]"
     ]
    },
    {
     "name": "stdout",
     "output_type": "stream",
     "text": [
      "predicted A:\n",
      "tensor([[ 0.0524,  0.2076],\n",
      "        [-0.5535, -0.2710]], grad_fn=<AsStridedBackward>)\n",
      "epoch: 85\n",
      "step: 8500\n",
      "train loss: 0.04705545317640251\n"
     ]
    },
    {
     "name": "stderr",
     "output_type": "stream",
     "text": [
      " 86%|████████▌ | 86/100 [04:23<00:41,  2.97s/it]"
     ]
    },
    {
     "name": "stdout",
     "output_type": "stream",
     "text": [
      "predicted A:\n",
      "tensor([[ 0.0998,  0.0870],\n",
      "        [-0.5635, -0.2232]], grad_fn=<AsStridedBackward>)\n",
      "epoch: 86\n",
      "step: 8600\n",
      "train loss: 0.05116841558714189\n"
     ]
    },
    {
     "name": "stderr",
     "output_type": "stream",
     "text": [
      " 87%|████████▋ | 87/100 [04:26<00:38,  2.97s/it]"
     ]
    },
    {
     "name": "stdout",
     "output_type": "stream",
     "text": [
      "predicted A:\n",
      "tensor([[ 0.1136,  0.0062],\n",
      "        [-0.5554, -0.1984]], grad_fn=<AsStridedBackward>)\n",
      "epoch: 87\n",
      "step: 8700\n",
      "train loss: 0.056558463076443674\n"
     ]
    },
    {
     "name": "stderr",
     "output_type": "stream",
     "text": [
      " 88%|████████▊ | 88/100 [04:28<00:35,  2.93s/it]"
     ]
    },
    {
     "name": "stdout",
     "output_type": "stream",
     "text": [
      "predicted A:\n",
      "tensor([[-0.0666,  0.3514],\n",
      "        [-0.4884, -0.3798]], grad_fn=<AsStridedBackward>)\n",
      "epoch: 88\n",
      "step: 8800\n",
      "train loss: 0.04536589622899273\n"
     ]
    },
    {
     "name": "stderr",
     "output_type": "stream",
     "text": [
      " 89%|████████▉ | 89/100 [04:31<00:32,  2.92s/it]"
     ]
    },
    {
     "name": "stdout",
     "output_type": "stream",
     "text": [
      "predicted A:\n",
      "tensor([[ 0.0098,  0.3006],\n",
      "        [-0.5248, -0.3224]], grad_fn=<AsStridedBackward>)\n",
      "epoch: 89\n",
      "step: 8900\n",
      "train loss: 0.0697299738965399\n"
     ]
    },
    {
     "name": "stderr",
     "output_type": "stream",
     "text": [
      " 90%|█████████ | 90/100 [04:34<00:28,  2.87s/it]"
     ]
    },
    {
     "name": "stdout",
     "output_type": "stream",
     "text": [
      "predicted A:\n",
      "tensor([[-0.3368, -0.1237],\n",
      "        [-0.1171, -0.4008]], grad_fn=<AsStridedBackward>)\n",
      "epoch: 90\n",
      "step: 9000\n",
      "train loss: 0.08424964661462366\n",
      "predicted A:\n",
      "tensor([[-0.0400, -0.7725],\n",
      "        [-0.2759, -0.2212]], grad_fn=<AsStridedBackward>)\n",
      "epoch: 91\n",
      "step: 9100\n",
      "train loss: 0.03001752318560464\n"
     ]
    },
    {
     "data": {
      "image/png": "[encoded data removed]",
      "text/plain": [
       "<Figure size 432x288 with 1 Axes>"
      ]
     },
     "metadata": {
      "needs_background": "light"
     },
     "output_type": "display_data"
    },
    {
     "name": "stderr",
     "output_type": "stream",
     "text": [
      " 92%|█████████▏| 92/100 [04:40<00:23,  2.92s/it]"
     ]
    },
    {
     "name": "stdout",
     "output_type": "stream",
     "text": [
      "predicted A:\n",
      "tensor([[ 0.0559, -0.6578],\n",
      "        [-0.4231, -0.1460]], grad_fn=<AsStridedBackward>)\n",
      "epoch: 92\n",
      "step: 9200\n",
      "train loss: 0.027134928403862505\n"
     ]
    },
    {
     "name": "stderr",
     "output_type": "stream",
     "text": [
      " 93%|█████████▎| 93/100 [04:43<00:20,  2.88s/it]"
     ]
    },
    {
     "name": "stdout",
     "output_type": "stream",
     "text": [
      "predicted A:\n",
      "tensor([[-0.3368, -0.1237],\n",
      "        [-0.1171, -0.4008]], grad_fn=<AsStridedBackward>)\n",
      "epoch: 93\n",
      "step: 9300\n",
      "train loss: 0.043785262413029304\n"
     ]
    },
    {
     "name": "stderr",
     "output_type": "stream",
     "text": [
      " 94%|█████████▍| 94/100 [04:46<00:17,  2.88s/it]"
     ]
    },
    {
     "name": "stdout",
     "output_type": "stream",
     "text": [
      "predicted A:\n",
      "tensor([[ 0.0659, -0.6018],\n",
      "        [-0.4393, -0.1376]], grad_fn=<AsStridedBackward>)\n",
      "epoch: 94\n",
      "step: 9400\n",
      "train loss: 0.07387348817337942\n"
     ]
    },
    {
     "name": "stderr",
     "output_type": "stream",
     "text": [
      " 95%|█████████▌| 95/100 [04:49<00:14,  2.86s/it]"
     ]
    },
    {
     "name": "stdout",
     "output_type": "stream",
     "text": [
      "predicted A:\n",
      "tensor([[ 0.0439, -0.7020],\n",
      "        [-0.4048, -0.1535]], grad_fn=<AsStridedBackward>)\n",
      "epoch: 95\n",
      "step: 9500\n",
      "train loss: 0.04171534464868277\n"
     ]
    },
    {
     "name": "stderr",
     "output_type": "stream",
     "text": [
      " 96%|█████████▌| 96/100 [04:51<00:11,  2.86s/it]"
     ]
    },
    {
     "name": "stdout",
     "output_type": "stream",
     "text": [
      "predicted A:\n",
      "tensor([[-0.0074, -0.7814],\n",
      "        [-0.2992, -0.2001]], grad_fn=<AsStridedBackward>)\n",
      "epoch: 96\n",
      "step: 9600\n",
      "train loss: 0.04268046762854201\n"
     ]
    },
    {
     "name": "stderr",
     "output_type": "stream",
     "text": [
      " 97%|█████████▋| 97/100 [04:54<00:08,  2.89s/it]"
     ]
    },
    {
     "name": "stdout",
     "output_type": "stream",
     "text": [
      "predicted A:\n",
      "tensor([[ 0.1136,  0.0062],\n",
      "        [-0.5554, -0.1984]], grad_fn=<AsStridedBackward>)\n",
      "epoch: 97\n",
      "step: 9700\n",
      "train loss: 0.02392077684202831\n"
     ]
    },
    {
     "name": "stderr",
     "output_type": "stream",
     "text": [
      " 98%|█████████▊| 98/100 [04:57<00:05,  2.87s/it]"
     ]
    },
    {
     "name": "stdout",
     "output_type": "stream",
     "text": [
      "predicted A:\n",
      "tensor([[-0.2338,  0.2650],\n",
      "        [-0.3022, -0.4390]], grad_fn=<AsStridedBackward>)\n",
      "epoch: 98\n",
      "step: 9800\n",
      "train loss: 0.06420796439338342\n"
     ]
    },
    {
     "name": "stderr",
     "output_type": "stream",
     "text": [
      " 99%|█████████▉| 99/100 [05:00<00:02,  2.95s/it]"
     ]
    },
    {
     "name": "stdout",
     "output_type": "stream",
     "text": [
      "predicted A:\n",
      "tensor([[-0.0400, -0.7725],\n",
      "        [-0.2759, -0.2212]], grad_fn=<AsStridedBackward>)\n",
      "epoch: 99\n",
      "step: 9900\n",
      "train loss: 0.05960297868170849\n"
     ]
    },
    {
     "name": "stderr",
     "output_type": "stream",
     "text": [
      "100%|██████████| 100/100 [05:04<00:00,  3.04s/it]"
     ]
    },
    {
     "name": "stdout",
     "output_type": "stream",
     "text": [
      "predicted A:\n",
      "tensor([[-0.3374,  0.0138],\n",
      "        [-0.1415, -0.4147]], grad_fn=<AsStridedBackward>)\n",
      "epoch: 100\n",
      "step: 10000\n",
      "train loss: 0.046427779309875614\n",
      "...training complete\n"
     ]
    },
    {
     "name": "stderr",
     "output_type": "stream",
     "text": [
      "\n"
     ]
    },
    {
     "data": {
      "image/png": "[encoded data removed]",
      "text/plain": [
       "<Figure size 432x288 with 1 Axes>"
      ]
     },
     "metadata": {
      "needs_background": "light"
     },
     "output_type": "display_data"
    }
   ],
   "source": [
    "p = torch.Tensor([[0., 1., -1., 0]])\n",
    "z0 = torch.Tensor([[0., 1.]])\n",
    "hid_dim = 10\n",
    "\n",
    "t_max = 6.29*5\n",
    "n_points = 200\n",
    "\n",
    "index_np = np.arange(0, n_points, 1, dtype=np.int)\n",
    "index_np = np.hstack([index_np[:, None]])\n",
    "times_np = np.linspace(0, t_max, num=n_points)\n",
    "times_np = np.hstack([times_np[:, None]])\n",
    "delta = 50\n",
    "\n",
    "times = torch.from_numpy(times_np[:, :, None]).to(z0)\n",
    "ode_true = VaeNeuralODE(LinearODEF(p))\n",
    "obs = ode_true(z0, times, return_whole_sequence=True).detach()\n",
    "obs = obs + torch.randn_like(obs) * 0.01\n",
    "obs = obs.detach().requires_grad_(True)\n",
    "print('Real A:')\n",
    "print(ode_true.param.view(2,2))\n",
    "\n",
    "ode_train = VaeODENeuralNet(delta, hid_dim, p.shape[1])\n",
    "optimizer = optim.Adam(ode_train.parameters(), lr=0.01)\n",
    "loss_fn = nn.MSELoss()\n",
    "train_loss_store = []\n",
    "train_loss = 0\n",
    "current_step = 0\n",
    "\n",
    "#Training \n",
    "print('Beginning training...')\n",
    "for epoch in tqdm(range(100)):\n",
    "    obs_, ts_ = batch_sampling(obs, times, t_max)\n",
    "    for i, (x, t) in enumerate(zip(obs_, ts_)): #x.shape = [50, 1, 2]\n",
    "        current_step += 1\n",
    "        x = x.squeeze(1)\n",
    "        x = x[:,0]\n",
    "        z_, p = ode_train(x, t)\n",
    "        z_ = z_.squeeze(1)\n",
    "        loss = loss_fn(z_, x.detach())\n",
    "        loss.requires_grad_(True)\n",
    "        optimizer.zero_grad()\n",
    "        loss.backward()\n",
    "        optimizer.step()\n",
    "        \n",
    "        train_loss += loss.item()\n",
    "    train_loss /= (i+1)\n",
    "    print('predicted A:')\n",
    "    print(p.reshape(2,2))\n",
    "    train_loss_store.append(float(train_loss))\n",
    "    print('epoch:', epoch+1)\n",
    "    print('step:', current_step)\n",
    "    print('train loss:', train_loss)\n",
    "    if epoch%10 == 0:\n",
    "        plt.plot(x.detach().numpy(), label='Ground Truth')\n",
    "        plt.plot(z_.detach().numpy(), label='Predicted');\n",
    "        plt.legend()\n",
    "        plt.show()\n",
    "print('...training complete')        \n",
    "plt.plot(train_loss_store)\n",
    "plt.show()"
   ]
  },
  {
   "cell_type": "code",
   "execution_count": null,
   "metadata": {},
   "outputs": [],
   "source": [
    "#TODO: train with a simplest decoder (without any layers or activation functions)"
   ]
  },
  {
   "cell_type": "code",
   "execution_count": 289,
   "metadata": {},
   "outputs": [],
   "source": [
    "a = torch.Tensor(50, 1, 2)"
   ]
  },
  {
   "cell_type": "code",
   "execution_count": 291,
   "metadata": {},
   "outputs": [
    {
     "data": {
      "text/plain": [
       "torch.Size([50, 1, 2])"
      ]
     },
     "execution_count": 291,
     "metadata": {},
     "output_type": "execute_result"
    }
   ],
   "source": [
    "a.view(50, 1, 2).shape"
   ]
  },
  {
   "cell_type": "code",
   "execution_count": 18,
   "metadata": {},
   "outputs": [
    {
     "data": {
      "text/plain": [
       "tensor([1., 2., 3., 4.])"
      ]
     },
     "execution_count": 18,
     "metadata": {},
     "output_type": "execute_result"
    }
   ],
   "source": [
    "a"
   ]
  },
  {
   "cell_type": "code",
   "execution_count": 19,
   "metadata": {},
   "outputs": [],
   "source": [
    "A=a.reshape(2,2)"
   ]
  },
  {
   "cell_type": "code",
   "execution_count": 20,
   "metadata": {},
   "outputs": [],
   "source": [
    "x = torch.Tensor([0,1])"
   ]
  },
  {
   "cell_type": "code",
   "execution_count": 21,
   "metadata": {},
   "outputs": [
    {
     "data": {
      "text/plain": [
       "tensor([2., 4.])"
      ]
     },
     "execution_count": 21,
     "metadata": {},
     "output_type": "execute_result"
    }
   ],
   "source": [
    "A.matmul(x)"
   ]
  },
  {
   "cell_type": "code",
   "execution_count": 4,
   "metadata": {},
   "outputs": [],
   "source": [
    "z0 = torch.Tensor([1.,0.])"
   ]
  },
  {
   "cell_type": "code",
   "execution_count": 5,
   "metadata": {},
   "outputs": [],
   "source": [
    "z = torch.zeros(100,200,2).to(z0)"
   ]
  },
  {
   "cell_type": "code",
   "execution_count": 6,
   "metadata": {},
   "outputs": [
    {
     "data": {
      "text/plain": [
       "torch.Size([100, 200, 2])"
      ]
     },
     "execution_count": 6,
     "metadata": {},
     "output_type": "execute_result"
    }
   ],
   "source": [
    "z.shape"
   ]
  },
  {
   "cell_type": "code",
   "execution_count": 242,
   "metadata": {},
   "outputs": [
    {
     "data": {
      "text/plain": [
       "torch.Size([200, 2])"
      ]
     },
     "execution_count": 242,
     "metadata": {},
     "output_type": "execute_result"
    }
   ],
   "source": [
    "z[0,:,:].shape"
   ]
  },
  {
   "cell_type": "code",
   "execution_count": 7,
   "metadata": {},
   "outputs": [],
   "source": [
    "t = np.arange(0,10,0.1)"
   ]
  },
  {
   "cell_type": "code",
   "execution_count": 8,
   "metadata": {},
   "outputs": [],
   "source": [
    "time_len = len(t)"
   ]
  },
  {
   "cell_type": "code",
   "execution_count": 9,
   "metadata": {},
   "outputs": [],
   "source": [
    "z[0] = z0"
   ]
  },
  {
   "cell_type": "code",
   "execution_count": 10,
   "metadata": {},
   "outputs": [
    {
     "data": {
      "text/plain": [
       "tensor([[ 0.,  1.],\n",
       "        [-1.,  0.]])"
      ]
     },
     "execution_count": 10,
     "metadata": {},
     "output_type": "execute_result"
    }
   ],
   "source": [
    "A = torch.tensor([[0.,1.], [-1.,0.]])\n",
    "A"
   ]
  },
  {
   "cell_type": "code",
   "execution_count": 11,
   "metadata": {},
   "outputs": [],
   "source": [
    "f = lambda x, t, A: A.matmul(x)"
   ]
  },
  {
   "cell_type": "code",
   "execution_count": 12,
   "metadata": {},
   "outputs": [],
   "source": [
    "for it in range(time_len - 1):\n",
    "    z0 = ode_solve(z0, t[0], t[1], f, A)\n",
    "    z[it+1] = z0"
   ]
  },
  {
   "cell_type": "code",
   "execution_count": 13,
   "metadata": {},
   "outputs": [
    {
     "data": {
      "text/plain": [
       "tensor([ 1.0000,  0.9975,  0.9850,  0.9626,  0.9304,  0.8888,  0.8381,  0.7787,\n",
       "         0.7113,  0.6363,  0.5547,  0.4671,  0.3743,  0.2774,  0.1772,  0.0747,\n",
       "        -0.0290, -0.1330, -0.2361, -0.3374, -0.4359, -0.5304, -0.6202, -0.7041,\n",
       "        -0.7815, -0.8514, -0.9132, -0.9661, -1.0096, -1.0432, -1.0666, -1.0794,\n",
       "        -1.0815, -1.0728, -1.0532, -1.0231, -0.9825, -0.9320, -0.8718, -0.8026,\n",
       "        -0.7251, -0.6399, -0.5478, -0.4499, -0.3469, -0.2400, -0.1301, -0.0183,\n",
       "         0.0942,  0.2063,  0.3169,  0.4248,  0.5291,  0.6286,  0.7223,  0.8093,\n",
       "         0.8886,  0.9594,  1.0209,  1.0725,  1.1137,  1.1439,  1.1629,  1.1703,\n",
       "         1.1660,  1.1500,  1.1225,  1.0835,  1.0336,  0.9730,  0.9024,  0.8225,\n",
       "         0.7338,  0.6374,  0.5342,  0.4251,  0.3112,  0.1936,  0.0734, -0.0480,\n",
       "        -0.1696, -0.2901, -0.4083, -0.5230, -0.6331, -0.7373, -0.8348, -0.9243,\n",
       "        -1.0050, -1.0761, -1.1368, -1.1864, -1.2244, -1.2503, -1.2639, -1.2648,\n",
       "        -1.2531, -1.2289, -1.1921, -1.1433])"
      ]
     },
     "execution_count": 13,
     "metadata": {},
     "output_type": "execute_result"
    }
   ],
   "source": [
    "z[:,0,0]"
   ]
  },
  {
   "cell_type": "code",
   "execution_count": 120,
   "metadata": {},
   "outputs": [
    {
     "data": {
      "text/plain": [
       "torch.Size([100, 100, 2])"
      ]
     },
     "execution_count": 120,
     "metadata": {},
     "output_type": "execute_result"
    }
   ],
   "source": [
    "z.shape"
   ]
  },
  {
   "cell_type": "code",
   "execution_count": 14,
   "metadata": {},
   "outputs": [
    {
     "data": {
      "text/plain": [
       "[<matplotlib.lines.Line2D at 0x11a0bf518>]"
      ]
     },
     "execution_count": 14,
     "metadata": {},
     "output_type": "execute_result"
    },
    {
     "data": {
      "image/png": "[encoded data removed]",
      "text/plain": [
       "<Figure size 432x288 with 1 Axes>"
      ]
     },
     "metadata": {
      "needs_background": "light"
     },
     "output_type": "display_data"
    }
   ],
   "source": [
    "plt.plot(z[:,1,0].numpy())"
   ]
  },
  {
   "cell_type": "code",
   "execution_count": 15,
   "metadata": {},
   "outputs": [],
   "source": [
    "z0 = torch.Tensor([0.,1.])"
   ]
  },
  {
   "cell_type": "code",
   "execution_count": 16,
   "metadata": {},
   "outputs": [],
   "source": [
    "z0 = z0.detach().requires_grad_(True)"
   ]
  },
  {
   "cell_type": "code",
   "execution_count": 29,
   "metadata": {},
   "outputs": [],
   "source": [
    "out = f(z0,t,A)"
   ]
  },
  {
   "cell_type": "code",
   "execution_count": 30,
   "metadata": {},
   "outputs": [
    {
     "data": {
      "text/plain": [
       "tensor([1., 0.], grad_fn=<MvBackward>)"
      ]
     },
     "execution_count": 30,
     "metadata": {},
     "output_type": "execute_result"
    }
   ],
   "source": [
    "out"
   ]
  },
  {
   "cell_type": "code",
   "execution_count": 375,
   "metadata": {},
   "outputs": [
    {
     "data": {
      "text/plain": [
       "(tensor([0., 1.], grad_fn=<MvBackward>),)"
      ]
     },
     "execution_count": 375,
     "metadata": {},
     "output_type": "execute_result"
    }
   ],
   "source": [
    "torch.autograd.grad(out[0], z0, retain_graph=True, create_graph=True)"
   ]
  },
  {
   "cell_type": "code",
   "execution_count": 376,
   "metadata": {},
   "outputs": [
    {
     "data": {
      "text/plain": [
       "(tensor([-1.,  0.], grad_fn=<MvBackward>),)"
      ]
     },
     "execution_count": 376,
     "metadata": {},
     "output_type": "execute_result"
    }
   ],
   "source": [
    "torch.autograd.grad(out[1], z0, retain_graph=True, create_graph=True)"
   ]
  },
  {
   "cell_type": "code",
   "execution_count": 377,
   "metadata": {},
   "outputs": [
    {
     "data": {
      "text/plain": [
       "(tensor([[0., 1.],\n",
       "         [0., 0.]], grad_fn=<GerBackward>),)"
      ]
     },
     "execution_count": 377,
     "metadata": {},
     "output_type": "execute_result"
    }
   ],
   "source": [
    "torch.autograd.grad(out[0], A, retain_graph=True, create_graph=True)"
   ]
  },
  {
   "cell_type": "code",
   "execution_count": 378,
   "metadata": {},
   "outputs": [
    {
     "data": {
      "text/plain": [
       "(tensor([[0., 0.],\n",
       "         [0., 1.]], grad_fn=<GerBackward>),)"
      ]
     },
     "execution_count": 378,
     "metadata": {},
     "output_type": "execute_result"
    }
   ],
   "source": [
    "torch.autograd.grad(out[1], A, retain_graph=True, create_graph=True)"
   ]
  },
  {
   "cell_type": "code",
   "execution_count": 354,
   "metadata": {},
   "outputs": [
    {
     "data": {
      "text/plain": [
       "tensor([ 0., -1.], grad_fn=<SelectBackward>)"
      ]
     },
     "execution_count": 354,
     "metadata": {},
     "output_type": "execute_result"
    }
   ],
   "source": [
    "A[:,0]"
   ]
  },
  {
   "cell_type": "code",
   "execution_count": 23,
   "metadata": {},
   "outputs": [
    {
     "data": {
      "text/plain": [
       "tensor([[ 0.,  1.],\n",
       "        [-1.,  0.]], requires_grad=True)"
      ]
     },
     "execution_count": 23,
     "metadata": {},
     "output_type": "execute_result"
    }
   ],
   "source": [
    "A.requires_grad_(True)"
   ]
  },
  {
   "cell_type": "code",
   "execution_count": 19,
   "metadata": {},
   "outputs": [
    {
     "data": {
      "text/plain": [
       "(tensor([-1.,  0.]),)"
      ]
     },
     "execution_count": 19,
     "metadata": {},
     "output_type": "execute_result"
    }
   ],
   "source": [
    "torch.autograd.grad(out, z0, grad_outputs=torch.Tensor([0.,1.]))"
   ]
  },
  {
   "cell_type": "code",
   "execution_count": 31,
   "metadata": {},
   "outputs": [
    {
     "data": {
      "text/plain": [
       "(tensor([[0., 1.],\n",
       "         [0., 1.]], grad_fn=<GerBackward>),)"
      ]
     },
     "execution_count": 31,
     "metadata": {},
     "output_type": "execute_result"
    }
   ],
   "source": [
    "torch.autograd.grad(out, A, grad_outputs=torch.Tensor([[1.,0.], [0.,1.]]), retain_graph=True, create_graph=True)"
   ]
  },
  {
   "cell_type": "code",
   "execution_count": null,
   "metadata": {},
   "outputs": [],
   "source": []
  }
 ],
 "metadata": {
  "kernelspec": {
   "display_name": "Python 3",
   "language": "python",
   "name": "python3"
  },
  "language_info": {
   "codemirror_mode": {
    "name": "ipython",
    "version": 3
   },
   "file_extension": ".py",
   "mimetype": "text/x-python",
   "name": "python",
   "nbconvert_exporter": "python",
   "pygments_lexer": "ipython3",
   "version": "3.7.3"
  }
 },
 "nbformat": 4,
 "nbformat_minor": 4
}
