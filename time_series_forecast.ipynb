{
 "cells": [
  {
   "cell_type": "code",
   "execution_count": 35,
   "metadata": {},
   "outputs": [],
   "source": [
    "import torch\n",
    "import torch.nn as nn\n",
    "import torch.optim as optim\n",
    "import pandas as pd\n",
    "\n",
    "from DynamicalSystemLayer import *\n",
    "from models import *\n",
    "from utiils import train_model"
   ]
  },
  {
   "cell_type": "code",
   "execution_count": 2,
   "metadata": {},
   "outputs": [],
   "source": [
    "import matplotlib.pyplot as plt"
   ]
  },
  {
   "cell_type": "code",
   "execution_count": 3,
   "metadata": {},
   "outputs": [],
   "source": [
    "import numpy as np"
   ]
  },
  {
   "cell_type": "markdown",
   "metadata": {},
   "source": [
    "# Real data : data preparation"
   ]
  },
  {
   "cell_type": "code",
   "execution_count": 4,
   "metadata": {},
   "outputs": [],
   "source": [
    "data_path = '../data/'\n",
    "data = pd.read_parquet(data_path+'SPY_hourly.parquet')"
   ]
  },
  {
   "cell_type": "code",
   "execution_count": 6,
   "metadata": {},
   "outputs": [
    {
     "data": {
      "image/png": "[encoded data removed]",
      "text/plain": [
       "<Figure size 432x288 with 1 Axes>"
      ]
     },
     "metadata": {
      "needs_background": "light"
     },
     "output_type": "display_data"
    }
   ],
   "source": [
    "plt.plot(data.values)\n",
    "plt.show()"
   ]
  },
  {
   "cell_type": "code",
   "execution_count": 7,
   "metadata": {},
   "outputs": [
    {
     "data": {
      "text/html": [
       "<div>\n",
       "<style scoped>\n",
       "    .dataframe tbody tr th:only-of-type {\n",
       "        vertical-align: middle;\n",
       "    }\n",
       "\n",
       "    .dataframe tbody tr th {\n",
       "        vertical-align: top;\n",
       "    }\n",
       "\n",
       "    .dataframe thead th {\n",
       "        text-align: right;\n",
       "    }\n",
       "</style>\n",
       "<table border=\"1\" class=\"dataframe\">\n",
       "  <thead>\n",
       "    <tr style=\"text-align: right;\">\n",
       "      <th></th>\n",
       "      <th>Price</th>\n",
       "    </tr>\n",
       "    <tr>\n",
       "      <th>timestamp</th>\n",
       "      <th></th>\n",
       "    </tr>\n",
       "  </thead>\n",
       "  <tbody>\n",
       "    <tr>\n",
       "      <th>2010-01-04 14:59:00</th>\n",
       "      <td>112.835</td>\n",
       "    </tr>\n",
       "    <tr>\n",
       "      <th>2010-01-04 15:59:00</th>\n",
       "      <td>113.105</td>\n",
       "    </tr>\n",
       "    <tr>\n",
       "      <th>2010-01-04 16:59:00</th>\n",
       "      <td>113.275</td>\n",
       "    </tr>\n",
       "    <tr>\n",
       "      <th>2010-01-04 17:59:00</th>\n",
       "      <td>113.325</td>\n",
       "    </tr>\n",
       "    <tr>\n",
       "      <th>2010-01-04 18:59:00</th>\n",
       "      <td>113.195</td>\n",
       "    </tr>\n",
       "    <tr>\n",
       "      <th>...</th>\n",
       "      <td>...</td>\n",
       "    </tr>\n",
       "    <tr>\n",
       "      <th>2019-06-28 15:59:00</th>\n",
       "      <td>292.545</td>\n",
       "    </tr>\n",
       "    <tr>\n",
       "      <th>2019-06-28 16:59:00</th>\n",
       "      <td>292.995</td>\n",
       "    </tr>\n",
       "    <tr>\n",
       "      <th>2019-06-28 17:59:00</th>\n",
       "      <td>292.555</td>\n",
       "    </tr>\n",
       "    <tr>\n",
       "      <th>2019-06-28 18:59:00</th>\n",
       "      <td>292.335</td>\n",
       "    </tr>\n",
       "    <tr>\n",
       "      <th>2019-06-28 19:59:00</th>\n",
       "      <td>293.085</td>\n",
       "    </tr>\n",
       "  </tbody>\n",
       "</table>\n",
       "<p>16649 rows × 1 columns</p>\n",
       "</div>"
      ],
      "text/plain": [
       "                       Price\n",
       "timestamp                   \n",
       "2010-01-04 14:59:00  112.835\n",
       "2010-01-04 15:59:00  113.105\n",
       "2010-01-04 16:59:00  113.275\n",
       "2010-01-04 17:59:00  113.325\n",
       "2010-01-04 18:59:00  113.195\n",
       "...                      ...\n",
       "2019-06-28 15:59:00  292.545\n",
       "2019-06-28 16:59:00  292.995\n",
       "2019-06-28 17:59:00  292.555\n",
       "2019-06-28 18:59:00  292.335\n",
       "2019-06-28 19:59:00  293.085\n",
       "\n",
       "[16649 rows x 1 columns]"
      ]
     },
     "execution_count": 7,
     "metadata": {},
     "output_type": "execute_result"
    }
   ],
   "source": [
    "data"
   ]
  },
  {
   "cell_type": "code",
   "execution_count": 5,
   "metadata": {},
   "outputs": [
    {
     "data": {
      "text/plain": [
       "timestamp\n",
       "2010-01-04 14:59:00    112.835\n",
       "2010-01-04 15:59:00    113.105\n",
       "2010-01-04 16:59:00    113.275\n",
       "2010-01-04 17:59:00    113.325\n",
       "2010-01-04 18:59:00    113.195\n",
       "                        ...   \n",
       "2019-06-28 15:59:00    292.545\n",
       "2019-06-28 16:59:00    292.995\n",
       "2019-06-28 17:59:00    292.555\n",
       "2019-06-28 18:59:00    292.335\n",
       "2019-06-28 19:59:00    293.085\n",
       "Name: Price, Length: 16649, dtype: float64"
      ]
     },
     "execution_count": 5,
     "metadata": {},
     "output_type": "execute_result"
    }
   ],
   "source": [
    "price = data['Price']\n",
    "price"
   ]
  },
  {
   "cell_type": "code",
   "execution_count": 9,
   "metadata": {},
   "outputs": [
    {
     "data": {
      "text/plain": [
       "(16649,)"
      ]
     },
     "execution_count": 9,
     "metadata": {},
     "output_type": "execute_result"
    }
   ],
   "source": [
    "price.shape"
   ]
  },
  {
   "cell_type": "code",
   "execution_count": 6,
   "metadata": {},
   "outputs": [],
   "source": [
    "price_stand = (price.values - price.values.mean())/price.values.std()"
   ]
  },
  {
   "cell_type": "code",
   "execution_count": 7,
   "metadata": {},
   "outputs": [
    {
     "data": {
      "text/plain": [
       "array([-1.41977533, -1.41484644, -1.41174307, ...,  1.86103956,\n",
       "        1.85702343,  1.87071479])"
      ]
     },
     "execution_count": 7,
     "metadata": {},
     "output_type": "execute_result"
    }
   ],
   "source": [
    "price_stand"
   ]
  },
  {
   "cell_type": "code",
   "execution_count": 23,
   "metadata": {},
   "outputs": [
    {
     "data": {
      "text/plain": [
       "1.9210989937522152"
      ]
     },
     "execution_count": 23,
     "metadata": {},
     "output_type": "execute_result"
    }
   ],
   "source": [
    "max(price_stand)"
   ]
  },
  {
   "cell_type": "code",
   "execution_count": 24,
   "metadata": {},
   "outputs": [
    {
     "data": {
      "text/plain": [
       "-1.6267886895972874"
      ]
     },
     "execution_count": 24,
     "metadata": {},
     "output_type": "execute_result"
    }
   ],
   "source": [
    "min(price_stand)"
   ]
  },
  {
   "cell_type": "code",
   "execution_count": 20,
   "metadata": {},
   "outputs": [
    {
     "data": {
      "image/png": "[encoded data removed]",
      "text/plain": [
       "<Figure size 432x288 with 1 Axes>"
      ]
     },
     "metadata": {
      "needs_background": "light"
     },
     "output_type": "display_data"
    }
   ],
   "source": [
    "plt.plot(price_stand.values)\n",
    "plt.show()"
   ]
  },
  {
   "cell_type": "code",
   "execution_count": 29,
   "metadata": {},
   "outputs": [],
   "source": [
    "nan_detect = np.isnan(price_stand)"
   ]
  },
  {
   "cell_type": "code",
   "execution_count": 31,
   "metadata": {},
   "outputs": [
    {
     "data": {
      "text/plain": [
       "array([False])"
      ]
     },
     "execution_count": 31,
     "metadata": {},
     "output_type": "execute_result"
    }
   ],
   "source": [
    "np.unique(nan_detect)"
   ]
  },
  {
   "cell_type": "code",
   "execution_count": 37,
   "metadata": {},
   "outputs": [
    {
     "data": {
      "text/plain": [
       "array([-1.41977533, -1.41484644, -1.41174307, ...,  1.86103956,\n",
       "        1.85702343,  1.87071479])"
      ]
     },
     "execution_count": 37,
     "metadata": {},
     "output_type": "execute_result"
    }
   ],
   "source": [
    "price_stand"
   ]
  },
  {
   "cell_type": "code",
   "execution_count": 73,
   "metadata": {},
   "outputs": [],
   "source": [
    "def train_test_split(feature, ratio=0.8):\n",
    "    train_size = int(len(feature)*ratio)\n",
    "    train_set = feature[:train_size]\n",
    "    test_set = feature[train_size:]\n",
    "    return train_set, test_set"
   ]
  },
  {
   "cell_type": "code",
   "execution_count": 74,
   "metadata": {},
   "outputs": [],
   "source": [
    "train_set, test_set = train_test_split(price_stand)"
   ]
  },
  {
   "cell_type": "code",
   "execution_count": 78,
   "metadata": {},
   "outputs": [
    {
     "data": {
      "text/plain": [
       "(13311,)"
      ]
     },
     "execution_count": 78,
     "metadata": {},
     "output_type": "execute_result"
    }
   ],
   "source": [
    "train_set[:-8].shape"
   ]
  },
  {
   "cell_type": "code",
   "execution_count": 79,
   "metadata": {},
   "outputs": [
    {
     "data": {
      "text/plain": [
       "(3321,)"
      ]
     },
     "execution_count": 79,
     "metadata": {},
     "output_type": "execute_result"
    }
   ],
   "source": [
    "test_set[:-9].shape"
   ]
  },
  {
   "cell_type": "code",
   "execution_count": 47,
   "metadata": {},
   "outputs": [
    {
     "data": {
      "image/png": "[encoded data removed]",
      "text/plain": [
       "<Figure size 432x288 with 1 Axes>"
      ]
     },
     "metadata": {
      "needs_background": "light"
     },
     "output_type": "display_data"
    }
   ],
   "source": [
    "plt.plot(train_set[1:])\n",
    "plt.show()"
   ]
  },
  {
   "cell_type": "code",
   "execution_count": 48,
   "metadata": {},
   "outputs": [
    {
     "data": {
      "image/png": "[encoded data removed]",
      "text/plain": [
       "<Figure size 432x288 with 1 Axes>"
      ]
     },
     "metadata": {
      "needs_background": "light"
     },
     "output_type": "display_data"
    }
   ],
   "source": [
    "plt.plot(test_set[1:])\n",
    "plt.show()"
   ]
  },
  {
   "cell_type": "code",
   "execution_count": 83,
   "metadata": {},
   "outputs": [],
   "source": [
    "train_set = train_set[:-8]\n",
    "test_set = test_set[:-9]"
   ]
  },
  {
   "cell_type": "code",
   "execution_count": 84,
   "metadata": {},
   "outputs": [],
   "source": [
    "train_input = torch.FloatTensor(train_set[:-1]).unsqueeze(1)\n",
    "train_target = torch.FloatTensor(train_set[1:]).unsqueeze(1)\n",
    "test_input = torch.FloatTensor(test_set[:-1]).unsqueeze(1)\n",
    "test_target = torch.FloatTensor(test_set[1:]).unsqueeze(1)"
   ]
  },
  {
   "cell_type": "markdown",
   "metadata": {},
   "source": [
    "# Create the model"
   ]
  },
  {
   "cell_type": "code",
   "execution_count": 39,
   "metadata": {},
   "outputs": [],
   "source": [
    "class NeuralNetODE(nn.Module):\n",
    "    def __init__(self, in_dim, hid_dim, out_dim, bias=False):\n",
    "        super(NeuralNetODE, self).__init__()\n",
    "        self.in_dim = in_dim\n",
    "        self.hid_dim = hid_dim\n",
    "        self.out_dim = out_dim\n",
    "        \n",
    "        self.bias = bias\n",
    "        \n",
    "        #layers\n",
    "        self.fc1 = nn.Linear(in_features=self.in_dim, out_features=self.in_dim)\n",
    "        self.ode = NNODEModel(self.in_dim, self.hid_dim, self.out_dim)\n",
    "        self.fc2 = nn.Linear(in_features=self.out_dim, out_features=self.out_dim)\n",
    "        \n",
    "        \n",
    "    def forward(self, x):\n",
    "        out = self.fc1(x)\n",
    "        out = self.ode(out)\n",
    "        out = self.fc2(out)\n",
    "        return out\n",
    "    "
   ]
  },
  {
   "cell_type": "code",
   "execution_count": 88,
   "metadata": {},
   "outputs": [],
   "source": [
    "def test_model(model, test_x, test_y, loss_fn, batch_size=1):\n",
    "    test_loss = 0\n",
    "    with torch.no_grad():\n",
    "        for b in range(0, test_x.size(0), batch_size):\n",
    "            pred = model(test_x.narrow(0, b, batch_size))\n",
    "            loss = loss_fn(pred, test_y.narrow(0, b, batch_size))\n",
    "            test_loss += loss.item()\n",
    "        return test_loss, pred"
   ]
  },
  {
   "cell_type": "code",
   "execution_count": 92,
   "metadata": {},
   "outputs": [],
   "source": [
    "input_dim = 1\n",
    "model = NeuralNetODE(input_dim, input_dim, input_dim)"
   ]
  },
  {
   "cell_type": "code",
   "execution_count": 93,
   "metadata": {},
   "outputs": [],
   "source": [
    "loss_fn = nn.MSELoss()\n",
    "optimizer = optim.Adagrad(model.parameters(), lr=1e-2)\n",
    "n_epoch = 1000\n",
    "train_losses = []\n",
    "test_losses = []"
   ]
  },
  {
   "cell_type": "code",
   "execution_count": 94,
   "metadata": {},
   "outputs": [
    {
     "name": "stdout",
     "output_type": "stream",
     "text": [
      "Epoch: 1 , train_loss: 118.15543443291881 , test_loss: 2.2807590533047915\n",
      "Epoch: 11 , train_loss: 0.12508780745201875 , test_loss: 0.08466431765521065\n",
      "Epoch: 21 , train_loss: 0.1250711123873316 , test_loss: 0.08469327809882543\n",
      "Epoch: 31 , train_loss: 0.1250710262784196 , test_loss: 0.08469355427610026\n",
      "Epoch: 41 , train_loss: 0.12507092912096596 , test_loss: 0.08469373853984052\n",
      "Epoch: 51 , train_loss: 0.12507076268502715 , test_loss: 0.08469368761279839\n",
      "Epoch: 61 , train_loss: 0.12507069866751408 , test_loss: 0.08469344462878325\n",
      "Epoch: 71 , train_loss: 0.12507066373336784 , test_loss: 0.08469358137665495\n",
      "Epoch: 81 , train_loss: 0.12507051233910715 , test_loss: 0.08469344876868945\n",
      "Epoch: 91 , train_loss: 0.1250704777107785 , test_loss: 0.08469375308220606\n",
      "Epoch: 101 , train_loss: 0.12507033919428068 , test_loss: 0.08469350752318405\n",
      "Epoch: 111 , train_loss: 0.12507022839986348 , test_loss: 0.08469362213782006\n",
      "Epoch: 121 , train_loss: 0.12507011015668468 , test_loss: 0.0846938027939359\n",
      "Epoch: 131 , train_loss: 0.12507011522507128 , test_loss: 0.08469359037212598\n",
      "Epoch: 141 , train_loss: 0.12506984723495407 , test_loss: 0.08469357167598446\n",
      "Epoch: 151 , train_loss: 0.1250698909464063 , test_loss: 0.08469360926937952\n",
      "Epoch: 161 , train_loss: 0.12506975803080422 , test_loss: 0.08469384375962363\n",
      "Epoch: 171 , train_loss: 0.12506964923068153 , test_loss: 0.08469384848694972\n",
      "Epoch: 181 , train_loss: 0.12506954648961255 , test_loss: 0.08469372152842425\n",
      "Epoch: 191 , train_loss: 0.1250695301127962 , test_loss: 0.08469403985282042\n",
      "Epoch: 201 , train_loss: 0.12506938951150914 , test_loss: 0.08469408108885546\n",
      "Epoch: 211 , train_loss: 0.12506928554989827 , test_loss: 0.08469372219872184\n",
      "Epoch: 221 , train_loss: 0.12506924456397428 , test_loss: 0.0846938586576016\n",
      "Epoch: 231 , train_loss: 0.12506907870806572 , test_loss: 0.08469371625801614\n",
      "Epoch: 241 , train_loss: 0.12506895759270265 , test_loss: 0.08469378948609574\n",
      "Epoch: 251 , train_loss: 0.12506887926087984 , test_loss: 0.08469397887859031\n",
      "Epoch: 261 , train_loss: 0.1250688024961164 , test_loss: 0.0846938484032762\n",
      "Epoch: 271 , train_loss: 0.12506874384553157 , test_loss: 0.08469399928446819\n",
      "Epoch: 281 , train_loss: 0.12506873348365843 , test_loss: 0.08469394143367026\n",
      "Epoch: 291 , train_loss: 0.12506867125512144 , test_loss: 0.08469361947516063\n",
      "Epoch: 301 , train_loss: 0.12506857136690996 , test_loss: 0.08469374974447419\n",
      "Epoch: 311 , train_loss: 0.1250684714914314 , test_loss: 0.08469391881885713\n",
      "Epoch: 321 , train_loss: 0.125068322860443 , test_loss: 0.084694193959308\n",
      "Epoch: 331 , train_loss: 0.12506828890354882 , test_loss: 0.08469429264073369\n",
      "Epoch: 341 , train_loss: 0.12506823227181485 , test_loss: 0.08469398105069104\n",
      "Epoch: 351 , train_loss: 0.12506812004266976 , test_loss: 0.08469391463370357\n",
      "Epoch: 361 , train_loss: 0.12506799364177823 , test_loss: 0.08469415622130327\n",
      "Epoch: 371 , train_loss: 0.1250679607312577 , test_loss: 0.08469389514709746\n",
      "Epoch: 381 , train_loss: 0.12506791172199883 , test_loss: 0.08469421447011882\n",
      "Epoch: 391 , train_loss: 0.12506778411761843 , test_loss: 0.08469430837124037\n",
      "Epoch: 401 , train_loss: 0.12506766986030016 , test_loss: 0.08469410864006477\n",
      "Epoch: 411 , train_loss: 0.12506759803909517 , test_loss: 0.08469423130327414\n",
      "Epoch: 421 , train_loss: 0.12506754587570867 , test_loss: 0.08469428800469814\n",
      "Epoch: 431 , train_loss: 0.12506745640621375 , test_loss: 0.08469434702226408\n",
      "Epoch: 441 , train_loss: 0.12506729260530847 , test_loss: 0.08469443588137437\n",
      "Epoch: 451 , train_loss: 0.12506724251875312 , test_loss: 0.08469438452050326\n",
      "Epoch: 461 , train_loss: 0.12506717561041114 , test_loss: 0.08469452967267443\n",
      "Epoch: 471 , train_loss: 0.12506711126911796 , test_loss: 0.08469444477009347\n",
      "Epoch: 481 , train_loss: 0.12506697439630443 , test_loss: 0.0846945211513912\n",
      "Epoch: 491 , train_loss: 0.1250668938207582 , test_loss: 0.08469474045500647\n",
      "Epoch: 501 , train_loss: 0.12506671743813058 , test_loss: 0.0846946377482709\n",
      "Epoch: 511 , train_loss: 0.1250666229457238 , test_loss: 0.0846944936786258\n",
      "Epoch: 521 , train_loss: 0.12506650345335402 , test_loss: 0.08469438181941769\n",
      "Epoch: 531 , train_loss: 0.12506643187498412 , test_loss: 0.08469431136916228\n",
      "Epoch: 541 , train_loss: 0.12506642687390013 , test_loss: 0.08469429012006913\n",
      "Epoch: 551 , train_loss: 0.12506637752107963 , test_loss: 0.08469431987634835\n",
      "Epoch: 561 , train_loss: 0.12506630175425926 , test_loss: 0.0846944336933575\n",
      "Epoch: 571 , train_loss: 0.12506620076533181 , test_loss: 0.08469438975816956\n",
      "Epoch: 581 , train_loss: 0.12506605362659684 , test_loss: 0.08469449108031313\n",
      "Epoch: 591 , train_loss: 0.12506599533594454 , test_loss: 0.08469430185357396\n",
      "Epoch: 601 , train_loss: 0.12506596379557777 , test_loss: 0.08469453032068941\n",
      "Epoch: 611 , train_loss: 0.12506591517171728 , test_loss: 0.0846946733098548\n",
      "Epoch: 621 , train_loss: 0.12506586000972675 , test_loss: 0.08469476165601009\n",
      "Epoch: 631 , train_loss: 0.12506583184404008 , test_loss: 0.08469447541062891\n",
      "Epoch: 641 , train_loss: 0.12506571262224497 , test_loss: 0.0846944500083282\n",
      "Epoch: 651 , train_loss: 0.12506561520149262 , test_loss: 0.08469439763405262\n",
      "Epoch: 661 , train_loss: 0.12506552294280482 , test_loss: 0.08469456266402631\n",
      "Epoch: 671 , train_loss: 0.12506544025154653 , test_loss: 0.0846945220687303\n",
      "Epoch: 681 , train_loss: 0.1250653962713386 , test_loss: 0.08469470314707905\n",
      "Epoch: 691 , train_loss: 0.1250652352916859 , test_loss: 0.08469470556008218\n",
      "Epoch: 701 , train_loss: 0.1250651435616419 , test_loss: 0.08469477686230675\n",
      "Epoch: 711 , train_loss: 0.12506513763355542 , test_loss: 0.08469468552164017\n",
      "Epoch: 721 , train_loss: 0.12506504956968456 , test_loss: 0.0846952521245612\n",
      "Epoch: 731 , train_loss: 0.12506500041672552 , test_loss: 0.08469507910149332\n",
      "Epoch: 741 , train_loss: 0.12506492582292594 , test_loss: 0.08469532636513577\n",
      "Epoch: 751 , train_loss: 0.1250648503357752 , test_loss: 0.08469502336185997\n",
      "Epoch: 761 , train_loss: 0.12506483299057436 , test_loss: 0.0846950686600394\n",
      "Epoch: 771 , train_loss: 0.12506478471755145 , test_loss: 0.08469519492496147\n",
      "Epoch: 781 , train_loss: 0.12506468206925092 , test_loss: 0.0846952665583558\n",
      "Epoch: 791 , train_loss: 0.1250646322639568 , test_loss: 0.08469494480652884\n",
      "Epoch: 801 , train_loss: 0.12506450514638345 , test_loss: 0.08469489947162856\n",
      "Epoch: 811 , train_loss: 0.12506443712686632 , test_loss: 0.08469506456276577\n",
      "Epoch: 821 , train_loss: 0.12506440988704526 , test_loss: 0.0846951995206382\n",
      "Epoch: 831 , train_loss: 0.125064340300014 , test_loss: 0.08469544707463683\n",
      "Epoch: 841 , train_loss: 0.1250642435231839 , test_loss: 0.08469535283552432\n",
      "Epoch: 851 , train_loss: 0.1250641487908979 , test_loss: 0.08469531019204624\n",
      "Epoch: 861 , train_loss: 0.12506403541942746 , test_loss: 0.0846951748048923\n",
      "Epoch: 871 , train_loss: 0.12506400504548765 , test_loss: 0.08469531665116392\n",
      "Epoch: 881 , train_loss: 0.1250639531501747 , test_loss: 0.08469534825655956\n",
      "Epoch: 891 , train_loss: 0.12506384146922755 , test_loss: 0.08469573838954148\n",
      "Epoch: 901 , train_loss: 0.12506372941538757 , test_loss: 0.08469589720664317\n",
      "Epoch: 911 , train_loss: 0.12506360380575643 , test_loss: 0.0846958516608538\n",
      "Epoch: 921 , train_loss: 0.1250635807123217 , test_loss: 0.08469555591057087\n",
      "Epoch: 931 , train_loss: 0.12506349088971547 , test_loss: 0.08469564761060155\n",
      "Epoch: 941 , train_loss: 0.1250633720519545 , test_loss: 0.08469572579497253\n",
      "Epoch: 951 , train_loss: 0.12506338392722682 , test_loss: 0.08469571604814519\n",
      "Epoch: 961 , train_loss: 0.12506323735510705 , test_loss: 0.08469539761279066\n",
      "Epoch: 971 , train_loss: 0.12506319838234958 , test_loss: 0.08469535511528647\n",
      "Epoch: 981 , train_loss: 0.12506311815559457 , test_loss: 0.08469529936905928\n",
      "Epoch: 991 , train_loss: 0.12506301572216216 , test_loss: 0.08469536408131262\n"
     ]
    }
   ],
   "source": [
    "for epoch in range(n_epoch):\n",
    "    model.train()\n",
    "    train_loss,_ = train_model(model, train_input, train_target, loss_fn, optimizer, batch_size=10)\n",
    "    train_losses.append(train_loss)\n",
    "    model.eval()\n",
    "    test_loss,_ = test_model(model, test_input, test_target, loss_fn, batch_size=10)\n",
    "    test_losses.append(test_loss)\n",
    "    if epoch%10 == 0:\n",
    "        print('Epoch:', epoch+1, ', train_loss:', train_loss, ', test_loss:', test_loss)"
   ]
  },
  {
   "cell_type": "code",
   "execution_count": 95,
   "metadata": {},
   "outputs": [
    {
     "data": {
      "image/png": "[encoded data removed]",
      "text/plain": [
       "<Figure size 432x288 with 1 Axes>"
      ]
     },
     "metadata": {
      "needs_background": "light"
     },
     "output_type": "display_data"
    }
   ],
   "source": [
    "plt.figure()\n",
    "plt.plot(train_losses, label='train loss');\n",
    "plt.plot(test_losses, label='test loss')\n",
    "plt.title('Model training')\n",
    "plt.legend()\n",
    "plt.show()"
   ]
  },
  {
   "cell_type": "code",
   "execution_count": 98,
   "metadata": {},
   "outputs": [
    {
     "data": {
      "image/png": "[encoded data removed]",
      "text/plain": [
       "<Figure size 432x288 with 1 Axes>"
      ]
     },
     "metadata": {
      "needs_background": "light"
     },
     "output_type": "display_data"
    }
   ],
   "source": [
    "prediction = model(test_input)\n",
    "plt.figure()\n",
    "plt.plot(test_target.numpy(), label='ground truth');\n",
    "plt.plot(prediction.detach().numpy(), label='prediction')\n",
    "plt.title('fitted model')\n",
    "plt.legend()\n",
    "plt.show()"
   ]
  },
  {
   "cell_type": "code",
   "execution_count": null,
   "metadata": {},
   "outputs": [],
   "source": []
  }
 ],
 "metadata": {
  "kernelspec": {
   "display_name": "Python 3",
   "language": "python",
   "name": "python3"
  },
  "language_info": {
   "codemirror_mode": {
    "name": "ipython",
    "version": 3
   },
   "file_extension": ".py",
   "mimetype": "text/x-python",
   "name": "python",
   "nbconvert_exporter": "python",
   "pygments_lexer": "ipython3",
   "version": "3.7.3"
  }
 },
 "nbformat": 4,
 "nbformat_minor": 4
}
